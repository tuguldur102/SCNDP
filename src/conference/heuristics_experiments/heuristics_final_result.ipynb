{
 "cells": [
  {
   "cell_type": "code",
   "execution_count": 2,
   "id": "81c2da51",
   "metadata": {},
   "outputs": [],
   "source": [
    "import networkx as nx\n",
    "import numpy as np\n",
    "import time\n",
    "import pandas as pd\n",
    "import matplotlib.pyplot as plt\n",
    "from scipy.optimize import linprog\n",
    "from tqdm import tqdm\n",
    "from itertools import combinations\n",
    "from collections import defaultdict, deque\n",
    "import math, random\n",
    "import heapq\n",
    "import scipy.sparse as sp\n",
    "from collections import deque\n",
    "from joblib import Parallel, delayed\n",
    "from typing import Tuple, Dict, List, Set, Sequence, Union\n",
    "import itertools\n",
    "from typing import Any\n",
    "import math\n",
    "import heapq\n",
    "\n",
    "import networkx as nx\n",
    "import numpy as np\n",
    "from numba import njit, prange"
   ]
  },
  {
   "cell_type": "markdown",
   "id": "7b412151",
   "metadata": {},
   "source": [
    "# 0. Component Sampling EPC"
   ]
  },
  {
   "cell_type": "code",
   "execution_count": 3,
   "id": "d6496169",
   "metadata": {},
   "outputs": [],
   "source": [
    "def sigma_exact(\n",
    "    G: nx.Graph,\n",
    "    S: set,\n",
    "    use_tqdm: bool = False\n",
    ") -> int:\n",
    "    from itertools import product\n",
    "    edges = list(G.edges())\n",
    "    total_conn = 0.0\n",
    "\n",
    "    for state in product([0,1], repeat=len(edges)):\n",
    "        p_state = 1\n",
    "        Gp = nx.Graph()\n",
    "        Gp.add_nodes_from(set(G.nodes())-S)\n",
    "\n",
    "        for (e, keep) in zip(edges, state):\n",
    "            p_edge = G.edges[e]['p']\n",
    "            p_state *= (p_edge if keep else (1-p_edge))\n",
    "\n",
    "            if keep and e[0] not in S and e[1] not in S:\n",
    "                Gp.add_edge(*e)\n",
    "\n",
    "        # count connected i<j pairs in Gp−S\n",
    "        for i,j in combinations(set(G.nodes())-S, 2):\n",
    "            if nx.has_path(Gp, i, j):\n",
    "                total_conn += p_state\n",
    "\n",
    "    return total_conn"
   ]
  },
  {
   "cell_type": "code",
   "execution_count": 4,
   "id": "23615ea9",
   "metadata": {},
   "outputs": [],
   "source": [
    "def component_sampling_epc_mc(G, S, num_samples=10_000,\n",
    "                              epsilon=None, delta=None, use_tqdm=False):\n",
    "  \"\"\"\n",
    "  Theoretic bounds: compute N = N(epsilon, delta) by the theoretical bound.\n",
    "  Experimentation:  Otherwise, use the N as input for sample count.\n",
    "  \"\"\"\n",
    "\n",
    "  # Surviving vertex set and its size\n",
    "  V_remaining = set(G.nodes()) - S\n",
    "  n_rem = len(V_remaining)\n",
    "\n",
    "  # base case\n",
    "  if n_rem < 2:\n",
    "    return 0.0\n",
    "\n",
    "  if num_samples is None:\n",
    "    assert epsilon is not None and delta is not None\n",
    "    P_E = sum(G.edges[u, v]['p'] for u, v in G.edges())\n",
    "    coeff = 4 * (math.e - 2) * math.log(2 / delta)\n",
    "    num_samples = math.ceil(coeff * n_rem * (n_rem - 1) /\n",
    "                            (epsilon ** 2 * P_E))\n",
    "\n",
    "  C2 = 0\n",
    "  it = tqdm(range(num_samples), desc='Component sampling',\n",
    "            total=num_samples) if use_tqdm else range(num_samples)\n",
    "\n",
    "  for _ in it:\n",
    "    u = random.choice(tuple(V_remaining))\n",
    "\n",
    "    # BFS based on edge probabilities\n",
    "\n",
    "    visited = {u}\n",
    "    queue = [u]\n",
    "\n",
    "    while queue:\n",
    "\n",
    "      v = queue.pop()\n",
    "      for w in G.neighbors(v):\n",
    "\n",
    "        # flip a coin biased by the edge probability\n",
    "        # w not in deleted nodes\n",
    "        if w in V_remaining and random.random() < G.edges[v, w]['p']:\n",
    "\n",
    "          # if w is not visited\n",
    "          if w not in visited:\n",
    "              visited.add(w)\n",
    "              queue.append(w)\n",
    "\n",
    "    # component counting\n",
    "    C2 += (len(visited) - 1)\n",
    "\n",
    "  return (n_rem * C2) / (2 * num_samples)"
   ]
  },
  {
   "cell_type": "markdown",
   "id": "7af8187e",
   "metadata": {},
   "source": [
    "## 0.1 Optimized EPC"
   ]
  },
  {
   "cell_type": "code",
   "execution_count": 11,
   "id": "b66c7220",
   "metadata": {},
   "outputs": [],
   "source": [
    "def nx_to_csr(G: nx.Graph) -> Tuple[List[int], Dict[int, int], np.ndarray, np.ndarray, np.ndarray]:\n",
    "     \"\"\"Convert an undirected NetworkX graph (edge attr `'p'`) to CSR arrays.\"\"\"\n",
    "     nodes: List[int] = list(G.nodes())\n",
    "     idx_of: Dict[int, int] = {u: i for i, u in enumerate(nodes)}\n",
    "\n",
    "     indptr: List[int] = [0]\n",
    "     indices: List[int] = []\n",
    "     probs: List[float] = []\n",
    "\n",
    "     for u in nodes:\n",
    "         for v in G.neighbors(u):\n",
    "             indices.append(idx_of[v])\n",
    "             probs.append(G.edges[u, v]['p'])\n",
    "         indptr.append(len(indices))\n",
    "\n",
    "     return (\n",
    "         nodes,\n",
    "         idx_of,\n",
    "         np.asarray(indptr, dtype=np.int32),\n",
    "         np.asarray(indices, dtype=np.int32),\n",
    "         np.asarray(probs, dtype=np.float32),\n",
    "     )\n",
    "\n",
    "@njit(inline=\"always\")\n",
    "def _bfs_component_size(start: int,\n",
    "                    indptr: np.ndarray,\n",
    "                    indices: np.ndarray,\n",
    "                    probs: np.ndarray,\n",
    "                    deleted: np.ndarray) -> int:\n",
    "    \"\"\"Return |C_u|−1 for **one** random realisation (stack BFS).\"\"\"\n",
    "    n = deleted.size\n",
    "    stack = np.empty(n, dtype=np.int32)\n",
    "    visited = np.zeros(n, dtype=np.uint8)\n",
    "\n",
    "    size = 1\n",
    "    top = 0\n",
    "    stack[top] = start\n",
    "    top += 1\n",
    "    visited[start] = 1\n",
    "\n",
    "    while top:\n",
    "        top -= 1\n",
    "        v = stack[top]\n",
    "        for eid in range(indptr[v], indptr[v + 1]):\n",
    "            w = indices[eid]\n",
    "            if deleted[w]:\n",
    "                continue\n",
    "            if np.random.random() >= probs[eid]:\n",
    "                continue\n",
    "            if visited[w]:\n",
    "                continue\n",
    "            visited[w] = 1\n",
    "            stack[top] = w\n",
    "            top += 1\n",
    "            size += 1\n",
    "    return size - 1\n",
    "\n",
    "@njit(parallel=True)\n",
    "def epc_mc(indptr: np.ndarray,\n",
    "            indices: np.ndarray,\n",
    "            probs: np.ndarray,\n",
    "            deleted: np.ndarray,\n",
    "            num_samples: int) -> float:\n",
    "    \"\"\"Monte‑Carlo estimator of **expected pairwise connectivity** (EPC).\"\"\"\n",
    "    surv = np.where(~deleted)[0]\n",
    "    m = surv.size\n",
    "    if m < 2:\n",
    "        return 0.0\n",
    "\n",
    "    acc = 0.0\n",
    "    for _ in prange(num_samples):\n",
    "        u = surv[np.random.randint(m)]\n",
    "        acc += _bfs_component_size(u, indptr, indices, probs, deleted)\n",
    "\n",
    "    return (m * acc) / (2.0 * num_samples)\n",
    "\n",
    "def epc_mc_deleted(\n",
    "  G: nx.Graph,\n",
    "  S: set,\n",
    "  num_samples: int = 100_000,\n",
    ") -> float:\n",
    "  # build csr once\n",
    "  nodes, idx_of, indptr, indices, probs = nx_to_csr(G)\n",
    "  n = len(nodes)\n",
    "\n",
    "  # turn python set S into a mask (node-IDs to delete)\n",
    "  deleted = np.zeros(n, dtype=np.bool_)\n",
    "  for u in S:\n",
    "    deleted[idx_of[u]] = True\n",
    "\n",
    "  epc = epc_mc(indptr, indices, probs, deleted, num_samples)\n",
    "\n",
    "  return epc"
   ]
  },
  {
   "cell_type": "markdown",
   "id": "5ef2a95f",
   "metadata": {},
   "source": [
    "# 1. Greedy+EPC optimized"
   ]
  },
  {
   "cell_type": "code",
   "execution_count": 49,
   "id": "caa46503",
   "metadata": {},
   "outputs": [],
   "source": [
    "def greedy_cndp_epc_celf(\n",
    "    G: nx.Graph,\n",
    "    k: int,\n",
    "    *,\n",
    "    num_samples: int = 100_000,\n",
    "    reuse_csr: Tuple = None,\n",
    "    return_trace: bool = False,\n",
    ") -> Union[Set[int], Tuple[Set[int], List[float]]]:\n",
    "    \"\"\"\n",
    "    Select **k** nodes that minimise EPC using CELF & Numba.\n",
    "    \"\"\"\n",
    "\n",
    "    if reuse_csr is None:\n",
    "        nodes, idx_of, indptr, indices, probs = nx_to_csr(G)\n",
    "    else:\n",
    "        nodes, idx_of, indptr, indices, probs = reuse_csr\n",
    "    n = len(nodes)\n",
    "\n",
    "    deleted = np.zeros(n, dtype=np.bool_)\n",
    "    current_sigma = epc_mc(indptr, indices, probs, deleted, num_samples)\n",
    "\n",
    "    pq: List[Tuple[float, int, int]] = []\n",
    "    gains = np.empty(n, dtype=np.float32)\n",
    "\n",
    "    for v in range(n):\n",
    "        deleted[v] = True\n",
    "        gains[v] = current_sigma - epc_mc(indptr, indices, probs, deleted, num_samples)\n",
    "        deleted[v] = False\n",
    "        heapq.heappush(pq, (-gains[v], v, 0))\n",
    "\n",
    "    S: Set[int] = set()\n",
    "    trace: List[float] = []\n",
    "    round_ = 0\n",
    "\n",
    "    trace.append(current_sigma)\n",
    "\n",
    "    while len(S) < k and pq:\n",
    "        neg_gain, v, last = heapq.heappop(pq)\n",
    "        if last == round_:\n",
    "            # gain up‑to‑date → accept\n",
    "            S.add(nodes[v])\n",
    "            deleted[v] = True\n",
    "            current_sigma += neg_gain\n",
    "            round_ += 1\n",
    "            if return_trace:\n",
    "                trace.append(current_sigma)\n",
    "        else:\n",
    "            # recompute gain lazily\n",
    "            deleted[v] = True\n",
    "            new_gain = current_sigma - epc_mc(indptr, indices, probs, deleted, num_samples)\n",
    "            deleted[v] = False\n",
    "            heapq.heappush(pq, (-new_gain, v, round_))\n",
    "\n",
    "    return (S, trace) if return_trace else S\n",
    "\n",
    "def optimise_epc(\n",
    "    G: nx.Graph,\n",
    "    k: int,\n",
    "    *,\n",
    "    num_samples: int = 100_000,\n",
    "    return_trace: bool = False,\n",
    " ) -> Union[Set[int], Tuple[Set[int], List[float]]]:\n",
    "    csr = nx_to_csr(G)\n",
    "    return greedy_cndp_epc_celf(G, k, num_samples=num_samples, reuse_csr=csr, return_trace=return_trace)"
   ]
  },
  {
   "cell_type": "code",
   "execution_count": 54,
   "id": "c1328e5e",
   "metadata": {},
   "outputs": [],
   "source": [
    "def local_search_swap(\n",
    "  # G: nx.Graph,\n",
    "  S: Set[int],\n",
    "  *,\n",
    "  csr: Tuple[List[int], Dict[int,int], np.ndarray, np.ndarray, np.ndarray],\n",
    "  num_samples: int = 100_000,\n",
    "  max_iter: int = 5\n",
    ") -> Set[int]:\n",
    "  \"\"\"\n",
    "  Given initial delete-set S, try 1-for-1 swaps to reduce EPC.\n",
    "  csr = (nodes, idx_of, indptr, indices, probs).\n",
    "  \"\"\"\n",
    "  nodes, idx_of, indptr, indices, probs = csr\n",
    "  n = len(nodes)\n",
    "\n",
    "  # build boolean mask from S\n",
    "  deleted = np.zeros(n, dtype=np.bool_)\n",
    "  for u in S:\n",
    "    deleted[idx_of[u]] = True\n",
    "\n",
    "  # current EPC\n",
    "  curr = epc_mc(indptr, indices, probs, deleted, num_samples)\n",
    "\n",
    "  for it in tqdm(range(max_iter), desc=\"local search\", total=max_iter):\n",
    "    best_delta = 0.0\n",
    "    best_swap = None\n",
    "\n",
    "    # try swapping each i in S with each j not in S\n",
    "    for i in list(S):\n",
    "      ii = idx_of[i]\n",
    "      # undelete i\n",
    "      deleted[ii] = False\n",
    "\n",
    "      for j in nodes:\n",
    "        jj = idx_of[j]\n",
    "        if deleted[jj]:\n",
    "          continue\n",
    "        # delete j\n",
    "        deleted[jj] = True\n",
    "\n",
    "        sigma = epc_mc(indptr, indices, probs, deleted, num_samples)\n",
    "        delta = curr - sigma\n",
    "        if delta > best_delta:\n",
    "          best_delta = delta\n",
    "          best_swap = (ii, jj, sigma)\n",
    "\n",
    "        # revert j\n",
    "        deleted[jj] = False\n",
    "\n",
    "      # revert i\n",
    "\n",
    "      deleted[ii] = True\n",
    "\n",
    "    if best_swap is None:\n",
    "      break   \n",
    "\n",
    "    # commit the best swap\n",
    "    ii, jj, new_sigma = best_swap\n",
    "    deleted[ii] = False\n",
    "    deleted[jj] = True\n",
    "    curr = new_sigma\n",
    "\n",
    "    # update S\n",
    "    S.remove(nodes[ii])\n",
    "    S.add(nodes[jj])\n",
    "\n",
    "  return S"
   ]
  },
  {
   "cell_type": "code",
   "execution_count": null,
   "id": "d11c7d43",
   "metadata": {},
   "outputs": [],
   "source": [
    "def greedy_es_local_opt(\n",
    "    G, K,\n",
    "    num_samples=100_000, local_iter=5, return_trace=True\n",
    "):\n",
    "  G_greedy_es, sigma_delta = optimise_epc(\n",
    "    G=G, k=K, num_samples=num_samples, return_trace=return_trace)\n",
    "\n",
    "  # epc_greedy_es = component_sampling_epc_mc(G_greedy_es, set(), N_SAMPLE)\n",
    "  epc_greedy_es = sigma_delta[-1]\n",
    "\n",
    "  csr = nx_to_csr(G)\n",
    "\n",
    "  S_opt = local_search_swap(\n",
    "    G_greedy_es, csr=csr, \n",
    "    num_samples=num_samples, max_iter=local_iter)\n",
    "\n",
    "  epc_final = epc_mc_deleted(G, S_opt, num_samples)\n",
    "\n",
    "  return epc_greedy_es, epc_final"
   ]
  },
  {
   "cell_type": "code",
   "execution_count": 58,
   "id": "aa92c0e0",
   "metadata": {},
   "outputs": [
    {
     "name": "stderr",
     "output_type": "stream",
     "text": [
      "local search: 100%|██████████| 5/5 [10:10<00:00, 122.01s/it]\n"
     ]
    },
    {
     "data": {
      "text/plain": [
       "(np.float32(3036.5042), 2788.95465)"
      ]
     },
     "execution_count": 58,
     "metadata": {},
     "output_type": "execute_result"
    }
   ],
   "source": [
    "SEED = 42\n",
    "N_SAMPLE = 100_000\n",
    "\n",
    "K = 10\n",
    "NODES = 100\n",
    "G = nx.erdos_renyi_graph(NODES, 0.0443, seed=SEED)\n",
    "\n",
    "p = 0.9\n",
    "\n",
    "for u, v in G.edges():\n",
    "  G[u][v]['p'] = p\n",
    "\n",
    "mean_epc, std_epc = greedy_es_local_opt(\n",
    "  G, K, num_samples=N_SAMPLE,\n",
    "  local_iter=5, return_trace=True)\n",
    "\n",
    "mean_epc, std_epc"
   ]
  },
  {
   "cell_type": "markdown",
   "id": "1ffa6f06",
   "metadata": {},
   "source": [
    "# 2. Greedy+EPC (non-optimized)"
   ]
  },
  {
   "cell_type": "code",
   "execution_count": 7,
   "id": "7997f5b2",
   "metadata": {},
   "outputs": [],
   "source": [
    "def greedy_cndp_epc(\n",
    "    G: nx.Graph,\n",
    "    K: int,\n",
    "    num_samples: int = 100_000,\n",
    "    exact: bool = False,\n",
    "    use_tqdm: bool = False\n",
    ") -> set:\n",
    "  \"\"\"\n",
    "  Algorithm 2 from the paper: Greedy selection of S |S| <= K\n",
    "  to minimize sigma(S) via sigma_monte_carlo().\n",
    "\n",
    "  Returns the list S (in pick order).\n",
    "  \"\"\"\n",
    "\n",
    "  # S <= {Empty set} init\n",
    "  S = set()\n",
    "\n",
    "  Sigma_delta = []\n",
    "  # Current sigma(S) for the empty set\n",
    "  sigma_S = 0\n",
    "  if exact:\n",
    "    sigma_S = sigma_exact(G, S)\n",
    "  else:\n",
    "    sigma_S = component_sampling_epc_mc(G, S, num_samples=num_samples)\n",
    "\n",
    "  Sigma_delta.append(sigma_S)\n",
    "  # print(f\"Initial sigma(S): {sigma_S}\")\n",
    "\n",
    "  if use_tqdm:\n",
    "    it = tqdm(range(K), desc='Greedy selection', total=K)\n",
    "  else:\n",
    "    it = range(K)\n",
    "\n",
    "  # Greedily select K nodes\n",
    "  for _ in it:\n",
    "    # inits\n",
    "    best_j = None\n",
    "    best_gain = -float('inf')\n",
    "    best_sigma = None\n",
    "\n",
    "    # find v maximizing gain sigma(S) - sigma(S ∪ j)\n",
    "    for j in G:\n",
    "      # Skip if j is already in S to avoid redundant calculations\n",
    "      # j ∈ S\n",
    "      if j in S:\n",
    "        continue\n",
    "\n",
    "      # S ∪ j = S + {j}\n",
    "      if exact:\n",
    "        sigma_Sj = sigma_exact(G, S | {j})\n",
    "      else:\n",
    "        sigma_Sj = component_sampling_epc_mc(G, S | {j}, num_samples=num_samples)\n",
    "\n",
    "      gain = sigma_S - sigma_Sj\n",
    "\n",
    "      # j <= argmax_{j ∈ V\\S} (sigma(S) - sigma(S ∪ j))\n",
    "\n",
    "      if gain > best_gain:\n",
    "        best_gain = gain\n",
    "        best_j = j\n",
    "        best_sigma = sigma_Sj\n",
    "\n",
    "\n",
    "    # add the best node\n",
    "    if best_j is None:\n",
    "      break\n",
    "\n",
    "    S.add(best_j)\n",
    "    sigma_S = best_sigma\n",
    "\n",
    "    Sigma_delta.append(best_sigma)\n",
    "    # print(f\"Selected node {best_j}, gain: {best_gain}, new sigma(S): {sigma_S}\")\n",
    "\n",
    "  return S, Sigma_delta"
   ]
  },
  {
   "cell_type": "markdown",
   "id": "70c19f39",
   "metadata": {},
   "source": [
    "# 3. Betweenness, PageRank, Degree-based"
   ]
  },
  {
   "cell_type": "code",
   "execution_count": 8,
   "id": "0539bf2d",
   "metadata": {},
   "outputs": [],
   "source": [
    "def remove_k_betweenness(G: nx.Graph, k: int) -> nx.Graph:\n",
    "  bc = nx.betweenness_centrality(G)\n",
    "  topk = sorted(bc, key=bc.get, reverse=True)[:k]\n",
    "  H = G.copy()\n",
    "  H.remove_nodes_from(topk)\n",
    "  return H\n",
    "\n",
    "# def remove_k_pagerank_edges(G: nx.Graph, k: int) -> nx.Graph:\n",
    "#   L = nx.line_graph(G)\n",
    "#   pr = nx.pagerank(L)\n",
    "#   topk = sorted(pr, key=pr.get, reverse=True)[:k]\n",
    "#   H = G.copy()\n",
    "#   H.remove_edges_from(topk)\n",
    "#   return H\n",
    "\n",
    "def remove_k_pagerank_nodes(\n",
    "    G: nx.Graph,\n",
    "    k: int,\n",
    "    *,\n",
    "    pagerank_kwargs: Dict[str, Any] | None = None,\n",
    ") -> nx.Graph:\n",
    "    \"\"\"\n",
    "    Return a copy of *G* after deleting the k nodes with the\n",
    "    highest PageRank scores.\n",
    "\n",
    "    Parameters\n",
    "    ----------\n",
    "    G : nx.Graph\n",
    "        Input graph (directed or undirected).\n",
    "    k : int\n",
    "        Number of nodes to delete.\n",
    "    pagerank_kwargs : dict, optional\n",
    "        Extra keyword arguments forwarded to ``nx.pagerank``;\n",
    "        e.g. ``alpha=0.85``, ``weight=\"weight\"``, ``max_iter=100`` …\n",
    "        Leave empty to accept NetworkX defaults.\n",
    "\n",
    "    Notes\n",
    "    -----\n",
    "    * On an **undirected** graph, PageRank reduces to a\n",
    "      normalized eigenvector centrality, so the ranking you get is\n",
    "      equivalent to “importance” in many other centrality measures.\n",
    "    * If your graph already stores an edge‐probability attribute\n",
    "      (e.g. ``'p'`` from your EPC experiments), you usually **don’t**\n",
    "      want to feed that into PageRank as a weight—leave ``weight=None``.\n",
    "      Otherwise high-probability *missing* edges distort the walk.\n",
    "    \"\"\"\n",
    "    pagerank_kwargs = {} if pagerank_kwargs is None else dict(pagerank_kwargs)\n",
    "\n",
    "    # 1. Compute PR on the node set\n",
    "    pr = nx.pagerank(G, **pagerank_kwargs)\n",
    "\n",
    "    # 2. Pick the k nodes with largest score\n",
    "    topk = sorted(pr, key=pr.get, reverse=True)[:k]\n",
    "\n",
    "    # 3. Remove and return a fresh graph\n",
    "    H = G.copy()\n",
    "    H.remove_nodes_from(topk)\n",
    "    return H\n",
    "\n",
    "def remove_k_degree_centrality(G: nx.Graph, k: int) -> nx.Graph:\n",
    "    \"\"\"\n",
    "    Remove the k nodes with highest *degree centrality*, \n",
    "    i.e. degree/(n−1).  Ranks identically to raw degree.\n",
    "    \"\"\"\n",
    "    dc = nx.degree_centrality(G)             # {node: centrality}\n",
    "    topk = sorted(dc, key=dc.get, reverse=True)[:k]\n",
    "    H = G.copy()\n",
    "    H.remove_nodes_from(topk)\n",
    "    return H"
   ]
  },
  {
   "cell_type": "markdown",
   "id": "5bd956b7",
   "metadata": {},
   "source": [
    "# 4. REGA with LP"
   ]
  },
  {
   "cell_type": "code",
   "execution_count": 9,
   "id": "a9e9fc49",
   "metadata": {},
   "outputs": [],
   "source": [
    "def solve_lp_relaxation(G: nx.Graph, D: set, k: int) -> dict:\n",
    "  nodes = list(G.nodes())\n",
    "  n = len(nodes)\n",
    "  edges = list(G.edges())\n",
    "  m = len(edges)\n",
    "\n",
    "  idx_s = {nodes[i]: i for i in range(n)}\n",
    "  idx_z = {edges[j]: n + j for j in range(m)}\n",
    "\n",
    "  bounds = [(0,1)] * (n + m)\n",
    "  for u in D:\n",
    "      bounds[idx_s[u]] = (1,1)\n",
    "\n",
    "  A_eq = np.zeros((1, n + m))\n",
    "  for u in nodes:\n",
    "      A_eq[0, idx_s[u]] = 1\n",
    "  b_eq = [k]\n",
    "\n",
    "  A_ub, b_ub = [], []\n",
    "  for (u, v) in edges:\n",
    "      iu, iv = idx_s[u], idx_s[v]\n",
    "      iz = idx_z[(u, v)]\n",
    "      row = np.zeros(n + m); row[iu] = 1; row[iz] = 1\n",
    "      A_ub.append(row); b_ub.append(1)\n",
    "      row = np.zeros(n + m); row[iv] = 1; row[iz] = 1\n",
    "      A_ub.append(row); b_ub.append(1)\n",
    "      row = np.zeros(n + m); row[iz] = -1; row[iu] = -1; row[iv] = -1\n",
    "      A_ub.append(row); b_ub.append(-1)\n",
    "  A_ub = np.array(A_ub); b_ub = np.array(b_ub)\n",
    "\n",
    "  c = np.zeros(n + m)\n",
    "  for j, (u, v) in enumerate(edges):\n",
    "      c[n + j] = G.edges[u, v]['p']\n",
    "\n",
    "  res = linprog(c, A_ub=A_ub, b_ub=b_ub, A_eq=A_eq, b_eq=b_eq,\n",
    "                bounds=bounds, method='highs')\n",
    "  if not res.success:\n",
    "      raise RuntimeError(\"LP infeasible: \" + res.message)\n",
    "  return {nodes[i]: float(res.x[idx_s[nodes[i]]]) for i in range(n)}\n",
    "\n",
    "def REGA_with_LP(G: nx.Graph, k: int, R: int, alpha: float) -> set:\n",
    "  best_S, best_obj = None, float('inf')\n",
    "  nodes = set(G.nodes())\n",
    "\n",
    "  for _ in range(R):\n",
    "      D = set()\n",
    "      for _ in range(k):\n",
    "          s_vals = solve_lp_relaxation(G, D, k)\n",
    "          rem = list(nodes - D)\n",
    "          sorted_nodes = sorted(rem, key=lambda u: s_vals[u], reverse=True)\n",
    "          m = max(1, int(alpha * len(sorted_nodes)))\n",
    "          D.add(random.choice(sorted_nodes[:m]))\n",
    "      current_obj = component_sampling_epc_mc(G, D, 1000)\n",
    "      improved = True\n",
    "      while improved:\n",
    "          improved = False\n",
    "          for u in list(D):\n",
    "              for v in nodes - D:\n",
    "                  newS = (D - {u}) | {v}\n",
    "                  val = component_sampling_epc_mc(G, newS, 1000)\n",
    "                  if val < current_obj:\n",
    "                      D, current_obj, improved = newS, val, True\n",
    "                      break\n",
    "              if improved:\n",
    "                  break\n",
    "      if current_obj < best_obj:\n",
    "          best_S, best_obj = D.copy(), current_obj\n",
    "  return best_S"
   ]
  },
  {
   "cell_type": "markdown",
   "id": "16f8948a",
   "metadata": {},
   "source": [
    "# 5. Greedy from MIS"
   ]
  },
  {
   "cell_type": "code",
   "execution_count": null,
   "id": "fa8c0112",
   "metadata": {},
   "outputs": [],
   "source": [
    "def best_random_mis(G, trials=20, base_seed=None):\n",
    "    \"\"\"\n",
    "    Sample `trials` maximal independent sets (via different RNG seeds)\n",
    "    and return the one with the largest size.\n",
    "    \"\"\"\n",
    "    best_mis = []\n",
    "    for i in range(trials):\n",
    "      # pick a unique seed for each trial\n",
    "      seed = None if base_seed is None else base_seed + i\n",
    "      mis = nx.maximal_independent_set(G, seed=seed)\n",
    "      if len(mis) > len(best_mis):\n",
    "          best_mis = mis\n",
    "    return set(best_mis)"
   ]
  },
  {
   "cell_type": "code",
   "execution_count": 33,
   "id": "d8d768cd",
   "metadata": {},
   "outputs": [],
   "source": [
    "def greedy_mis(\n",
    "    G, k, \n",
    "    num_samples=100_000,\n",
    "    trials=50,\n",
    "    seed=42):\n",
    "\n",
    "  # Maximal independent set (random)\n",
    "  # MIS = best_random_mis(G, trials=trials, seed=seed)\n",
    "  MIS = nx.algorithms.approximation.maximum_independent_set(G)\n",
    "  \n",
    "  R = set(MIS)\n",
    "  target = len(G) - k\n",
    "  V = G.number_of_nodes()\n",
    "\n",
    "  sigma_delta = []\n",
    "\n",
    "  # print(f\"#MIS: {len(R)}\")\n",
    "\n",
    "  # Greedy grow R set until |R| = |V| - k\n",
    "  while len(R) < target:\n",
    "    best_j, best_sigma = None, float('inf')\n",
    "    for j in G.nodes():\n",
    "      if j in R:\n",
    "        continue\n",
    "\n",
    "      # delete node\n",
    "      S_j = set(G.nodes()) - (R | {j})\n",
    "      sigma = component_sampling_epc_mc(G, S=S_j, num_samples=num_samples)\n",
    "\n",
    "      if sigma < best_sigma:\n",
    "        best_sigma, best_j = sigma, j\n",
    "\n",
    "        sigma_delta.append(best_sigma)\n",
    "\n",
    "    R.add(best_j)\n",
    "  \n",
    "  D = set(G.nodes()) - R\n",
    "  return D, sigma_delta"
   ]
  },
  {
   "cell_type": "code",
   "execution_count": null,
   "id": "9cb7ba47",
   "metadata": {},
   "outputs": [],
   "source": [
    "# def local_search_swap(\n",
    "#   G: nx.Graph, \n",
    "#   D: set, \n",
    "#   num_samples: int, \n",
    "#   max_iter: 100, \n",
    "#   first_improvement: bool = True,\n",
    "#   verbose: bool = False,\n",
    "#   ):\n",
    "#   \"\"\" Simple 1-swap hill-climber for EPC-minimization\"\"\"\n",
    "\n",
    "#   V = set(G)\n",
    "#   best_sigma = component_sampling_epc_mc(G, S=V - D, num_samples=num_samples)\n",
    "\n",
    "#   trace = [best_sigma]\n",
    "\n",
    "#   for it in range(max_iter):\n",
    "#     improved = False\n",
    "\n",
    "#     for d in list(D):\n",
    "#       for v in V - D:\n",
    "#         D_new = (D - {d}) | {v}\n",
    "#         sigma_new = component_sampling_epc_mc(G, S=V - D_new, num_samples=num_samples)\n",
    "\n",
    "#         if sigma_new < best_sigma:\n",
    "#           if verbose:\n",
    "#             print(f\"LS it={it} sigma = {best_sigma - sigma_new:.4g}\")\n",
    "          \n",
    "#           best_sigma = sigma_new\n",
    "#           D = D_new\n",
    "#           trace.append(best_sigma)\n",
    "\n",
    "#           improved = True\n",
    "\n",
    "#           # speed up\n",
    "#           if first_improvement:\n",
    "#             break\n",
    "#       if improved and first_improvement:\n",
    "#         break\n",
    "\n",
    "#     # local optimum\n",
    "#     if not improved:\n",
    "#       break\n",
    "\n",
    "#   return D, best_sigma, trace"
   ]
  },
  {
   "cell_type": "code",
   "execution_count": null,
   "id": "a7ee9bbe",
   "metadata": {},
   "outputs": [],
   "source": [
    "# def greedy_mis_local_search(G, k,\n",
    "#                             num_samples=100_000,\n",
    "#                             local_samples=1_000,\n",
    "#                             max_ls_iter=100\n",
    "#                             ):\n",
    "#   # 1. greedy constructor\n",
    "#   D, greedy_trace = greedy_epc_mis(G, k, num_samples)\n",
    "\n",
    "#   # 2. local improvement\n",
    "#   D, sigma_final, ls_trace = local_search_swap(\n",
    "#     G, D, num_samples, max_ls_iter\n",
    "#   )\n",
    "\n",
    "#   return D, greedy_trace + ls_trace, sigma_final"
   ]
  },
  {
   "cell_type": "markdown",
   "id": "64f33dbb",
   "metadata": {},
   "source": [
    "# 5.1 Greedy from MIS optimized"
   ]
  },
  {
   "cell_type": "code",
   "execution_count": 78,
   "id": "398f9e95",
   "metadata": {},
   "outputs": [],
   "source": [
    "@njit\n",
    "def greedy_epc_mis_numba(\n",
    "    indptr: np.ndarray,\n",
    "    indices: np.ndarray,\n",
    "    probs: np.ndarray,\n",
    "    deleted: np.ndarray,\n",
    "    n: int,\n",
    "    k: int,\n",
    "    num_samples: int,\n",
    ") -> Tuple[np.ndarray, np.ndarray, int]:\n",
    "    target_survivors = n - k\n",
    "    survivors = n - np.sum(deleted)\n",
    "\n",
    "    # how many flips we'll actually do?\n",
    "    flips_needed = target_survivors - survivors\n",
    "    if flips_needed < 0:\n",
    "        flips_needed = 0\n",
    "\n",
    "    # one slot for the initial EPC + one per flip\n",
    "    max_steps = 1 + flips_needed\n",
    "    trace_np = np.empty(max_steps, dtype=np.float64)\n",
    "\n",
    "    # record initial EPC\n",
    "    step = 0\n",
    "    curr_epc = epc_mc(indptr, indices, probs, deleted, num_samples)\n",
    "    trace_np[step] = curr_epc\n",
    "    step += 1\n",
    "\n",
    "    # now do exactly flips_needed iterations\n",
    "    while survivors < target_survivors:\n",
    "        best_sigma = 1e18\n",
    "        best_j = -1\n",
    "\n",
    "        for j in range(n):\n",
    "            if deleted[j]:\n",
    "                deleted[j] = False\n",
    "                sigma = epc_mc(indptr, indices, probs, deleted, num_samples)\n",
    "                deleted[j] = True\n",
    "                if sigma < best_sigma:\n",
    "                    best_sigma = sigma\n",
    "                    best_j = j\n",
    "\n",
    "        deleted[best_j] = False\n",
    "        survivors += 1\n",
    "        curr_epc = best_sigma\n",
    "\n",
    "        trace_np[step] = curr_epc\n",
    "        step += 1\n",
    "    return deleted, trace_np, step\n",
    "\n",
    "def greedy_mis_optimized(\n",
    "    G: nx.Graph,\n",
    "    k: int,\n",
    "    *,\n",
    "    num_samples: int = 100_000,\n",
    "    # mis_rounds: int = 50,\n",
    "    return_trace: bool = False,\n",
    "    seed: int = 42,\n",
    ") -> Union[Set[int], Tuple[Set[int], list]]:\n",
    "    \n",
    "    # 1. CSR conversion\n",
    "    nodes, idx_of, indptr, indices, probs = nx_to_csr(G)\n",
    "    n = len(nodes)\n",
    "\n",
    "    # 2. Build initial MIS mask\n",
    "    # MIS = nx.maximal_independent_set(G)\n",
    "    # deleted = np.ones(n, dtype=np.bool_)\n",
    "    # for u in MIS:\n",
    "    #     deleted[idx_of[u]] = False\n",
    "\n",
    "    # best_deleted: np.ndarray = None\n",
    "    # best_sigma = float(\"inf\")\n",
    "\n",
    "    # for i in range(mis_rounds):\n",
    "    #     MIS = nx.maximal_independent_set(G)\n",
    "\n",
    "    #     # deleted[i]==True means node i is removed\n",
    "    #     deleted = np.ones(n, dtype=np.bool_)\n",
    "        \n",
    "    #     for u in MIS:\n",
    "    #         deleted[idx_of[u]] = False\n",
    "        \n",
    "    #     curr_sigma = epc_mc(indptr, indices, probs, deleted, num_samples)\n",
    "\n",
    "    #     # print(f\"{i}-th rount sigma: {curr_sigma}\")\n",
    "\n",
    "    #     if curr_sigma < best_sigma:\n",
    "    #         best_sigma = curr_sigma\n",
    "    #         best_deleted = deleted.copy()\n",
    "\n",
    "    MIS = nx.algorithms.approximation.maximum_independent_set(G)\n",
    "\n",
    "    deleted = np.ones(n, dtype=np.bool_)\n",
    "    for u in MIS:\n",
    "        deleted[idx_of[u]] = False\n",
    "\n",
    "    best_deleted = deleted.copy()\n",
    "\n",
    "    # 3. Call the fast Numba core\n",
    "    final_deleted, trace_np, cnt = greedy_epc_mis_numba(\n",
    "        indptr, indices, probs, \n",
    "        best_deleted, \n",
    "        n, k, num_samples\n",
    "    )\n",
    "\n",
    "    # 4. Slice out only the filled portion of the trace\n",
    "    trace = trace_np[:cnt].tolist()\n",
    "\n",
    "    # 5. Map mask back to node-IDs\n",
    "    D = {nodes[i] for i in range(n) if final_deleted[i]}\n",
    "\n",
    "    return (D, trace) if return_trace else D\n"
   ]
  },
  {
   "cell_type": "code",
   "execution_count": 52,
   "id": "268a1c46",
   "metadata": {},
   "outputs": [],
   "source": [
    "def local_search_swap(\n",
    "    G: nx.Graph,\n",
    "    S: Set[int],\n",
    "    *,\n",
    "    csr: Tuple[List[int], Dict[int,int], np.ndarray, np.ndarray, np.ndarray],\n",
    "    num_samples: int = 100_000,\n",
    "    max_iter: int = 5\n",
    ") -> Set[int]:\n",
    "    \"\"\"\n",
    "    Given initial delete-set S, try 1-for-1 swaps to reduce EPC.\n",
    "    csr = (nodes, idx_of, indptr, indices, probs).\n",
    "    \"\"\"\n",
    "    nodes, idx_of, indptr, indices, probs = csr\n",
    "    n = len(nodes)\n",
    "\n",
    "    # build boolean mask from S\n",
    "    deleted = np.zeros(n, dtype=np.bool_)\n",
    "    for u in S:\n",
    "        deleted[idx_of[u]] = True\n",
    "\n",
    "    # current EPC\n",
    "    curr = epc_mc(indptr, indices, probs, deleted, num_samples)\n",
    "\n",
    "    for it in range(max_iter):\n",
    "        best_delta = 0.0\n",
    "        best_swap = None\n",
    "\n",
    "        # try swapping each i in S with each j not in S\n",
    "        for i in list(S):\n",
    "            ii = idx_of[i]\n",
    "            # undelete i\n",
    "            deleted[ii] = False\n",
    "\n",
    "            for j in nodes:\n",
    "                jj = idx_of[j]\n",
    "                if deleted[jj]:\n",
    "                    continue\n",
    "                # delete j\n",
    "                deleted[jj] = True\n",
    "\n",
    "                sigma = epc_mc(\n",
    "                    indptr, indices, probs, deleted, num_samples)\n",
    "                delta = curr - sigma\n",
    "                if delta > best_delta:\n",
    "                    best_delta = delta\n",
    "                    best_swap = (ii, jj, sigma)\n",
    "\n",
    "                # revert j\n",
    "                deleted[jj] = False\n",
    "\n",
    "            # revert i\n",
    "            deleted[ii] = True\n",
    "\n",
    "        if best_swap is None:\n",
    "            break   # no improving swap found\n",
    "\n",
    "        # commit the best swap\n",
    "        ii, jj, new_sigma = best_swap\n",
    "        deleted[ii] = False\n",
    "        deleted[jj] = True\n",
    "        curr = new_sigma\n",
    "\n",
    "        # update D\n",
    "        S.remove(nodes[ii])\n",
    "        S.add(nodes[jj])\n",
    "\n",
    "    return S"
   ]
  },
  {
   "cell_type": "code",
   "execution_count": null,
   "id": "8be071ac",
   "metadata": {},
   "outputs": [],
   "source": [
    "# @njit\n",
    "# def local_search_swap_numba(\n",
    "#     indptr: np.ndarray,\n",
    "#     indices: np.ndarray,\n",
    "#     probs: np.ndarray,\n",
    "#     deleted: np.ndarray,\n",
    "#     n: int,\n",
    "#     num_samples: int,\n",
    "#     max_iter: int\n",
    "# ) -> np.ndarray:\n",
    "#     \"\"\"\n",
    "#     Starting from `deleted` mask (True=deleted, False=alive),\n",
    "#     try up to `max_iter` rounds of the best 1-for-1 swap that\n",
    "#     reduces EPC, using epc_mc in nopython mode.\n",
    "#     Returns the final deleted mask.\n",
    "#     \"\"\"\n",
    "#     # compute current EPC\n",
    "#     curr_sigma = epc_mc(indptr, indices, probs, deleted, num_samples)\n",
    "\n",
    "#     for _ in range(max_iter):\n",
    "#         best_delta = 0.0\n",
    "#         best_i = -1\n",
    "#         best_j = -1\n",
    "#         best_sigma = curr_sigma\n",
    "\n",
    "#         # for each candidate i in D (deleted[i]==True)\n",
    "#         for i in range(n):\n",
    "#             if not deleted[i]:\n",
    "#                 continue\n",
    "#             # undelete i\n",
    "#             deleted[i] = False\n",
    "\n",
    "#             # for each candidate j not in D (deleted[j]==False)\n",
    "#             for j in range(n):\n",
    "#                 if deleted[j]:\n",
    "#                     continue\n",
    "#                 # delete j\n",
    "#                 deleted[j] = True\n",
    "\n",
    "#                 # evaluate swap\n",
    "#                 sigma = epc_mc(indptr, indices, probs, deleted, num_samples)\n",
    "#                 delta = curr_sigma - sigma\n",
    "#                 if delta > best_delta:\n",
    "#                     best_delta = delta\n",
    "#                     best_i = i\n",
    "#                     best_j = j\n",
    "#                     best_sigma = sigma\n",
    "\n",
    "#                 # undo delete j\n",
    "#                 deleted[j] = False\n",
    "\n",
    "#             # undo undelete i\n",
    "#             deleted[i] = True\n",
    "\n",
    "#         # if no improving swap, stop\n",
    "#         if best_delta <= 0.0:\n",
    "#             break\n",
    "\n",
    "#         # commit the best swap\n",
    "#         deleted[best_i] = False\n",
    "#         deleted[best_j] = True\n",
    "#         curr_sigma = best_sigma\n",
    "\n",
    "#     return deleted\n"
   ]
  },
  {
   "cell_type": "code",
   "execution_count": null,
   "id": "5dbb4bc8",
   "metadata": {},
   "outputs": [],
   "source": [
    "def greedy_mis_local_search(\n",
    "    G: nx.Graph,\n",
    "    k: int,\n",
    "    *,\n",
    "    num_samples: int = 100_000,\n",
    "    max_local_iters: int = 5,\n",
    "    seed: int = 42\n",
    ") -> Set[int]:\n",
    "    # 1) build CSR\n",
    "    nodes, idx_of, indptr, indices, probs = nx_to_csr(G)\n",
    "    n = len(nodes)\n",
    "\n",
    "    # 2) get a starting D via your Numba‐greedy MIS\n",
    "    S = greedy_mis_optimized(\n",
    "        G, k, \n",
    "        num_samples=num_samples,\n",
    "        return_trace=False, seed=seed)\n",
    "    \n",
    "    # 3) make the Boolean mask\n",
    "    deleted = np.zeros(n, dtype=np.bool_)\n",
    "    for u in S:\n",
    "        deleted[idx_of[u]] = True\n",
    "\n",
    "    # 4) run the local search\n",
    "    final_deleted = local_search_swap(\n",
    "        indptr, indices, probs, \n",
    "        deleted, n, num_samples, max_local_iters\n",
    "    )\n",
    "\n",
    "    # 5) map back to node IDs\n",
    "    return {nodes[i] for i in range(n) if final_deleted[i]}"
   ]
  },
  {
   "cell_type": "code",
   "execution_count": null,
   "id": "ab480354",
   "metadata": {},
   "outputs": [],
   "source": [
    "def robust_greedy_mis_optimized(\n",
    "  G, k, \n",
    "  num_samples=100_000, trials=10, \n",
    "  mis_rounds=100, max_iter=10,\n",
    "  seed=42):\n",
    "  # best_D, best_epc = None, float('inf')\n",
    "  csr = nx_to_csr(G)\n",
    "  epcs_initial = []\n",
    "  epcs = []\n",
    "  time_initial = []\n",
    "\n",
    "  for _ in tqdm(range(trials), desc=\"Processing MIS-greedy\", total=trials):\n",
    "    \n",
    "    t0 = time.perf_counter()\n",
    "\n",
    "    S = greedy_mis_optimized(\n",
    "      G, k,\n",
    "      num_samples=num_samples,  mis_rounds=mis_rounds,\n",
    "      return_trace=False, seed=seed)\n",
    "    epc_initial = epc_mc_deleted(G, S, num_samples)\n",
    "    epcs_initial.append(epc_initial)\n",
    "\n",
    "    t_greedy_mis_initial = time.perf_counter() - t0\n",
    "    time_initial.append(t_greedy_mis_initial)\n",
    "\n",
    "    S_opt = local_search_swap(\n",
    "      G, S, csr=csr, num_samples=num_samples, max_iter=max_iter)\n",
    "    \n",
    "\n",
    "    epc_final = epc_mc_deleted(G, S_opt, num_samples)\n",
    "    epcs.append(epc_final)\n",
    "\n",
    "    # epc_final = component_sampling_epc_mc(G, S_opt, num_samples)\n",
    "    # epcs.append(epc_final)\n",
    "\n",
    "  mean_epc_initial = sum(epcs_initial) / trials\n",
    "  std_epc_initial = (sum((e - mean_epc_initial)**2 for e in epcs) / trials)**0.5\n",
    "\n",
    "  mean_epc = sum(epcs) / trials\n",
    "  std_epc = (sum((e - mean_epc)**2 for e in epcs) / trials)**0.5\n",
    "\n",
    "  time_initial_final = sum(time_initial) / trials\n",
    "\n",
    "  return time_initial_final, mean_epc_initial, std_epc_initial, mean_epc, std_epc, "
   ]
  },
  {
   "cell_type": "code",
   "execution_count": null,
   "id": "789ca73f",
   "metadata": {},
   "outputs": [],
   "source": [
    "# def robust_greedy_epc_mis_numba(\n",
    "#     G,\n",
    "#     k,\n",
    "#     *,\n",
    "#     num_samples: int = 100_000,\n",
    "#     trials: int = 10,\n",
    "#     max_local_iters: int = 5,\n",
    "# ):\n",
    "#     # 1) Build CSR once\n",
    "#     nodes, idx_of, indptr, indices, probs = nx_to_csr(G)\n",
    "#     n = len(nodes)\n",
    "\n",
    "#     epcs = []\n",
    "#     for _ in tqdm(range(trials), desc=\"Robust MIS+greedy\", total=trials):\n",
    "#         # 2) Seed MIS mask\n",
    "#         mis = nx.maximal_independent_set(G)\n",
    "#         deleted = np.ones(n, dtype=np.bool_)\n",
    "#         for u in mis:\n",
    "#             deleted[idx_of[u]] = False\n",
    "\n",
    "#         # 3) Run the Numba MIS‐greedy kernel (no trace needed)\n",
    "#         #    It returns the final deleted mask after greedy‐MIS\n",
    "#         deleted, _, _ = greedy_epc_mis_numba(\n",
    "#             indptr, indices, probs,\n",
    "#             deleted, n, k, num_samples\n",
    "#         )\n",
    "\n",
    "#         # 4) Polish with the Numba local‐search swap\n",
    "#         deleted = local_search_swap_numba(\n",
    "#             indptr, indices, probs,\n",
    "#             deleted, n, num_samples, max_local_iters\n",
    "#         )\n",
    "\n",
    "#         # 5) Compute EPC on the final mask\n",
    "#         epc_final = epc_mc(indptr, indices, probs, deleted, num_samples)\n",
    "#         epcs.append(epc_final)\n",
    "#         print(f\"  trial EPC = {epc_final:.4f}\")\n",
    "\n",
    "#     mean_epc = sum(epcs) / trials\n",
    "#     std_epc = (sum((e - mean_epc)**2 for e in epcs) / trials)**0.5\n",
    "#     return mean_epc, std_epc\n"
   ]
  },
  {
   "cell_type": "code",
   "execution_count": 45,
   "id": "53d13d20",
   "metadata": {},
   "outputs": [
    {
     "name": "stderr",
     "output_type": "stream",
     "text": [
      "Processing MIS-greedy:  10%|█         | 1/10 [13:17<1:59:36, 797.35s/it]"
     ]
    },
    {
     "name": "stdout",
     "output_type": "stream",
     "text": [
      "Initial: 2935.161             local: 2931.80355\n"
     ]
    },
    {
     "name": "stderr",
     "output_type": "stream",
     "text": [
      "Processing MIS-greedy:  10%|█         | 1/10 [16:36<2:29:28, 996.55s/it]\n"
     ]
    },
    {
     "ename": "KeyboardInterrupt",
     "evalue": "",
     "output_type": "error",
     "traceback": [
      "\u001b[1;31m---------------------------------------------------------------------------\u001b[0m",
      "\u001b[1;31mKeyboardInterrupt\u001b[0m                         Traceback (most recent call last)",
      "Cell \u001b[1;32mIn[45], line 13\u001b[0m\n\u001b[0;32m     10\u001b[0m \u001b[38;5;28;01mfor\u001b[39;00m u, v \u001b[38;5;129;01min\u001b[39;00m G\u001b[38;5;241m.\u001b[39medges():\n\u001b[0;32m     11\u001b[0m   G[u][v][\u001b[38;5;124m'\u001b[39m\u001b[38;5;124mp\u001b[39m\u001b[38;5;124m'\u001b[39m] \u001b[38;5;241m=\u001b[39m p\n\u001b[1;32m---> 13\u001b[0m mean_epc, std_epc \u001b[38;5;241m=\u001b[39m \u001b[43mrobust_greedy_mis_optimized\u001b[49m\u001b[43m(\u001b[49m\n\u001b[0;32m     14\u001b[0m \u001b[43m  \u001b[49m\u001b[43mG\u001b[49m\u001b[43m,\u001b[49m\u001b[43m \u001b[49m\u001b[43mK\u001b[49m\u001b[43m,\u001b[49m\u001b[43m \u001b[49m\u001b[43mnum_samples\u001b[49m\u001b[38;5;241;43m=\u001b[39;49m\u001b[43mN_SAMPLE\u001b[49m\u001b[43m,\u001b[49m\n\u001b[0;32m     15\u001b[0m \u001b[43m  \u001b[49m\u001b[43mtrials\u001b[49m\u001b[38;5;241;43m=\u001b[39;49m\u001b[38;5;241;43m10\u001b[39;49m\u001b[43m,\u001b[49m\u001b[43m \u001b[49m\u001b[43mmis_rounds\u001b[49m\u001b[38;5;241;43m=\u001b[39;49m\u001b[38;5;241;43m20\u001b[39;49m\u001b[43m,\u001b[49m\u001b[43m \u001b[49m\u001b[43mmax_iter\u001b[49m\u001b[38;5;241;43m=\u001b[39;49m\u001b[38;5;241;43m5\u001b[39;49m\u001b[43m,\u001b[49m\u001b[43m \u001b[49m\u001b[43mseed\u001b[49m\u001b[38;5;241;43m=\u001b[39;49m\u001b[43mSEED\u001b[49m\u001b[43m)\u001b[49m\n\u001b[0;32m     17\u001b[0m mean_epc, std_epc\n",
      "Cell \u001b[1;32mIn[43], line 17\u001b[0m, in \u001b[0;36mrobust_greedy_mis_optimized\u001b[1;34m(G, k, num_samples, trials, mis_rounds, max_iter, seed)\u001b[0m\n\u001b[0;32m     10\u001b[0m \u001b[38;5;28;01mfor\u001b[39;00m _ \u001b[38;5;129;01min\u001b[39;00m tqdm(\u001b[38;5;28mrange\u001b[39m(trials), desc\u001b[38;5;241m=\u001b[39m\u001b[38;5;124m\"\u001b[39m\u001b[38;5;124mProcessing MIS-greedy\u001b[39m\u001b[38;5;124m\"\u001b[39m, total\u001b[38;5;241m=\u001b[39mtrials):\n\u001b[0;32m     12\u001b[0m   S \u001b[38;5;241m=\u001b[39m greedy_mis_optimized(\n\u001b[0;32m     13\u001b[0m     G, k,\n\u001b[0;32m     14\u001b[0m     num_samples\u001b[38;5;241m=\u001b[39mnum_samples,  mis_rounds\u001b[38;5;241m=\u001b[39mmis_rounds,\n\u001b[0;32m     15\u001b[0m     return_trace\u001b[38;5;241m=\u001b[39m\u001b[38;5;28;01mFalse\u001b[39;00m, seed\u001b[38;5;241m=\u001b[39mseed)\n\u001b[1;32m---> 17\u001b[0m   S_opt \u001b[38;5;241m=\u001b[39m \u001b[43mlocal_search_swap\u001b[49m\u001b[43m(\u001b[49m\n\u001b[0;32m     18\u001b[0m \u001b[43m    \u001b[49m\u001b[43mG\u001b[49m\u001b[43m,\u001b[49m\u001b[43m \u001b[49m\u001b[43mS\u001b[49m\u001b[43m,\u001b[49m\u001b[43m \u001b[49m\u001b[43mcsr\u001b[49m\u001b[38;5;241;43m=\u001b[39;49m\u001b[43mcsr\u001b[49m\u001b[43m,\u001b[49m\u001b[43m \u001b[49m\u001b[43mnum_samples\u001b[49m\u001b[38;5;241;43m=\u001b[39;49m\u001b[43mnum_samples\u001b[49m\u001b[43m,\u001b[49m\u001b[43m \u001b[49m\u001b[43mmax_iter\u001b[49m\u001b[38;5;241;43m=\u001b[39;49m\u001b[43mmax_iter\u001b[49m\u001b[43m)\u001b[49m\n\u001b[0;32m     20\u001b[0m   epc_final \u001b[38;5;241m=\u001b[39m epc_mc_deleted(G, S_opt, num_samples)\n\u001b[0;32m     21\u001b[0m   epcs\u001b[38;5;241m.\u001b[39mappend(epc_final)\n",
      "Cell \u001b[1;32mIn[41], line 41\u001b[0m, in \u001b[0;36mlocal_search_swap\u001b[1;34m(G, S, csr, num_samples, max_iter)\u001b[0m\n\u001b[0;32m     38\u001b[0m \u001b[38;5;66;03m# delete j\u001b[39;00m\n\u001b[0;32m     39\u001b[0m deleted[jj] \u001b[38;5;241m=\u001b[39m \u001b[38;5;28;01mTrue\u001b[39;00m\n\u001b[1;32m---> 41\u001b[0m sigma \u001b[38;5;241m=\u001b[39m \u001b[43mepc_mc\u001b[49m\u001b[43m(\u001b[49m\n\u001b[0;32m     42\u001b[0m \u001b[43m    \u001b[49m\u001b[43mindptr\u001b[49m\u001b[43m,\u001b[49m\u001b[43m \u001b[49m\u001b[43mindices\u001b[49m\u001b[43m,\u001b[49m\u001b[43m \u001b[49m\u001b[43mprobs\u001b[49m\u001b[43m,\u001b[49m\u001b[43m \u001b[49m\u001b[43mdeleted\u001b[49m\u001b[43m,\u001b[49m\u001b[43m \u001b[49m\u001b[43mnum_samples\u001b[49m\u001b[43m)\u001b[49m\n\u001b[0;32m     43\u001b[0m delta \u001b[38;5;241m=\u001b[39m curr \u001b[38;5;241m-\u001b[39m sigma\n\u001b[0;32m     44\u001b[0m \u001b[38;5;28;01mif\u001b[39;00m delta \u001b[38;5;241m>\u001b[39m best_delta:\n",
      "\u001b[1;31mKeyboardInterrupt\u001b[0m: "
     ]
    }
   ],
   "source": [
    "SEED = 42\n",
    "N_SAMPLE = 100_000\n",
    "\n",
    "K = 10\n",
    "NODES = 100\n",
    "G = nx.erdos_renyi_graph(NODES, 0.0443, seed=SEED)\n",
    "\n",
    "p = 0.9\n",
    "\n",
    "for u, v in G.edges():\n",
    "  G[u][v]['p'] = p\n",
    "\n",
    "mean_epc, std_epc = robust_greedy_mis_optimized(\n",
    "  G, K, num_samples=N_SAMPLE,\n",
    "  trials=10, mis_rounds=20, max_iter=5, seed=SEED)\n",
    "\n",
    "mean_epc, std_epc"
   ]
  },
  {
   "cell_type": "code",
   "execution_count": 77,
   "id": "f773d9c1",
   "metadata": {},
   "outputs": [
    {
     "data": {
      "text/plain": [
       "38"
      ]
     },
     "execution_count": 77,
     "metadata": {},
     "output_type": "execute_result"
    }
   ],
   "source": [
    "G = nx.erdos_renyi_graph(NODES, 0.0443, seed=SEED)\n",
    "\n",
    "p = 1.0\n",
    "\n",
    "for u, v in G.edges():\n",
    "  G[u][v]['p'] = p\n",
    "\n",
    "MIS = nx.algorithms.approximation.maximum_independent_set(G)\n",
    "\n",
    "len(MIS)"
   ]
  },
  {
   "cell_type": "code",
   "execution_count": 28,
   "id": "ee64c9a1",
   "metadata": {},
   "outputs": [
    {
     "data": {
      "text/plain": [
       "(3396.181005000001, 207.07688334024266)"
      ]
     },
     "execution_count": 28,
     "metadata": {},
     "output_type": "execute_result"
    }
   ],
   "source": [
    "mean_epc, std_epc"
   ]
  },
  {
   "cell_type": "code",
   "execution_count": 30,
   "id": "9194cb36",
   "metadata": {},
   "outputs": [
    {
     "name": "stderr",
     "output_type": "stream",
     "text": [
      "Processing MIS-greedy:   5%|▌         | 1/20 [00:10<03:26, 10.85s/it]"
     ]
    },
    {
     "name": "stdout",
     "output_type": "stream",
     "text": [
      "3168.85815\n"
     ]
    },
    {
     "name": "stderr",
     "output_type": "stream",
     "text": [
      "Processing MIS-greedy:  10%|█         | 2/20 [00:22<03:24, 11.37s/it]"
     ]
    },
    {
     "name": "stdout",
     "output_type": "stream",
     "text": [
      "3076.8507\n"
     ]
    },
    {
     "name": "stderr",
     "output_type": "stream",
     "text": [
      "Processing MIS-greedy:  15%|█▌        | 3/20 [00:34<03:18, 11.69s/it]"
     ]
    },
    {
     "name": "stdout",
     "output_type": "stream",
     "text": [
      "3489.8499\n"
     ]
    },
    {
     "name": "stderr",
     "output_type": "stream",
     "text": [
      "Processing MIS-greedy:  20%|██        | 4/20 [00:46<03:06, 11.69s/it]"
     ]
    },
    {
     "name": "stdout",
     "output_type": "stream",
     "text": [
      "3654.61785\n"
     ]
    },
    {
     "name": "stderr",
     "output_type": "stream",
     "text": [
      "Processing MIS-greedy:  25%|██▌       | 5/20 [00:57<02:54, 11.63s/it]"
     ]
    },
    {
     "name": "stdout",
     "output_type": "stream",
     "text": [
      "3156.8328\n"
     ]
    },
    {
     "name": "stderr",
     "output_type": "stream",
     "text": [
      "Processing MIS-greedy:  30%|███       | 6/20 [01:09<02:44, 11.76s/it]"
     ]
    },
    {
     "name": "stdout",
     "output_type": "stream",
     "text": [
      "3404.78775\n"
     ]
    },
    {
     "name": "stderr",
     "output_type": "stream",
     "text": [
      "Processing MIS-greedy:  35%|███▌      | 7/20 [01:20<02:27, 11.37s/it]"
     ]
    },
    {
     "name": "stdout",
     "output_type": "stream",
     "text": [
      "3160.7721\n"
     ]
    },
    {
     "name": "stderr",
     "output_type": "stream",
     "text": [
      "Processing MIS-greedy:  40%|████      | 8/20 [01:32<02:18, 11.51s/it]"
     ]
    },
    {
     "name": "stdout",
     "output_type": "stream",
     "text": [
      "3485.25495\n"
     ]
    },
    {
     "name": "stderr",
     "output_type": "stream",
     "text": [
      "Processing MIS-greedy:  45%|████▌     | 9/20 [01:43<02:06, 11.47s/it]"
     ]
    },
    {
     "name": "stdout",
     "output_type": "stream",
     "text": [
      "3403.37115\n"
     ]
    },
    {
     "name": "stderr",
     "output_type": "stream",
     "text": [
      "Processing MIS-greedy:  50%|█████     | 10/20 [01:53<01:50, 11.08s/it]"
     ]
    },
    {
     "name": "stdout",
     "output_type": "stream",
     "text": [
      "3015.2367\n"
     ]
    },
    {
     "name": "stderr",
     "output_type": "stream",
     "text": [
      "Processing MIS-greedy:  55%|█████▌    | 11/20 [02:06<01:45, 11.68s/it]"
     ]
    },
    {
     "name": "stdout",
     "output_type": "stream",
     "text": [
      "3740.8194\n"
     ]
    },
    {
     "name": "stderr",
     "output_type": "stream",
     "text": [
      "Processing MIS-greedy:  60%|██████    | 12/20 [02:20<01:37, 12.13s/it]"
     ]
    },
    {
     "name": "stdout",
     "output_type": "stream",
     "text": [
      "3567.6018\n"
     ]
    },
    {
     "name": "stderr",
     "output_type": "stream",
     "text": [
      "Processing MIS-greedy:  65%|██████▌   | 13/20 [02:32<01:26, 12.31s/it]"
     ]
    },
    {
     "name": "stdout",
     "output_type": "stream",
     "text": [
      "3315.1761\n"
     ]
    },
    {
     "name": "stderr",
     "output_type": "stream",
     "text": [
      "Processing MIS-greedy:  70%|███████   | 14/20 [02:44<01:13, 12.26s/it]"
     ]
    },
    {
     "name": "stdout",
     "output_type": "stream",
     "text": [
      "3324.38985\n"
     ]
    },
    {
     "name": "stderr",
     "output_type": "stream",
     "text": [
      "Processing MIS-greedy:  75%|███████▌  | 15/20 [02:57<01:02, 12.46s/it]"
     ]
    },
    {
     "name": "stdout",
     "output_type": "stream",
     "text": [
      "3570.38595\n"
     ]
    },
    {
     "name": "stderr",
     "output_type": "stream",
     "text": [
      "Processing MIS-greedy:  80%|████████  | 16/20 [03:08<00:48, 12.07s/it]"
     ]
    },
    {
     "name": "stdout",
     "output_type": "stream",
     "text": [
      "3403.08945\n"
     ]
    },
    {
     "name": "stderr",
     "output_type": "stream",
     "text": [
      "Processing MIS-greedy:  85%|████████▌ | 17/20 [03:20<00:35, 11.86s/it]"
     ]
    },
    {
     "name": "stdout",
     "output_type": "stream",
     "text": [
      "3241.27305\n"
     ]
    },
    {
     "name": "stderr",
     "output_type": "stream",
     "text": [
      "Processing MIS-greedy:  90%|█████████ | 18/20 [03:31<00:23, 11.59s/it]"
     ]
    },
    {
     "name": "stdout",
     "output_type": "stream",
     "text": [
      "3242.4192\n"
     ]
    },
    {
     "name": "stderr",
     "output_type": "stream",
     "text": [
      "Processing MIS-greedy:  95%|█████████▌| 19/20 [03:42<00:11, 11.42s/it]"
     ]
    },
    {
     "name": "stdout",
     "output_type": "stream",
     "text": [
      "3322.43595\n"
     ]
    },
    {
     "name": "stderr",
     "output_type": "stream",
     "text": [
      "Processing MIS-greedy: 100%|██████████| 20/20 [03:52<00:00, 11.64s/it]"
     ]
    },
    {
     "name": "stdout",
     "output_type": "stream",
     "text": [
      "3163.10535\n"
     ]
    },
    {
     "name": "stderr",
     "output_type": "stream",
     "text": [
      "\n"
     ]
    },
    {
     "data": {
      "text/plain": [
       "(3345.3564074999995, 192.49739523509876)"
      ]
     },
     "execution_count": 30,
     "metadata": {},
     "output_type": "execute_result"
    }
   ],
   "source": [
    "SEED = 42\n",
    "N_SAMPLE = 100_000\n",
    "\n",
    "K = 10\n",
    "NODES = 100\n",
    "G = nx.erdos_renyi_graph(NODES, 0.0443, seed=SEED)\n",
    "\n",
    "p = 1.0\n",
    "\n",
    "for u, v in G.edges():\n",
    "  G[u][v]['p'] = p\n",
    "\n",
    "mean_epc, std_epc = robust_greedy_epc_mis(\n",
    "  G, K, num_samples=N_SAMPLE, trials=20)\n",
    "\n",
    "mean_epc, std_epc"
   ]
  },
  {
   "cell_type": "markdown",
   "id": "9bda83cc",
   "metadata": {},
   "source": [
    "# 6. Experiment"
   ]
  },
  {
   "cell_type": "code",
   "execution_count": null,
   "id": "54fb32f9",
   "metadata": {},
   "outputs": [
    {
     "name": "stderr",
     "output_type": "stream",
     "text": [
      "Processing:  91%|█████████ | 10/11 [00:18<00:01,  1.87s/it]\n",
      "Processing:  91%|█████████ | 10/11 [01:43<00:10, 10.37s/it]s/it]\n",
      "Processing:  91%|█████████ | 10/11 [05:07<00:30, 30.79s/it]s/it]\n",
      "Processing models: 100%|██████████| 3/3 [07:10<00:00, 143.41s/it]\n"
     ]
    }
   ],
   "source": [
    "SEED = 42\n",
    "N_SAMPLE = 100_000\n",
    "\n",
    "REGA_R = 5\n",
    "REGA_ALPHA = 0.3\n",
    "\n",
    "K = 3\n",
    "NODES = 20\n",
    "\n",
    "graph_models = {\n",
    "  'ER': nx.erdos_renyi_graph(NODES, 0.0443, seed=SEED),\n",
    "  'BA': nx.barabasi_albert_graph(NODES, 2,seed=SEED),\n",
    "  'SW': nx.watts_strogatz_graph(NODES, 4, 0.3, seed=SEED)\n",
    "}\n",
    "\n",
    "records = []\n",
    "for name, G in tqdm(graph_models.items(), desc=\"Processing models\", total=len(graph_models)):\n",
    "  for p in tqdm(np.arange(0.1, 1.1, 0.1), desc=\"Processing\", total=int(1.1/0.1)):\n",
    "\n",
    "    def fresh_graph():\n",
    "      H = G.copy()\n",
    "      for u, v in H.edges():\n",
    "        H[u][v]['p'] = p\n",
    "      return H\n",
    "\n",
    "    # Heuristics 1: Degree-Based Centrality\n",
    "    t0 = time.perf_counter()\n",
    "    G_degree  = remove_k_degree_centrality(fresh_graph(), K)\n",
    "    t_degree  = time.perf_counter() - t0\n",
    "\n",
    "    epc_degree = component_sampling_epc_mc(G_degree, set(), N_SAMPLE)\n",
    "\n",
    "    # Heuristics 2: Betweenness\n",
    "    t0 = time.perf_counter()\n",
    "    G_between  = remove_k_betweenness(fresh_graph(), K)\n",
    "    t_between  = time.perf_counter() - t0\n",
    "\n",
    "    epc_between = component_sampling_epc_mc(G_between, set(), N_SAMPLE)\n",
    "\n",
    "    # Heuristics 3: PageRank node\n",
    "    t0 = time.perf_counter()\n",
    "    G_pagerank  = remove_k_pagerank_nodes(fresh_graph(), K)\n",
    "    t_pagerank  = time.perf_counter() - t0\n",
    "\n",
    "    epc_pagerank = component_sampling_epc_mc(G_pagerank, set(), N_SAMPLE)\n",
    "\n",
    "    # Heuristics 4: Greedy from Empty Set + EPC (optimized) \n",
    "    t0 = time.perf_counter()\n",
    "    \n",
    "    G_greedy_es, sigma_delta  = optimise_epc(\n",
    "      G=fresh_graph(), \n",
    "      K=K,\n",
    "      num_samples=N_SAMPLE,\n",
    "      return_trace=True\n",
    "      )\n",
    "    t_greedy_es  = time.perf_counter() - t0\n",
    "\n",
    "    # epc_greedy_es = component_sampling_epc_mc(G_greedy_es, set(), N_SAMPLE)\n",
    "    epc_greedy_es = sigma_delta[-1]\n",
    "\n",
    "\n",
    "    # Heuristics 4: Greedy from Empty Set + EPC (non-optimized) \n",
    "    # t0 = time.perf_counter()\n",
    "    # G_deg  = greedy_cndp_epc(fresh_graph(), K)\n",
    "    # t_greedy_es  = time.perf_counter() - t0\n",
    "\n",
    "    # epc_deg = component_sampling_epc_mc(G_deg, set(), N_SAMPLE)\n",
    "\n",
    "\n",
    "\n",
    "    # Heuristics 5: Greedy from MIS + EPC (Prof. Ashwin)\n",
    "    t0 = time.perf_counter()\n",
    "    S_greedy_mis, sigma_delta_mis  = greedy_epc_mis(\n",
    "      G=fresh_graph(), \n",
    "      k=K, \n",
    "      num_samples=N_SAMPLE\n",
    "      )\n",
    "    t_greedy_mis  = time.perf_counter() - t0\n",
    "\n",
    "    epc_greedy_mis = component_sampling_epc_mc(\n",
    "      fresh_graph(), S_greedy_mis, 100_000)\n",
    "\n",
    "    # Heuristics 6: REGA\n",
    "    t0 = time.perf_counter()\n",
    "    S_rega  = REGA_with_LP(\n",
    "      G=fresh_graph(), \n",
    "      k=K,\n",
    "      R=REGA_R,\n",
    "      alpha=REGA_ALPHA\n",
    "      )\n",
    "    t_rega  = time.perf_counter() - t0\n",
    "\n",
    "    epc_rega = component_sampling_epc_mc(\n",
    "      fresh_graph(), S_rega, N_SAMPLE)\n",
    "\n",
    "\n",
    "    for algo, t, epc in [\n",
    "      ('Degree-based', t_degree, epc_degree),\n",
    "      ('Betweenness', t_between, epc_between),\n",
    "      ('PageRank', t_pagerank, epc_pagerank),\n",
    "      ('Greedy_ES', t_greedy_es, epc_greedy_es),\n",
    "      ('Greedy_MIS', t_greedy_mis, epc_greedy_mis),\n",
    "      ('REGA', t_rega, epc_rega),      \n",
    "    ]:\n",
    "      \n",
    "      records.append({\n",
    "        'model': name,\n",
    "        'p': p,\n",
    "        'algo': algo,\n",
    "        'time': t,\n",
    "        'epc': epc,\n",
    "      })"
   ]
  },
  {
   "cell_type": "code",
   "execution_count": null,
   "id": "5ded191e",
   "metadata": {},
   "outputs": [],
   "source": [
    "df = pd.DataFrame(records)\n",
    "df.to_csv(\"Result_10_2_all.csv\", index=False)"
   ]
  },
  {
   "cell_type": "code",
   "execution_count": null,
   "id": "01386912",
   "metadata": {},
   "outputs": [
    {
     "data": {
      "image/png": "[encoded data removed]",
      "text/plain": [
       "<Figure size 640x480 with 1 Axes>"
      ]
     },
     "metadata": {},
     "output_type": "display_data"
    },
    {
     "data": {
      "image/png": "[encoded data removed]",
      "text/plain": [
       "<Figure size 640x480 with 1 Axes>"
      ]
     },
     "metadata": {},
     "output_type": "display_data"
    },
    {
     "data": {
      "image/png": "[encoded data removed]",
      "text/plain": [
       "<Figure size 640x480 with 1 Axes>"
      ]
     },
     "metadata": {},
     "output_type": "display_data"
    },
    {
     "data": {
      "image/png": "[encoded data removed]",
      "text/plain": [
       "<Figure size 640x480 with 1 Axes>"
      ]
     },
     "metadata": {},
     "output_type": "display_data"
    },
    {
     "data": {
      "image/png": "[encoded data removed]",
      "text/plain": [
       "<Figure size 640x480 with 1 Axes>"
      ]
     },
     "metadata": {},
     "output_type": "display_data"
    },
    {
     "data": {
      "image/png": "[encoded data removed]",
      "text/plain": [
       "<Figure size 640x480 with 1 Axes>"
      ]
     },
     "metadata": {},
     "output_type": "display_data"
    }
   ],
   "source": [
    "for name in graph_models:\n",
    "    plt.figure()\n",
    "    for algo in df.algo.unique():\n",
    "        sub=df[(df.model==name)&(df.algo==algo)]\n",
    "        plt.plot(sub.p, sub.epc, marker='o', label=algo)\n",
    "    plt.title(f\"{name} — EPC vs p\")\n",
    "    plt.xlabel(\"p\"); plt.ylabel(\"EPC\"); plt.grid(True); plt.legend()\n",
    "\n",
    "    # plt.savefig(f\"{name}_time_vs_p.png\")\n",
    "    \n",
    "    plt.figure()\n",
    "    for algo in df.algo.unique():\n",
    "        sub = df[(df.model == name) & (df.algo == algo)]\n",
    "        plt.plot(sub.p, sub.time, label=algo)\n",
    "    plt.title(f\"{name} — Time vs p\")\n",
    "    plt.xlabel(\"p\"); plt.ylabel(\"Time (s)\"); plt.grid(True); plt.legend()\n",
    "    # plt.savefig(f\"{name}_time_vs_p.png\")\n",
    "\n",
    "\n",
    "plt.show()"
   ]
  },
  {
   "cell_type": "code",
   "execution_count": null,
   "id": "17dd2b57",
   "metadata": {},
   "outputs": [],
   "source": []
  }
 ],
 "metadata": {
  "kernelspec": {
   "display_name": "Python 3",
   "language": "python",
   "name": "python3"
  },
  "language_info": {
   "codemirror_mode": {
    "name": "ipython",
    "version": 3
   },
   "file_extension": ".py",
   "mimetype": "text/x-python",
   "name": "python",
   "nbconvert_exporter": "python",
   "pygments_lexer": "ipython3",
   "version": "3.12.3"
  }
 },
 "nbformat": 4,
 "nbformat_minor": 5
}
