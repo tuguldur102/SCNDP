{
 "cells": [
  {
   "cell_type": "code",
   "execution_count": 1,
   "id": "b5d3ed37",
   "metadata": {},
   "outputs": [],
   "source": [
    "# === Standard Library ===\n",
    "import math\n",
    "import random\n",
    "import time\n",
    "import heapq\n",
    "import itertools\n",
    "from collections import defaultdict, deque\n",
    "from itertools import combinations\n",
    "from typing import Any, Tuple, Dict, List, Set, Sequence, Union\n",
    "\n",
    "# === Third-Party Libraries ===\n",
    "\n",
    "# --- Scientific Computing ---\n",
    "import numpy as np\n",
    "import pandas as pd\n",
    "import scipy.sparse as sp\n",
    "from scipy.optimize import linprog\n",
    "\n",
    "# --- Plotting ---\n",
    "import matplotlib.pyplot as plt\n",
    "\n",
    "# --- Parallel Processing ---\n",
    "from joblib import Parallel, delayed\n",
    "from tqdm import tqdm\n",
    "\n",
    "# --- Graph Processing ---\n",
    "import networkx as nx\n",
    "\n",
    "# --- JIT Compilation ---\n",
    "from numba import njit, prange"
   ]
  },
  {
   "cell_type": "markdown",
   "id": "2a298bd7",
   "metadata": {},
   "source": [
    "# 1. EPC (parallelized)"
   ]
  },
  {
   "cell_type": "code",
   "execution_count": 2,
   "id": "dbbafdc1",
   "metadata": {},
   "outputs": [],
   "source": [
    "def nx_to_csr(G: nx.Graph) -> Tuple[List[int], Dict[int, int], np.ndarray, np.ndarray, np.ndarray]:\n",
    "     \"\"\"Convert an undirected NetworkX graph (edge attr `'p'`) to CSR arrays.\"\"\"\n",
    "     nodes: List[int] = list(G.nodes())\n",
    "     idx_of: Dict[int, int] = {u: i for i, u in enumerate(nodes)}\n",
    "\n",
    "     indptr: List[int] = [0]\n",
    "     indices: List[int] = []\n",
    "     probs: List[float] = []\n",
    "\n",
    "     for u in nodes:\n",
    "         for v in G.neighbors(u):\n",
    "             indices.append(idx_of[v])\n",
    "             probs.append(G.edges[u, v]['p'])\n",
    "         indptr.append(len(indices))\n",
    "\n",
    "     return (\n",
    "         nodes,\n",
    "         idx_of,\n",
    "         np.asarray(indptr, dtype=np.int32),\n",
    "         np.asarray(indices, dtype=np.int32),\n",
    "         np.asarray(probs, dtype=np.float32),\n",
    "     )\n",
    "\n",
    "@njit(inline=\"always\")\n",
    "def _bfs_component_size(start: int,\n",
    "                    indptr: np.ndarray,\n",
    "                    indices: np.ndarray,\n",
    "                    probs: np.ndarray,\n",
    "                    deleted: np.ndarray) -> int:\n",
    "    \"\"\"Return |C_u|−1 for **one** random realisation (stack BFS).\"\"\"\n",
    "    n = deleted.size\n",
    "    stack = np.empty(n, dtype=np.int32)\n",
    "    visited = np.zeros(n, dtype=np.uint8)\n",
    "\n",
    "    size = 1\n",
    "    top = 0\n",
    "    stack[top] = start\n",
    "    top += 1\n",
    "    visited[start] = 1\n",
    "\n",
    "    while top:\n",
    "        top -= 1\n",
    "        v = stack[top]\n",
    "        for eid in range(indptr[v], indptr[v + 1]):\n",
    "            w = indices[eid]\n",
    "            if deleted[w]:\n",
    "                continue\n",
    "            if np.random.random() >= probs[eid]:\n",
    "                continue\n",
    "            if visited[w]:\n",
    "                continue\n",
    "            visited[w] = 1\n",
    "            stack[top] = w\n",
    "            top += 1\n",
    "            size += 1\n",
    "    return size - 1\n",
    "\n",
    "@njit(parallel=True)\n",
    "def epc_mc(indptr: np.ndarray,\n",
    "            indices: np.ndarray,\n",
    "            probs: np.ndarray,\n",
    "            deleted: np.ndarray,\n",
    "            num_samples: int) -> float:\n",
    "    \"\"\"Monte‑Carlo estimator of **expected pairwise connectivity** (EPC).\"\"\"\n",
    "    surv = np.where(~deleted)[0]\n",
    "    m = surv.size\n",
    "    if m < 2:\n",
    "        return 0.0\n",
    "\n",
    "    acc = 0.0\n",
    "    for _ in prange(num_samples):\n",
    "        u = surv[np.random.randint(m)]\n",
    "        acc += _bfs_component_size(u, indptr, indices, probs, deleted)\n",
    "\n",
    "    return (m * acc) / (2.0 * num_samples)\n",
    "\n",
    "def epc_mc_deleted(\n",
    "  G: nx.Graph,\n",
    "  S: set,\n",
    "  num_samples: int = 100_000,\n",
    ") -> float:\n",
    "  # build csr once\n",
    "  nodes, idx_of, indptr, indices, probs = nx_to_csr(G)\n",
    "  n = len(nodes)\n",
    "\n",
    "  # turn python set S into a mask (node-IDs to delete)\n",
    "  deleted = np.zeros(n, dtype=np.bool_)\n",
    "  for u in S:\n",
    "    deleted[idx_of[u]] = True\n",
    "\n",
    "  epc = epc_mc(indptr, indices, probs, deleted, num_samples)\n",
    "\n",
    "  return epc"
   ]
  },
  {
   "cell_type": "code",
   "execution_count": 3,
   "id": "a828b3b8",
   "metadata": {},
   "outputs": [],
   "source": [
    "def component_sampling_epc_mc(G, S, num_samples=1_000,\n",
    "                              epsilon=None, delta=None, use_tqdm=False):\n",
    "  \"\"\"\n",
    "  Theoretic bounds: compute N = N(epsilon, delta) by the theoretical bound.\n",
    "  Experimentation:  Otherwise, use the N as input for sample count.\n",
    "  \"\"\"\n",
    "\n",
    "  # Surviving vertex set and its size\n",
    "  V_remaining = set(G.nodes()) - S\n",
    "  n_rem = len(V_remaining)\n",
    "\n",
    "  # base case\n",
    "  if n_rem < 2:\n",
    "    return 0.0\n",
    "\n",
    "  if num_samples is None:\n",
    "    assert epsilon is not None and delta is not None\n",
    "    P_E = sum(G.edges[u, v]['p'] for u, v in G.edges())\n",
    "    coeff = 4 * (math.e - 2) * math.log(2 / delta)\n",
    "    num_samples = math.ceil(coeff * n_rem * (n_rem - 1) /\n",
    "                            (epsilon ** 2 * P_E))\n",
    "\n",
    "  C2 = 0\n",
    "  it = tqdm(range(num_samples), desc='Component sampling',\n",
    "            total=num_samples) if use_tqdm else range(num_samples)\n",
    "\n",
    "  for _ in it:\n",
    "    u = random.choice(tuple(V_remaining))\n",
    "\n",
    "    # BFS based on edge probabilities\n",
    "\n",
    "    visited = {u}\n",
    "    queue = [u]\n",
    "\n",
    "    while queue:\n",
    "\n",
    "      v = queue.pop()\n",
    "      for w in G.neighbors(v):\n",
    "\n",
    "        # flip a coin biased by the edge probability\n",
    "        # w not in deleted nodes\n",
    "        if w in V_remaining and random.random() < G.edges[v, w]['p']:\n",
    "\n",
    "          # if w is not visited\n",
    "          if w not in visited:\n",
    "              visited.add(w)\n",
    "              queue.append(w)\n",
    "\n",
    "    # component counting\n",
    "    C2 += (len(visited) - 1)\n",
    "\n",
    "  return (n_rem * C2) / (2 * num_samples)"
   ]
  },
  {
   "cell_type": "code",
   "execution_count": 5,
   "id": "0ae3c60c",
   "metadata": {},
   "outputs": [],
   "source": [
    "def epc_celf(G, k, epc_func, **epc_kwargs):\n",
    "    \"\"\"\n",
    "    CELF wrapper to pick k nodes minimizing EPC via lazy greedy.\n",
    "    \"\"\"\n",
    "    # 1) initialize S and baseline EPC\n",
    "    S = set()\n",
    "    current_epc = epc_func(G, S, **epc_kwargs)\n",
    "\n",
    "    # 2) build initial max‐heap of (–gain, node, stamp)\n",
    "    #    stamp=0 means computed against S at iteration 0\n",
    "    heap = []\n",
    "    for v in G.nodes():\n",
    "        epc_with_v = epc_func(G, S | {v}, **epc_kwargs)\n",
    "        gain = current_epc - epc_with_v\n",
    "        heapq.heappush(heap, (-gain, v, 0))\n",
    "\n",
    "    # 3) lazy‐greedy selection\n",
    "    iteration = 1\n",
    "    while len(S) < k:\n",
    "        neg_gain, v, stamp = heapq.heappop(heap)\n",
    "        gain = -neg_gain\n",
    "\n",
    "        if stamp == iteration - 1:\n",
    "            # this gain is still valid for current S → pick v\n",
    "            S.add(v)\n",
    "            current_epc -= gain\n",
    "            iteration += 1\n",
    "        else:\n",
    "            # stale estimate: recompute for the *current* S\n",
    "            epc_with_v = epc_func(G, S | {v}, **epc_kwargs)\n",
    "            new_gain = current_epc - epc_with_v\n",
    "            # push back with updated stamp\n",
    "            heapq.heappush(heap, (-new_gain, v, iteration - 1))\n",
    "\n",
    "    return S"
   ]
  },
  {
   "cell_type": "code",
   "execution_count": 6,
   "id": "4458c1a8",
   "metadata": {},
   "outputs": [
    {
     "ename": "NameError",
     "evalue": "name 'G' is not defined",
     "output_type": "error",
     "traceback": [
      "\u001b[0;31m---------------------------------------------------------------------------\u001b[0m",
      "\u001b[0;31mNameError\u001b[0m                                 Traceback (most recent call last)",
      "Cell \u001b[0;32mIn[6], line 2\u001b[0m\n\u001b[1;32m      1\u001b[0m delete_set \u001b[38;5;241m=\u001b[39m epc_celf(\n\u001b[0;32m----> 2\u001b[0m     \u001b[43mG\u001b[49m, \n\u001b[1;32m      3\u001b[0m     k\u001b[38;5;241m=\u001b[39m\u001b[38;5;241m5\u001b[39m, \n\u001b[1;32m      4\u001b[0m     epc_func\u001b[38;5;241m=\u001b[39mcomponent_sampling_epc_mc, \n\u001b[1;32m      5\u001b[0m     num_samples\u001b[38;5;241m=\u001b[39m\u001b[38;5;241m2_000\u001b[39m, \n\u001b[1;32m      6\u001b[0m     use_tqdm\u001b[38;5;241m=\u001b[39m\u001b[38;5;28;01mTrue\u001b[39;00m\n\u001b[1;32m      7\u001b[0m )\n",
      "\u001b[0;31mNameError\u001b[0m: name 'G' is not defined"
     ]
    }
   ],
   "source": [
    "delete_set = epc_celf(\n",
    "    G, \n",
    "    k=5, \n",
    "    epc_func=component_sampling_epc_mc, \n",
    "    num_samples=2_000, \n",
    "    use_tqdm=True\n",
    ")"
   ]
  },
  {
   "cell_type": "code",
   "execution_count": null,
   "id": "d14b246d",
   "metadata": {},
   "outputs": [],
   "source": [
    "sizes = [50, 100]\n",
    "K = 5\n",
    "results = []\n",
    "\n",
    "# Generate graphs and compute EPC\n",
    "for n in sizes:\n",
    "    G = nx.erdos_renyi_graph(n, p=0.1, seed=42)\n",
    "    # assign uniform edge probability\n",
    "    for u, v in G.edges():\n",
    "        G.edges[u, v]['p'] = 0.7\n",
    "\n",
    "    S = random.sample(list(G.nodes()), K)\n",
    "\n",
    "    print(S)\n",
    "    epc_estimate = epc_mc_deleted(\n",
    "        G, S, \n",
    "        num_samples=1000, use_tqdm=True\n",
    "        )\n",
    "  \n",
    "    delete_set = epc_celf(\n",
    "        G, \n",
    "        k=5, \n",
    "        epc_func=epc_mc_deleted, \n",
    "        num_samples=2_000, \n",
    "        use_tqdm=True\n",
    "    )\n",
    "    \n",
    "    results.append({\n",
    "        'Graph Size (n)': n,\n",
    "        'Deletion Set Size (K)': K,\n",
    "        'EPC Estimate': epc_estimate\n",
    "    })\n",
    "\n",
    "# Display results\n",
    "df = pd.DataFrame(results)"
   ]
  },
  {
   "cell_type": "code",
   "execution_count": 7,
   "id": "c25771d1",
   "metadata": {},
   "outputs": [
    {
     "name": "stdout",
     "output_type": "stream",
     "text": [
      "[69, 14, 71, 55, 66, 91, 57, 58, 4, 40]\n"
     ]
    },
    {
     "name": "stderr",
     "output_type": "stream",
     "text": [
      "100%|██████████| 100/100 [01:11<00:00,  1.39it/s]"
     ]
    },
    {
     "name": "stdout",
     "output_type": "stream",
     "text": [
      "Mean: 3710.6551\n",
      "Std:  7.5750\n",
      "Mean: 3710.4402\n",
      "Std:  7.5169\n"
     ]
    },
    {
     "name": "stderr",
     "output_type": "stream",
     "text": [
      "\n"
     ]
    }
   ],
   "source": [
    "G = nx.erdos_renyi_graph(100, 0.0443, 42)\n",
    "\n",
    "for u, v in G.edges():\n",
    "    G.edges[u, v]['p'] = 1.0\n",
    "\n",
    "K = 10\n",
    "\n",
    "S = random.sample(list(G.nodes()), K)\n",
    "\n",
    "print(S)\n",
    "\n",
    "estimates = []\n",
    "estimates_cmop = []\n",
    "\n",
    "for _ in tqdm(range(100)):\n",
    "    epc_estimate = epc_mc_deleted(\n",
    "        G.copy(), S,\n",
    "        num_samples=10000\n",
    "    )\n",
    "    estimates.append(epc_estimate)\n",
    "\n",
    "    epc_comp = component_sampling_epc_mc(\n",
    "        G.copy(), set(S),\n",
    "        num_samples=10000\n",
    "    )\n",
    "    estimates_cmop.append(epc_comp)\n",
    "\n",
    "# using NumPy\n",
    "mean_est = np.mean(estimates)\n",
    "std_est  = np.std(estimates) \n",
    "\n",
    "mean_est_comp = np.mean(estimates_cmop)\n",
    "std_est_comp  = np.std(estimates_cmop)      # population std (ddof=0)\n",
    "# std_est = np.std(estimates, ddof=1)  # sample std (ddof=1)\n",
    "\n",
    "print(f\"Mean: {mean_est:.4f}\")\n",
    "print(f\"Std:  {std_est:.4f}\")\n",
    "\n",
    "print(f\"Mean: {mean_est_comp:.4f}\")\n",
    "print(f\"Std:  {std_est_comp:.4f}\")"
   ]
  },
  {
   "cell_type": "code",
   "execution_count": 8,
   "id": "83de396f",
   "metadata": {},
   "outputs": [
    {
     "name": "stdout",
     "output_type": "stream",
     "text": [
      "[54, 71, 25, 49, 64, 34, 85, 38, 80, 15]\n"
     ]
    },
    {
     "name": "stderr",
     "output_type": "stream",
     "text": [
      "100%|██████████| 100/100 [01:10<00:00,  1.43it/s]"
     ]
    },
    {
     "name": "stdout",
     "output_type": "stream",
     "text": [
      "Mean: 3742.0926\n",
      "Std:  7.2699\n",
      "Mean: 3740.3395\n",
      "Std:  7.2448\n"
     ]
    },
    {
     "name": "stderr",
     "output_type": "stream",
     "text": [
      "\n"
     ]
    }
   ],
   "source": [
    "G = nx.erdos_renyi_graph(100, 0.0443, 42)\n",
    "\n",
    "for u, v in G.edges():\n",
    "    G.edges[u, v]['p'] = 1.0\n",
    "\n",
    "K = 10\n",
    "\n",
    "S = random.sample(list(G.nodes()), K)\n",
    "\n",
    "print(S)\n",
    "\n",
    "estimates = []\n",
    "estimates_cmop = []\n",
    "\n",
    "for _ in tqdm(range(100)):\n",
    "    epc_estimate = epc_mc_deleted(\n",
    "        G.copy(), S,\n",
    "        num_samples=10000\n",
    "    )\n",
    "    estimates.append(epc_estimate)\n",
    "\n",
    "    epc_comp = component_sampling_epc_mc(\n",
    "        G.copy(), set(S),\n",
    "        num_samples=10000\n",
    "    )\n",
    "    estimates_cmop.append(epc_comp)\n",
    "\n",
    "# using NumPy\n",
    "mean_est = np.mean(estimates)\n",
    "std_est  = np.std(estimates) \n",
    "\n",
    "mean_est_comp = np.mean(estimates_cmop)\n",
    "std_est_comp  = np.std(estimates_cmop)      # population std (ddof=0)\n",
    "# std_est = np.std(estimates, ddof=1)  # sample std (ddof=1)\n",
    "\n",
    "print(f\"Mean: {mean_est:.4f}\")\n",
    "print(f\"Std:  {std_est:.4f}\")\n",
    "\n",
    "print(f\"Mean: {mean_est_comp:.4f}\")\n",
    "print(f\"Std:  {std_est_comp:.4f}\")"
   ]
  },
  {
   "cell_type": "markdown",
   "id": "7129ebe9",
   "metadata": {},
   "source": [
    "# 2. GRASP"
   ]
  },
  {
   "cell_type": "code",
   "execution_count": 4,
   "id": "36a69fbe",
   "metadata": {},
   "outputs": [],
   "source": [
    "def grasp_cndp(G: nx.Graph,\n",
    "               K: int,\n",
    "               alpha: float = 0.1,\n",
    "               num_samples: int = 1000,\n",
    "               restarts: int = 15,\n",
    "               use_tqdm: bool = False):\n",
    "    \"\"\"\n",
    "    GRASP for Stochastic CNDP:\n",
    "    \"\"\"\n",
    "    best_S, best_score = None, float('inf')\n",
    "\n",
    "    if use_tqdm:\n",
    "        it = tqdm(range(restarts), desc=\"Processing GRASP\", total=restarts)\n",
    "    else:\n",
    "        it = range(restarts)\n",
    "\n",
    "    for _ in it:\n",
    "        S = set()\n",
    "        # precompute sigma(empty)\n",
    "        sigma_S = epc_mc_deleted(G, S, num_samples)\n",
    "\n",
    "        for k in range(K):\n",
    "            # compute improvement d_j = sigma(S) – sigma(S ∪ {j})\n",
    "            improvements = {}\n",
    "            for j in G.nodes():\n",
    "                if j in S: \n",
    "                    continue\n",
    "                sigma_Sj = epc_mc_deleted(G, S | {j}, num_samples)\n",
    "                improvements[j] = sigma_S - sigma_Sj\n",
    "\n",
    "            # find best and worst d\n",
    "            max_imp = max(improvements.values())\n",
    "            min_imp = min(improvements.values())\n",
    "\n",
    "            # build RCL = { j : d_j >= max_imp – alpha*(max_imp – min_imp) }\n",
    "            threshold = max_imp - alpha * (max_imp - min_imp)\n",
    "            RCL = [j for j, d in improvements.items() if d >= threshold]\n",
    "\n",
    "            # pick one at random from RCL\n",
    "            v = random.choice(RCL)\n",
    "            S.add(v)\n",
    "\n",
    "            # update sigma(S)\n",
    "            sigma_S = epc_mc_deleted(G, S, num_samples)\n",
    "\n",
    "        if sigma_S < best_score:\n",
    "            best_score = sigma_S\n",
    "            best_S = S.copy()\n",
    "\n",
    "    return best_S, best_score"
   ]
  },
  {
   "cell_type": "code",
   "execution_count": null,
   "id": "4aac6396",
   "metadata": {},
   "outputs": [
    {
     "name": "stderr",
     "output_type": "stream",
     "text": [
      "100%|██████████| 20/20 [01:17<00:00,  3.88s/it]\n"
     ]
    },
    {
     "name": "stdout",
     "output_type": "stream",
     "text": [
      "Best removal set: {64, 0, 6, 27, 43, 47, 79, 50, 59, 94}\n",
      "Estimated σ(S*)  : 3031.1325\n"
     ]
    },
    {
     "name": "stderr",
     "output_type": "stream",
     "text": [
      "100%|██████████| 20/20 [01:17<00:00,  3.87s/it]\n"
     ]
    },
    {
     "name": "stdout",
     "output_type": "stream",
     "text": [
      "Best removal set: {0, 64, 65, 36, 43, 47, 17, 50, 59, 94}\n",
      "Estimated σ(S*)  : 2975.3595\n"
     ]
    },
    {
     "name": "stderr",
     "output_type": "stream",
     "text": [
      "100%|██████████| 20/20 [01:18<00:00,  3.93s/it]\n"
     ]
    },
    {
     "name": "stdout",
     "output_type": "stream",
     "text": [
      "Best removal set: {65, 27, 43, 12, 47, 79, 50, 59, 92, 94}\n",
      "Estimated σ(S*)  : 2930.625\n"
     ]
    },
    {
     "name": "stderr",
     "output_type": "stream",
     "text": [
      "100%|██████████| 20/20 [01:17<00:00,  3.85s/it]\n"
     ]
    },
    {
     "name": "stdout",
     "output_type": "stream",
     "text": [
      "Best removal set: {0, 65, 3, 27, 79, 81, 24, 59, 93, 94}\n",
      "Estimated σ(S*)  : 2842.713\n"
     ]
    },
    {
     "name": "stderr",
     "output_type": "stream",
     "text": [
      "100%|██████████| 20/20 [01:19<00:00,  3.98s/it]\n"
     ]
    },
    {
     "name": "stdout",
     "output_type": "stream",
     "text": [
      "Best removal set: {0, 64, 6, 59, 43, 47, 17, 50, 91, 94}\n",
      "Estimated σ(S*)  : 3106.989\n"
     ]
    },
    {
     "name": "stderr",
     "output_type": "stream",
     "text": [
      "100%|██████████| 20/20 [01:23<00:00,  4.16s/it]\n"
     ]
    },
    {
     "name": "stdout",
     "output_type": "stream",
     "text": [
      "Best removal set: {65, 6, 11, 80, 49, 50, 24, 27, 92, 93}\n",
      "Estimated σ(S*)  : 3293.0235\n"
     ]
    },
    {
     "name": "stderr",
     "output_type": "stream",
     "text": [
      "100%|██████████| 20/20 [01:21<00:00,  4.09s/it]\n"
     ]
    },
    {
     "name": "stdout",
     "output_type": "stream",
     "text": [
      "Best removal set: {64, 3, 71, 39, 10, 79, 49, 90, 27, 94}\n",
      "Estimated σ(S*)  : 3506.0175\n"
     ]
    },
    {
     "name": "stderr",
     "output_type": "stream",
     "text": [
      "100%|██████████| 20/20 [01:23<00:00,  4.18s/it]\n"
     ]
    },
    {
     "name": "stdout",
     "output_type": "stream",
     "text": [
      "Best removal set: {64, 5, 37, 6, 69, 70, 45, 24, 94, 30}\n",
      "Estimated σ(S*)  : 3476.484\n"
     ]
    },
    {
     "name": "stderr",
     "output_type": "stream",
     "text": [
      "100%|██████████| 20/20 [01:22<00:00,  4.12s/it]\n"
     ]
    },
    {
     "name": "stdout",
     "output_type": "stream",
     "text": [
      "Best removal set: {96, 0, 47, 49, 19, 83, 86, 55, 90, 62}\n",
      "Estimated σ(S*)  : 3555.2115\n"
     ]
    },
    {
     "name": "stderr",
     "output_type": "stream",
     "text": [
      "  0%|          | 0/20 [00:02<?, ?it/s]\n"
     ]
    },
    {
     "ename": "KeyboardInterrupt",
     "evalue": "",
     "output_type": "error",
     "traceback": [
      "\u001b[0;31m---------------------------------------------------------------------------\u001b[0m",
      "\u001b[0;31mKeyboardInterrupt\u001b[0m                         Traceback (most recent call last)",
      "Cell \u001b[0;32mIn[14], line 11\u001b[0m\n\u001b[1;32m      8\u001b[0m   G[u][v][\u001b[38;5;124m'\u001b[39m\u001b[38;5;124mp\u001b[39m\u001b[38;5;124m'\u001b[39m] \u001b[38;5;241m=\u001b[39m p_edge\n\u001b[1;32m     10\u001b[0m \u001b[38;5;28;01mfor\u001b[39;00m alpha \u001b[38;5;129;01min\u001b[39;00m np\u001b[38;5;241m.\u001b[39marange(\u001b[38;5;241m0.1\u001b[39m, \u001b[38;5;241m1.1\u001b[39m, \u001b[38;5;241m0.1\u001b[39m):\n\u001b[0;32m---> 11\u001b[0m   S_star, score_star \u001b[38;5;241m=\u001b[39m \u001b[43mgrasp_cndp\u001b[49m\u001b[43m(\u001b[49m\u001b[43mG\u001b[49m\u001b[43m,\u001b[49m\u001b[43m \u001b[49m\u001b[43mK\u001b[49m\u001b[38;5;241;43m=\u001b[39;49m\u001b[43mK\u001b[49m\u001b[43m,\u001b[49m\n\u001b[1;32m     12\u001b[0m \u001b[43m                                  \u001b[49m\u001b[43malpha\u001b[49m\u001b[38;5;241;43m=\u001b[39;49m\u001b[43malpha\u001b[49m\u001b[43m,\u001b[49m\n\u001b[1;32m     13\u001b[0m \u001b[43m                                  \u001b[49m\u001b[43mnum_samples\u001b[49m\u001b[38;5;241;43m=\u001b[39;49m\u001b[38;5;241;43m10_000\u001b[39;49m\u001b[43m,\u001b[49m\n\u001b[1;32m     14\u001b[0m \u001b[43m                                  \u001b[49m\u001b[43mrestarts\u001b[49m\u001b[38;5;241;43m=\u001b[39;49m\u001b[38;5;241;43m20\u001b[39;49m\u001b[43m)\u001b[49m\n\u001b[1;32m     15\u001b[0m   \u001b[38;5;28mprint\u001b[39m(\u001b[38;5;124m\"\u001b[39m\u001b[38;5;124mBest removal set:\u001b[39m\u001b[38;5;124m\"\u001b[39m, S_star)\n\u001b[1;32m     16\u001b[0m   \u001b[38;5;28mprint\u001b[39m(\u001b[38;5;124m\"\u001b[39m\u001b[38;5;124mEstimated σ(S*)  :\u001b[39m\u001b[38;5;124m\"\u001b[39m, score_star)\n",
      "Cell \u001b[0;32mIn[11], line 22\u001b[0m, in \u001b[0;36mgrasp_cndp\u001b[0;34m(G, K, alpha, num_samples, restarts)\u001b[0m\n\u001b[1;32m     20\u001b[0m     \u001b[38;5;28;01mif\u001b[39;00m j \u001b[38;5;129;01min\u001b[39;00m S: \n\u001b[1;32m     21\u001b[0m         \u001b[38;5;28;01mcontinue\u001b[39;00m\n\u001b[0;32m---> 22\u001b[0m     sigma_Sj \u001b[38;5;241m=\u001b[39m \u001b[43mepc_mc_deleted\u001b[49m\u001b[43m(\u001b[49m\u001b[43mG\u001b[49m\u001b[43m,\u001b[49m\u001b[43m \u001b[49m\u001b[43mS\u001b[49m\u001b[43m \u001b[49m\u001b[38;5;241;43m|\u001b[39;49m\u001b[43m \u001b[49m\u001b[43m{\u001b[49m\u001b[43mj\u001b[49m\u001b[43m}\u001b[49m\u001b[43m,\u001b[49m\u001b[43m \u001b[49m\u001b[43mnum_samples\u001b[49m\u001b[43m)\u001b[49m\n\u001b[1;32m     23\u001b[0m     improvements[j] \u001b[38;5;241m=\u001b[39m sigma_S \u001b[38;5;241m-\u001b[39m sigma_Sj\n\u001b[1;32m     25\u001b[0m \u001b[38;5;66;03m# 2) find best and worst Δ\u001b[39;00m\n",
      "Cell \u001b[0;32mIn[2], line 91\u001b[0m, in \u001b[0;36mepc_mc_deleted\u001b[0;34m(G, S, num_samples)\u001b[0m\n\u001b[1;32m     88\u001b[0m \u001b[38;5;28;01mfor\u001b[39;00m u \u001b[38;5;129;01min\u001b[39;00m S:\n\u001b[1;32m     89\u001b[0m   deleted[idx_of[u]] \u001b[38;5;241m=\u001b[39m \u001b[38;5;28;01mTrue\u001b[39;00m\n\u001b[0;32m---> 91\u001b[0m epc \u001b[38;5;241m=\u001b[39m \u001b[43mepc_mc\u001b[49m\u001b[43m(\u001b[49m\u001b[43mindptr\u001b[49m\u001b[43m,\u001b[49m\u001b[43m \u001b[49m\u001b[43mindices\u001b[49m\u001b[43m,\u001b[49m\u001b[43m \u001b[49m\u001b[43mprobs\u001b[49m\u001b[43m,\u001b[49m\u001b[43m \u001b[49m\u001b[43mdeleted\u001b[49m\u001b[43m,\u001b[49m\u001b[43m \u001b[49m\u001b[43mnum_samples\u001b[49m\u001b[43m)\u001b[49m\n\u001b[1;32m     93\u001b[0m \u001b[38;5;28;01mreturn\u001b[39;00m epc\n",
      "\u001b[0;31mKeyboardInterrupt\u001b[0m: "
     ]
    }
   ],
   "source": [
    "G = nx.erdos_renyi_graph(100, 0.0443, 42)\n",
    "p_edge = 1.0\n",
    "K = 10\n",
    "alpha = 0.4\n",
    "\n",
    "for u, v in G.edges():\n",
    "  G[u][v]['p'] = p_edge\n",
    "\n",
    "for alpha in np.arange(0.1, 1.1, 0.1):\n",
    "  S_star, score_star = grasp_cndp(G, K=K,\n",
    "                                  alpha=alpha,\n",
    "                                  num_samples=10_000,\n",
    "                                  restarts=10)\n",
    "print(\"Best removal set:\", S_star)\n",
    "print(\"Estimated sigma(S*)  :\", score_star)"
   ]
  },
  {
   "cell_type": "markdown",
   "id": "e4a22fe9",
   "metadata": {},
   "source": [
    "## Grasp experiments"
   ]
  },
  {
   "cell_type": "code",
   "execution_count": 11,
   "id": "c18d3f09",
   "metadata": {},
   "outputs": [
    {
     "name": "stderr",
     "output_type": "stream",
     "text": [
      "Processing GRASP: 100%|██████████| 10/10 [00:30<00:00,  3.10s/it]\n"
     ]
    },
    {
     "name": "stdout",
     "output_type": "stream",
     "text": [
      "Alpha:  0.1\n",
      "Best removal set: {0, 64, 69, 6, 43, 47, 50, 57, 59, 94}\n",
      "grasp score star 3065.283\n",
      "Estimated final sigma(S*)  : 3080.7621\n"
     ]
    },
    {
     "name": "stderr",
     "output_type": "stream",
     "text": [
      "Processing GRASP: 100%|██████████| 10/10 [00:30<00:00,  3.08s/it]\n"
     ]
    },
    {
     "name": "stdout",
     "output_type": "stream",
     "text": [
      "Alpha:  0.2\n",
      "Best removal set: {64, 0, 4, 37, 6, 43, 47, 50, 59, 94}\n",
      "grasp score star 3071.601\n",
      "Estimated final sigma(S*)  : 3083.7456\n"
     ]
    },
    {
     "name": "stderr",
     "output_type": "stream",
     "text": [
      "Processing GRASP: 100%|██████████| 10/10 [00:31<00:00,  3.11s/it]\n"
     ]
    },
    {
     "name": "stdout",
     "output_type": "stream",
     "text": [
      "Alpha:  0.30000000000000004\n",
      "Best removal set: {0, 64, 6, 43, 78, 47, 50, 30, 59, 94}\n",
      "grasp score star 3056.508\n",
      "Estimated final sigma(S*)  : 3078.6561\n"
     ]
    },
    {
     "name": "stderr",
     "output_type": "stream",
     "text": [
      "Processing GRASP: 100%|██████████| 10/10 [00:31<00:00,  3.18s/it]\n"
     ]
    },
    {
     "name": "stdout",
     "output_type": "stream",
     "text": [
      "Alpha:  0.4\n",
      "Best removal set: {64, 0, 65, 6, 71, 43, 47, 50, 59, 94}\n",
      "grasp score star 3151.152\n",
      "Estimated final sigma(S*)  : 3159.8973\n"
     ]
    },
    {
     "name": "stderr",
     "output_type": "stream",
     "text": [
      "Processing GRASP:   0%|          | 0/10 [00:02<?, ?it/s]\n"
     ]
    },
    {
     "ename": "KeyboardInterrupt",
     "evalue": "",
     "output_type": "error",
     "traceback": [
      "\u001b[0;31m---------------------------------------------------------------------------\u001b[0m",
      "\u001b[0;31mKeyboardInterrupt\u001b[0m                         Traceback (most recent call last)",
      "Cell \u001b[0;32mIn[11], line 11\u001b[0m\n\u001b[1;32m      7\u001b[0m   G[u][v][\u001b[38;5;124m'\u001b[39m\u001b[38;5;124mp\u001b[39m\u001b[38;5;124m'\u001b[39m] \u001b[38;5;241m=\u001b[39m p_edge\n\u001b[1;32m      9\u001b[0m \u001b[38;5;28;01mfor\u001b[39;00m alpha \u001b[38;5;129;01min\u001b[39;00m np\u001b[38;5;241m.\u001b[39marange(\u001b[38;5;241m0.1\u001b[39m, \u001b[38;5;241m0.7\u001b[39m, \u001b[38;5;241m0.1\u001b[39m):\n\u001b[0;32m---> 11\u001b[0m   S_star, score_star \u001b[38;5;241m=\u001b[39m \u001b[43mgrasp_cndp\u001b[49m\u001b[43m(\u001b[49m\u001b[43mG\u001b[49m\u001b[38;5;241;43m.\u001b[39;49m\u001b[43mcopy\u001b[49m\u001b[43m(\u001b[49m\u001b[43m)\u001b[49m\u001b[43m,\u001b[49m\u001b[43m \u001b[49m\u001b[43mK\u001b[49m\u001b[38;5;241;43m=\u001b[39;49m\u001b[43mK\u001b[49m\u001b[43m,\u001b[49m\n\u001b[1;32m     12\u001b[0m \u001b[43m                                  \u001b[49m\u001b[43malpha\u001b[49m\u001b[38;5;241;43m=\u001b[39;49m\u001b[43malpha\u001b[49m\u001b[43m,\u001b[49m\n\u001b[1;32m     13\u001b[0m \u001b[43m                                  \u001b[49m\u001b[43mnum_samples\u001b[49m\u001b[38;5;241;43m=\u001b[39;49m\u001b[38;5;241;43m10_000\u001b[39;49m\u001b[43m,\u001b[49m\n\u001b[1;32m     14\u001b[0m \u001b[43m                                  \u001b[49m\u001b[43mrestarts\u001b[49m\u001b[38;5;241;43m=\u001b[39;49m\u001b[38;5;241;43m10\u001b[39;49m\u001b[43m,\u001b[49m\n\u001b[1;32m     15\u001b[0m \u001b[43m                                  \u001b[49m\u001b[43muse_tqdm\u001b[49m\u001b[38;5;241;43m=\u001b[39;49m\u001b[38;5;28;43;01mTrue\u001b[39;49;00m\u001b[43m)\u001b[49m\n\u001b[1;32m     17\u001b[0m   epc_grasp_final \u001b[38;5;241m=\u001b[39m epc_mc_deleted(G\u001b[38;5;241m.\u001b[39mcopy(), S_star, \u001b[38;5;241m100_000\u001b[39m)\n\u001b[1;32m     19\u001b[0m   \u001b[38;5;28mprint\u001b[39m(\u001b[38;5;124m\"\u001b[39m\u001b[38;5;124mAlpha: \u001b[39m\u001b[38;5;124m\"\u001b[39m, alpha)\n",
      "Cell \u001b[0;32mIn[9], line 28\u001b[0m, in \u001b[0;36mgrasp_cndp\u001b[0;34m(G, K, alpha, num_samples, restarts, use_tqdm)\u001b[0m\n\u001b[1;32m     26\u001b[0m     \u001b[38;5;28;01mif\u001b[39;00m j \u001b[38;5;129;01min\u001b[39;00m S: \n\u001b[1;32m     27\u001b[0m         \u001b[38;5;28;01mcontinue\u001b[39;00m\n\u001b[0;32m---> 28\u001b[0m     sigma_Sj \u001b[38;5;241m=\u001b[39m \u001b[43mepc_mc_deleted\u001b[49m\u001b[43m(\u001b[49m\u001b[43mG\u001b[49m\u001b[43m,\u001b[49m\u001b[43m \u001b[49m\u001b[43mS\u001b[49m\u001b[43m \u001b[49m\u001b[38;5;241;43m|\u001b[39;49m\u001b[43m \u001b[49m\u001b[43m{\u001b[49m\u001b[43mj\u001b[49m\u001b[43m}\u001b[49m\u001b[43m,\u001b[49m\u001b[43m \u001b[49m\u001b[43mnum_samples\u001b[49m\u001b[43m)\u001b[49m\n\u001b[1;32m     29\u001b[0m     improvements[j] \u001b[38;5;241m=\u001b[39m sigma_S \u001b[38;5;241m-\u001b[39m sigma_Sj\n\u001b[1;32m     31\u001b[0m \u001b[38;5;66;03m# find best and worst d\u001b[39;00m\n",
      "Cell \u001b[0;32mIn[2], line 91\u001b[0m, in \u001b[0;36mepc_mc_deleted\u001b[0;34m(G, S, num_samples)\u001b[0m\n\u001b[1;32m     88\u001b[0m \u001b[38;5;28;01mfor\u001b[39;00m u \u001b[38;5;129;01min\u001b[39;00m S:\n\u001b[1;32m     89\u001b[0m   deleted[idx_of[u]] \u001b[38;5;241m=\u001b[39m \u001b[38;5;28;01mTrue\u001b[39;00m\n\u001b[0;32m---> 91\u001b[0m epc \u001b[38;5;241m=\u001b[39m \u001b[43mepc_mc\u001b[49m\u001b[43m(\u001b[49m\u001b[43mindptr\u001b[49m\u001b[43m,\u001b[49m\u001b[43m \u001b[49m\u001b[43mindices\u001b[49m\u001b[43m,\u001b[49m\u001b[43m \u001b[49m\u001b[43mprobs\u001b[49m\u001b[43m,\u001b[49m\u001b[43m \u001b[49m\u001b[43mdeleted\u001b[49m\u001b[43m,\u001b[49m\u001b[43m \u001b[49m\u001b[43mnum_samples\u001b[49m\u001b[43m)\u001b[49m\n\u001b[1;32m     93\u001b[0m \u001b[38;5;28;01mreturn\u001b[39;00m epc\n",
      "\u001b[0;31mKeyboardInterrupt\u001b[0m: "
     ]
    }
   ],
   "source": [
    "G = nx.erdos_renyi_graph(100, 0.0443, 42)\n",
    "p_edge = 1.0\n",
    "K = 10\n",
    "# alpha = 0.4\n",
    "\n",
    "for u, v in G.edges():\n",
    "  G[u][v]['p'] = p_edge\n",
    "\n",
    "for alpha in np.arange(0.1, 0.7, 0.1):\n",
    "\n",
    "  S_star, score_star = grasp_cndp(G.copy(), K=K,\n",
    "                                  alpha=alpha,\n",
    "                                  num_samples=10_000,\n",
    "                                  restarts=10,\n",
    "                                  use_tqdm=True)\n",
    "  \n",
    "  epc_grasp_final = epc_mc_deleted(G.copy(), S_star, 100_000)\n",
    "\n",
    "  print(\"Alpha: \", alpha)\n",
    "  print(\"Best removal set:\", S_star)\n",
    "  print(\"grasp score star\", score_star)\n",
    "  print(\"Estimated final sigma(S*)  :\", epc_grasp_final)"
   ]
  },
  {
   "cell_type": "code",
   "execution_count": 14,
   "id": "8a5d3490",
   "metadata": {},
   "outputs": [
    {
     "name": "stderr",
     "output_type": "stream",
     "text": [
      "Processing GRASP: 100%|██████████| 10/10 [00:54<00:00,  5.47s/it]\n"
     ]
    },
    {
     "name": "stdout",
     "output_type": "stream",
     "text": [
      "Alpha:  0.05\n",
      "Best removal set: {0, 64, 96, 6, 43, 75, 47, 50, 59, 94}\n",
      "grasp score star 3072.654\n",
      "Estimated final sigma(S*)  : 3076.0587\n"
     ]
    },
    {
     "name": "stderr",
     "output_type": "stream",
     "text": [
      "Processing GRASP: 100%|██████████| 10/10 [00:48<00:00,  4.88s/it]\n"
     ]
    },
    {
     "name": "stdout",
     "output_type": "stream",
     "text": [
      "Alpha:  0.1\n",
      "Best removal set: {64, 0, 6, 27, 43, 12, 47, 50, 59, 94}\n",
      "grasp score star 3080.025\n",
      "Estimated final sigma(S*)  : 3082.4469\n"
     ]
    },
    {
     "name": "stderr",
     "output_type": "stream",
     "text": [
      "Processing GRASP: 100%|██████████| 10/10 [00:47<00:00,  4.74s/it]\n"
     ]
    },
    {
     "name": "stdout",
     "output_type": "stream",
     "text": [
      "Alpha:  0.15000000000000002\n",
      "Best removal set: {0, 64, 6, 91, 43, 47, 50, 87, 59, 94}\n",
      "grasp score star 3079.674\n",
      "Estimated final sigma(S*)  : 3082.3767\n"
     ]
    },
    {
     "name": "stderr",
     "output_type": "stream",
     "text": [
      "Processing GRASP: 100%|██████████| 10/10 [00:57<00:00,  5.72s/it]\n"
     ]
    },
    {
     "name": "stdout",
     "output_type": "stream",
     "text": [
      "Alpha:  0.2\n",
      "Best removal set: {64, 0, 96, 6, 43, 75, 47, 50, 59, 94}\n",
      "grasp score star 3077.568\n",
      "Estimated final sigma(S*)  : 3082.6224\n"
     ]
    },
    {
     "name": "stderr",
     "output_type": "stream",
     "text": [
      "Processing GRASP: 100%|██████████| 10/10 [00:56<00:00,  5.63s/it]\n"
     ]
    },
    {
     "name": "stdout",
     "output_type": "stream",
     "text": [
      "Alpha:  0.25\n",
      "Best removal set: {64, 0, 6, 40, 43, 47, 50, 59, 94, 31}\n",
      "grasp score star 3076.866\n",
      "Estimated final sigma(S*)  : 3081.1482\n"
     ]
    },
    {
     "name": "stderr",
     "output_type": "stream",
     "text": [
      "Processing GRASP: 100%|██████████| 10/10 [00:50<00:00,  5.00s/it]\n"
     ]
    },
    {
     "name": "stdout",
     "output_type": "stream",
     "text": [
      "Alpha:  0.3\n",
      "Best removal set: {0, 64, 6, 43, 79, 47, 50, 24, 59, 94}\n",
      "grasp score star 3067.74\n",
      "Estimated final sigma(S*)  : 3078.7614\n"
     ]
    },
    {
     "name": "stderr",
     "output_type": "stream",
     "text": [
      "Processing GRASP: 100%|██████████| 10/10 [00:48<00:00,  4.88s/it]\n"
     ]
    },
    {
     "name": "stdout",
     "output_type": "stream",
     "text": [
      "Alpha:  0.35000000000000003\n",
      "Best removal set: {64, 0, 6, 43, 47, 79, 50, 24, 59, 94}\n",
      "grasp score star 3094.767\n",
      "Estimated final sigma(S*)  : 3083.7105\n"
     ]
    },
    {
     "name": "stderr",
     "output_type": "stream",
     "text": [
      "Processing GRASP: 100%|██████████| 10/10 [00:59<00:00,  5.92s/it]\n"
     ]
    },
    {
     "name": "stdout",
     "output_type": "stream",
     "text": [
      "Alpha:  0.4\n",
      "Best removal set: {0, 64, 75, 12, 43, 47, 50, 27, 92, 94}\n",
      "grasp score star 3157.1955\n",
      "Estimated final sigma(S*)  : 3154.1382\n"
     ]
    },
    {
     "name": "stderr",
     "output_type": "stream",
     "text": [
      "Processing GRASP: 100%|██████████| 10/10 [00:57<00:00,  5.72s/it]\n"
     ]
    },
    {
     "name": "stdout",
     "output_type": "stream",
     "text": [
      "Alpha:  0.45\n",
      "Best removal set: {0, 64, 6, 50, 83, 20, 94, 59, 30, 57}\n",
      "grasp score star 3314.763\n",
      "Estimated final sigma(S*)  : 3322.01655\n"
     ]
    },
    {
     "name": "stderr",
     "output_type": "stream",
     "text": [
      "Processing GRASP: 100%|██████████| 10/10 [00:51<00:00,  5.17s/it]\n"
     ]
    },
    {
     "name": "stdout",
     "output_type": "stream",
     "text": [
      "Alpha:  0.5\n",
      "Best removal set: {6, 59, 77, 79, 47, 50, 24, 27, 93, 94}\n",
      "grasp score star 3218.76\n",
      "Estimated final sigma(S*)  : 3242.844\n"
     ]
    },
    {
     "name": "stderr",
     "output_type": "stream",
     "text": [
      "Processing GRASP: 100%|██████████| 10/10 [00:50<00:00,  5.01s/it]\n"
     ]
    },
    {
     "name": "stdout",
     "output_type": "stream",
     "text": [
      "Alpha:  0.55\n",
      "Best removal set: {0, 3, 6, 39, 71, 47, 81, 19, 84, 27}\n",
      "grasp score star 3396.8835\n",
      "Estimated final sigma(S*)  : 3403.94805\n"
     ]
    },
    {
     "name": "stderr",
     "output_type": "stream",
     "text": [
      "Processing GRASP: 100%|██████████| 10/10 [00:57<00:00,  5.70s/it]\n"
     ]
    },
    {
     "name": "stdout",
     "output_type": "stream",
     "text": [
      "Alpha:  0.6000000000000001\n",
      "Best removal set: {65, 59, 10, 76, 12, 81, 50, 27, 93, 94}\n",
      "grasp score star 3332.151\n",
      "Estimated final sigma(S*)  : 3324.0465\n"
     ]
    },
    {
     "name": "stderr",
     "output_type": "stream",
     "text": [
      "Processing GRASP:   0%|          | 0/10 [00:02<?, ?it/s]\n"
     ]
    },
    {
     "ename": "KeyboardInterrupt",
     "evalue": "",
     "output_type": "error",
     "traceback": [
      "\u001b[0;31m---------------------------------------------------------------------------\u001b[0m",
      "\u001b[0;31mKeyboardInterrupt\u001b[0m                         Traceback (most recent call last)",
      "Cell \u001b[0;32mIn[14], line 11\u001b[0m\n\u001b[1;32m      7\u001b[0m   G[u][v][\u001b[38;5;124m'\u001b[39m\u001b[38;5;124mp\u001b[39m\u001b[38;5;124m'\u001b[39m] \u001b[38;5;241m=\u001b[39m p_edge\n\u001b[1;32m      9\u001b[0m \u001b[38;5;28;01mfor\u001b[39;00m alpha \u001b[38;5;129;01min\u001b[39;00m np\u001b[38;5;241m.\u001b[39marange(\u001b[38;5;241m0.05\u001b[39m, \u001b[38;5;241m0.7\u001b[39m, \u001b[38;5;241m0.05\u001b[39m):\n\u001b[0;32m---> 11\u001b[0m   S_star, score_star \u001b[38;5;241m=\u001b[39m \u001b[43mgrasp_cndp\u001b[49m\u001b[43m(\u001b[49m\u001b[43mG\u001b[49m\u001b[38;5;241;43m.\u001b[39;49m\u001b[43mcopy\u001b[49m\u001b[43m(\u001b[49m\u001b[43m)\u001b[49m\u001b[43m,\u001b[49m\u001b[43m \u001b[49m\u001b[43mK\u001b[49m\u001b[38;5;241;43m=\u001b[39;49m\u001b[43mK\u001b[49m\u001b[43m,\u001b[49m\n\u001b[1;32m     12\u001b[0m \u001b[43m                                  \u001b[49m\u001b[43malpha\u001b[49m\u001b[38;5;241;43m=\u001b[39;49m\u001b[43malpha\u001b[49m\u001b[43m,\u001b[49m\n\u001b[1;32m     13\u001b[0m \u001b[43m                                  \u001b[49m\u001b[43mnum_samples\u001b[49m\u001b[38;5;241;43m=\u001b[39;49m\u001b[38;5;241;43m10_000\u001b[39;49m\u001b[43m,\u001b[49m\n\u001b[1;32m     14\u001b[0m \u001b[43m                                  \u001b[49m\u001b[43mrestarts\u001b[49m\u001b[38;5;241;43m=\u001b[39;49m\u001b[38;5;241;43m10\u001b[39;49m\u001b[43m,\u001b[49m\n\u001b[1;32m     15\u001b[0m \u001b[43m                                  \u001b[49m\u001b[43muse_tqdm\u001b[49m\u001b[38;5;241;43m=\u001b[39;49m\u001b[38;5;28;43;01mTrue\u001b[39;49;00m\u001b[43m)\u001b[49m\n\u001b[1;32m     17\u001b[0m   epc_grasp_final \u001b[38;5;241m=\u001b[39m epc_mc_deleted(G\u001b[38;5;241m.\u001b[39mcopy(), S_star, \u001b[38;5;241m100_000\u001b[39m)\n\u001b[1;32m     19\u001b[0m   \u001b[38;5;28mprint\u001b[39m(\u001b[38;5;124m\"\u001b[39m\u001b[38;5;124mAlpha: \u001b[39m\u001b[38;5;124m\"\u001b[39m, alpha)\n",
      "Cell \u001b[0;32mIn[4], line 28\u001b[0m, in \u001b[0;36mgrasp_cndp\u001b[0;34m(G, K, alpha, num_samples, restarts, use_tqdm)\u001b[0m\n\u001b[1;32m     26\u001b[0m     \u001b[38;5;28;01mif\u001b[39;00m j \u001b[38;5;129;01min\u001b[39;00m S: \n\u001b[1;32m     27\u001b[0m         \u001b[38;5;28;01mcontinue\u001b[39;00m\n\u001b[0;32m---> 28\u001b[0m     sigma_Sj \u001b[38;5;241m=\u001b[39m \u001b[43mepc_mc_deleted\u001b[49m\u001b[43m(\u001b[49m\u001b[43mG\u001b[49m\u001b[43m,\u001b[49m\u001b[43m \u001b[49m\u001b[43mS\u001b[49m\u001b[43m \u001b[49m\u001b[38;5;241;43m|\u001b[39;49m\u001b[43m \u001b[49m\u001b[43m{\u001b[49m\u001b[43mj\u001b[49m\u001b[43m}\u001b[49m\u001b[43m,\u001b[49m\u001b[43m \u001b[49m\u001b[43mnum_samples\u001b[49m\u001b[43m)\u001b[49m\n\u001b[1;32m     29\u001b[0m     improvements[j] \u001b[38;5;241m=\u001b[39m sigma_S \u001b[38;5;241m-\u001b[39m sigma_Sj\n\u001b[1;32m     31\u001b[0m \u001b[38;5;66;03m# find best and worst d\u001b[39;00m\n",
      "Cell \u001b[0;32mIn[2], line 91\u001b[0m, in \u001b[0;36mepc_mc_deleted\u001b[0;34m(G, S, num_samples)\u001b[0m\n\u001b[1;32m     88\u001b[0m \u001b[38;5;28;01mfor\u001b[39;00m u \u001b[38;5;129;01min\u001b[39;00m S:\n\u001b[1;32m     89\u001b[0m   deleted[idx_of[u]] \u001b[38;5;241m=\u001b[39m \u001b[38;5;28;01mTrue\u001b[39;00m\n\u001b[0;32m---> 91\u001b[0m epc \u001b[38;5;241m=\u001b[39m \u001b[43mepc_mc\u001b[49m\u001b[43m(\u001b[49m\u001b[43mindptr\u001b[49m\u001b[43m,\u001b[49m\u001b[43m \u001b[49m\u001b[43mindices\u001b[49m\u001b[43m,\u001b[49m\u001b[43m \u001b[49m\u001b[43mprobs\u001b[49m\u001b[43m,\u001b[49m\u001b[43m \u001b[49m\u001b[43mdeleted\u001b[49m\u001b[43m,\u001b[49m\u001b[43m \u001b[49m\u001b[43mnum_samples\u001b[49m\u001b[43m)\u001b[49m\n\u001b[1;32m     93\u001b[0m \u001b[38;5;28;01mreturn\u001b[39;00m epc\n",
      "\u001b[0;31mKeyboardInterrupt\u001b[0m: "
     ]
    }
   ],
   "source": [
    "G = nx.erdos_renyi_graph(100, 0.0443, 42)\n",
    "p_edge = 1.0\n",
    "K = 10\n",
    "# alpha = 0.4\n",
    "\n",
    "for u, v in G.edges():\n",
    "  G[u][v]['p'] = p_edge\n",
    "\n",
    "for alpha in np.arange(0.05, 0.7, 0.05):\n",
    "\n",
    "  S_star, score_star = grasp_cndp(G.copy(), K=K,\n",
    "                                  alpha=alpha,\n",
    "                                  num_samples=10_000,\n",
    "                                  restarts=10,\n",
    "                                  use_tqdm=True)\n",
    "  \n",
    "  epc_grasp_final = epc_mc_deleted(G.copy(), S_star, 100_000)\n",
    "\n",
    "  print(\"Alpha: \", alpha)\n",
    "  print(\"Best removal set:\", S_star)\n",
    "  print(\"grasp score star\", score_star)\n",
    "  print(\"Estimated final sigma(S*)  :\", epc_grasp_final)"
   ]
  },
  {
   "cell_type": "code",
   "execution_count": null,
   "id": "93fd811b",
   "metadata": {},
   "outputs": [],
   "source": [
    "G = nx.erdos_renyi_graph(100, 0.0443, 42)\n",
    "p_edge = 0.9\n",
    "K = 10\n",
    "# alpha = 0.4\n",
    "\n",
    "for u, v in G.edges():\n",
    "  G[u][v]['p'] = p_edge\n",
    "\n",
    "for alpha in np.arange(0.05, 0.7, 0.05):\n",
    "\n",
    "  S_star, score_star = grasp_cndp(G.copy(), K=K,\n",
    "                                  alpha=alpha,\n",
    "                                  num_samples=10_000,\n",
    "                                  restarts=10,\n",
    "                                  use_tqdm=True)\n",
    "  \n",
    "  epc_grasp_final = epc_mc_deleted(G.copy(), S_star, 100_000)\n",
    "\n",
    "  print(\"Alpha: \", alpha)\n",
    "  print(\"Best removal set:\", S_star)\n",
    "  print(\"grasp score star\", score_star)\n",
    "  print(\"Estimated final sigma(S*)  :\", epc_grasp_final)"
   ]
  },
  {
   "cell_type": "code",
   "execution_count": 13,
   "id": "bfdf7a39",
   "metadata": {},
   "outputs": [
    {
     "name": "stderr",
     "output_type": "stream",
     "text": [
      "Processing GRASP: 100%|██████████| 30/30 [01:34<00:00,  3.16s/it]\n"
     ]
    },
    {
     "name": "stdout",
     "output_type": "stream",
     "text": [
      "Alpha:  0.1\n",
      "Best removal set: {64, 0, 6, 27, 43, 12, 47, 50, 59, 94}\n",
      "grasp score star 3071.952\n",
      "Estimated final sigma(S*)  : 3080.5164\n"
     ]
    },
    {
     "name": "stderr",
     "output_type": "stream",
     "text": [
      "Processing GRASP: 100%|██████████| 30/30 [01:35<00:00,  3.19s/it]\n"
     ]
    },
    {
     "name": "stdout",
     "output_type": "stream",
     "text": [
      "Alpha:  0.2\n",
      "Best removal set: {64, 0, 6, 27, 43, 47, 50, 59, 92, 94}\n",
      "grasp score star 3062.124\n",
      "Estimated final sigma(S*)  : 3077.0415\n"
     ]
    },
    {
     "name": "stderr",
     "output_type": "stream",
     "text": [
      "Processing GRASP: 100%|██████████| 30/30 [01:33<00:00,  3.12s/it]\n"
     ]
    },
    {
     "name": "stdout",
     "output_type": "stream",
     "text": [
      "Alpha:  0.30000000000000004\n",
      "Best removal set: {64, 0, 6, 27, 12, 47, 79, 50, 59, 92}\n",
      "grasp score star 3062.475\n",
      "Estimated final sigma(S*)  : 3081.0429\n"
     ]
    },
    {
     "name": "stderr",
     "output_type": "stream",
     "text": [
      "Processing GRASP:   0%|          | 0/30 [00:02<?, ?it/s]\n"
     ]
    },
    {
     "ename": "KeyboardInterrupt",
     "evalue": "",
     "output_type": "error",
     "traceback": [
      "\u001b[0;31m---------------------------------------------------------------------------\u001b[0m",
      "\u001b[0;31mKeyboardInterrupt\u001b[0m                         Traceback (most recent call last)",
      "Cell \u001b[0;32mIn[13], line 11\u001b[0m\n\u001b[1;32m      7\u001b[0m   G[u][v][\u001b[38;5;124m'\u001b[39m\u001b[38;5;124mp\u001b[39m\u001b[38;5;124m'\u001b[39m] \u001b[38;5;241m=\u001b[39m p_edge\n\u001b[1;32m      9\u001b[0m \u001b[38;5;28;01mfor\u001b[39;00m alpha \u001b[38;5;129;01min\u001b[39;00m np\u001b[38;5;241m.\u001b[39marange(\u001b[38;5;241m0.1\u001b[39m, \u001b[38;5;241m0.7\u001b[39m, \u001b[38;5;241m0.1\u001b[39m):\n\u001b[0;32m---> 11\u001b[0m   S_star, score_star \u001b[38;5;241m=\u001b[39m \u001b[43mgrasp_cndp\u001b[49m\u001b[43m(\u001b[49m\u001b[43mG\u001b[49m\u001b[38;5;241;43m.\u001b[39;49m\u001b[43mcopy\u001b[49m\u001b[43m(\u001b[49m\u001b[43m)\u001b[49m\u001b[43m,\u001b[49m\u001b[43m \u001b[49m\u001b[43mK\u001b[49m\u001b[38;5;241;43m=\u001b[39;49m\u001b[43mK\u001b[49m\u001b[43m,\u001b[49m\n\u001b[1;32m     12\u001b[0m \u001b[43m                                  \u001b[49m\u001b[43malpha\u001b[49m\u001b[38;5;241;43m=\u001b[39;49m\u001b[43malpha\u001b[49m\u001b[43m,\u001b[49m\n\u001b[1;32m     13\u001b[0m \u001b[43m                                  \u001b[49m\u001b[43mnum_samples\u001b[49m\u001b[38;5;241;43m=\u001b[39;49m\u001b[38;5;241;43m10_000\u001b[39;49m\u001b[43m,\u001b[49m\n\u001b[1;32m     14\u001b[0m \u001b[43m                                  \u001b[49m\u001b[43mrestarts\u001b[49m\u001b[38;5;241;43m=\u001b[39;49m\u001b[38;5;241;43m30\u001b[39;49m\u001b[43m,\u001b[49m\n\u001b[1;32m     15\u001b[0m \u001b[43m                                  \u001b[49m\u001b[43muse_tqdm\u001b[49m\u001b[38;5;241;43m=\u001b[39;49m\u001b[38;5;28;43;01mTrue\u001b[39;49;00m\u001b[43m)\u001b[49m\n\u001b[1;32m     17\u001b[0m   epc_grasp_final \u001b[38;5;241m=\u001b[39m epc_mc_deleted(G\u001b[38;5;241m.\u001b[39mcopy(), S_star, \u001b[38;5;241m100_000\u001b[39m)\n\u001b[1;32m     19\u001b[0m   \u001b[38;5;28mprint\u001b[39m(\u001b[38;5;124m\"\u001b[39m\u001b[38;5;124mAlpha: \u001b[39m\u001b[38;5;124m\"\u001b[39m, alpha)\n",
      "Cell \u001b[0;32mIn[9], line 28\u001b[0m, in \u001b[0;36mgrasp_cndp\u001b[0;34m(G, K, alpha, num_samples, restarts, use_tqdm)\u001b[0m\n\u001b[1;32m     26\u001b[0m     \u001b[38;5;28;01mif\u001b[39;00m j \u001b[38;5;129;01min\u001b[39;00m S: \n\u001b[1;32m     27\u001b[0m         \u001b[38;5;28;01mcontinue\u001b[39;00m\n\u001b[0;32m---> 28\u001b[0m     sigma_Sj \u001b[38;5;241m=\u001b[39m \u001b[43mepc_mc_deleted\u001b[49m\u001b[43m(\u001b[49m\u001b[43mG\u001b[49m\u001b[43m,\u001b[49m\u001b[43m \u001b[49m\u001b[43mS\u001b[49m\u001b[43m \u001b[49m\u001b[38;5;241;43m|\u001b[39;49m\u001b[43m \u001b[49m\u001b[43m{\u001b[49m\u001b[43mj\u001b[49m\u001b[43m}\u001b[49m\u001b[43m,\u001b[49m\u001b[43m \u001b[49m\u001b[43mnum_samples\u001b[49m\u001b[43m)\u001b[49m\n\u001b[1;32m     29\u001b[0m     improvements[j] \u001b[38;5;241m=\u001b[39m sigma_S \u001b[38;5;241m-\u001b[39m sigma_Sj\n\u001b[1;32m     31\u001b[0m \u001b[38;5;66;03m# find best and worst d\u001b[39;00m\n",
      "Cell \u001b[0;32mIn[2], line 91\u001b[0m, in \u001b[0;36mepc_mc_deleted\u001b[0;34m(G, S, num_samples)\u001b[0m\n\u001b[1;32m     88\u001b[0m \u001b[38;5;28;01mfor\u001b[39;00m u \u001b[38;5;129;01min\u001b[39;00m S:\n\u001b[1;32m     89\u001b[0m   deleted[idx_of[u]] \u001b[38;5;241m=\u001b[39m \u001b[38;5;28;01mTrue\u001b[39;00m\n\u001b[0;32m---> 91\u001b[0m epc \u001b[38;5;241m=\u001b[39m \u001b[43mepc_mc\u001b[49m\u001b[43m(\u001b[49m\u001b[43mindptr\u001b[49m\u001b[43m,\u001b[49m\u001b[43m \u001b[49m\u001b[43mindices\u001b[49m\u001b[43m,\u001b[49m\u001b[43m \u001b[49m\u001b[43mprobs\u001b[49m\u001b[43m,\u001b[49m\u001b[43m \u001b[49m\u001b[43mdeleted\u001b[49m\u001b[43m,\u001b[49m\u001b[43m \u001b[49m\u001b[43mnum_samples\u001b[49m\u001b[43m)\u001b[49m\n\u001b[1;32m     93\u001b[0m \u001b[38;5;28;01mreturn\u001b[39;00m epc\n",
      "\u001b[0;31mKeyboardInterrupt\u001b[0m: "
     ]
    }
   ],
   "source": [
    "G = nx.erdos_renyi_graph(100, 0.0443, 42)\n",
    "p_edge = 1.0\n",
    "K = 10\n",
    "# alpha = 0.4\n",
    "\n",
    "for u, v in G.edges():\n",
    "  G[u][v]['p'] = p_edge\n",
    "\n",
    "for alpha in np.arange(0.1, 0.7, 0.1):\n",
    "\n",
    "  S_star, score_star = grasp_cndp(G.copy(), K=K,\n",
    "                                  alpha=alpha,\n",
    "                                  num_samples=10_000,\n",
    "                                  restarts=30,\n",
    "                                  use_tqdm=True)\n",
    "  \n",
    "  epc_grasp_final = epc_mc_deleted(G.copy(), S_star, 100_000)\n",
    "\n",
    "  print(\"Alpha: \", alpha)\n",
    "  print(\"Best removal set:\", S_star)\n",
    "  print(\"grasp score star\", score_star)\n",
    "  print(\"Estimated final sigma(S*)  :\", epc_grasp_final)\n",
    "  "
   ]
  },
  {
   "cell_type": "markdown",
   "id": "107e7807",
   "metadata": {},
   "source": [
    "## 2.1 GRASP + local search"
   ]
  },
  {
   "cell_type": "code",
   "execution_count": 5,
   "id": "ed8316bb",
   "metadata": {},
   "outputs": [],
   "source": [
    "def local_search_swap(\n",
    "    S: Set[int],\n",
    "    *,\n",
    "    csr: Tuple[List[int], Dict[int,int], np.ndarray, np.ndarray, np.ndarray],\n",
    "    num_samples: int = 1000,\n",
    "    max_iter: int = 1\n",
    ") -> Set[int]:\n",
    "    \"\"\"\n",
    "    Given initial delete-set S, try 1-for-1 swaps to reduce EPC.\n",
    "    csr = (nodes, idx_of, indptr, indices, probs).\n",
    "    \"\"\"\n",
    "    nodes, idx_of, indptr, indices, probs = csr\n",
    "    n = len(nodes)\n",
    "    deleted = np.zeros(n, dtype=bool)\n",
    "    for u in S:\n",
    "        deleted[idx_of[u]] = True\n",
    "\n",
    "    curr = epc_mc(indptr, indices, probs, deleted, num_samples)\n",
    "\n",
    "    for _ in range(max_iter):\n",
    "        best_delta = 0.0\n",
    "        best_swap = None\n",
    "\n",
    "        for i in list(S):\n",
    "            ii = idx_of[i]\n",
    "            deleted[ii] = False\n",
    "            for j, jj in idx_of.items():\n",
    "                if deleted[jj]:\n",
    "                    continue\n",
    "                deleted[jj] = True\n",
    "                sigma_new = epc_mc(indptr, indices, probs, deleted, num_samples)\n",
    "                delta = curr - sigma_new\n",
    "                if delta > best_delta:\n",
    "                    best_delta = delta\n",
    "                    best_swap = (ii, jj, sigma_new)\n",
    "                deleted[jj] = False\n",
    "            deleted[ii] = True\n",
    "\n",
    "        if best_swap is None:\n",
    "            break\n",
    "\n",
    "        ii, jj, curr = best_swap\n",
    "        deleted[ii] = False\n",
    "        deleted[jj] = True\n",
    "        S.remove(nodes[ii])\n",
    "        S.add(nodes[jj])\n",
    "\n",
    "    return S"
   ]
  },
  {
   "cell_type": "code",
   "execution_count": 6,
   "id": "94f4d211",
   "metadata": {},
   "outputs": [],
   "source": [
    "def build_csr(G: nx.Graph):\n",
    "\n",
    "    nodes = sorted(G.nodes())\n",
    "    idx_of = {u: i for i, u in enumerate(nodes)}\n",
    "    n = len(nodes)\n",
    "\n",
    "    degs = [len(list(G.neighbors(u))) for u in nodes]\n",
    "    indptr = np.zeros(n + 1, dtype=int)\n",
    "    indptr[1:] = np.cumsum(degs)\n",
    "\n",
    "    indices = np.empty(indptr[-1], dtype=int)\n",
    "    probs = np.empty(indptr[-1], dtype=float)\n",
    "    ptr = 0\n",
    "\n",
    "    for u in nodes:\n",
    "        for v in G.neighbors(u):\n",
    "            indices[ptr] = idx_of[v]\n",
    "            probs[ptr] = G.edges[u, v]['p']\n",
    "            ptr += 1\n",
    "            \n",
    "    return nodes, idx_of, indptr, indices, probs\n",
    "\n",
    "def grasp_with_local_search(\n",
    "    G: nx.Graph,\n",
    "    K: int,\n",
    "    alpha: float = 0.2,\n",
    "    mc_samples_grasp: int = 1000,\n",
    "    mc_samples_ls: int = 1000,\n",
    "    restarts: int = 20,\n",
    "    max_ls_iter: int = 5\n",
    ") -> Tuple[Set[int], float]:\n",
    "    \"\"\"\n",
    "    Combined GRASP + local_search_swap procedure.\n",
    "    \"\"\"\n",
    "\n",
    "    csr = build_csr(G)\n",
    "    best_S, best_score = set(), float('inf')\n",
    "\n",
    "    for _ in tqdm(range(restarts)):\n",
    "        S, _ = grasp_cndp(\n",
    "            G, K, num_samples=mc_samples_grasp, \n",
    "            alpha=alpha, restarts=1)\n",
    "        \n",
    "        S_imp = local_search_swap(\n",
    "            S, csr=csr, num_samples=mc_samples_ls, \n",
    "            max_iter=max_ls_iter)\n",
    "        \n",
    "        score_imp = epc_mc_deleted(\n",
    "            G, S_imp, \n",
    "            num_samples=mc_samples_grasp)\n",
    "        \n",
    "        if score_imp < best_score:\n",
    "            best_score, best_S = score_imp, S_imp.copy()\n",
    "\n",
    "    return best_S, best_score"
   ]
  },
  {
   "cell_type": "markdown",
   "id": "fe7d5f82",
   "metadata": {},
   "source": [
    "## 2.2 GRASP + local search (outside)\n",
    "\n",
    "- First find best score from GRASP the then utilize the local search"
   ]
  },
  {
   "cell_type": "code",
   "execution_count": 7,
   "id": "805312e9",
   "metadata": {},
   "outputs": [],
   "source": [
    "def grasp_with_local_search_outside(\n",
    "    G: nx.Graph,\n",
    "    K: int,\n",
    "    alpha: float = 0.2,\n",
    "    mc_samples_grasp: int = 10000,\n",
    "    mc_samples_ls: int = 10000,\n",
    "    restarts: int = 30,\n",
    "    max_ls_iter: int = 1,\n",
    "    use_tqdm: bool = False\n",
    ") -> Tuple[Set[int], float]:\n",
    "    \"\"\"\n",
    "    Combined GRASP + local_search_swap procedure.\n",
    "    \"\"\"\n",
    "\n",
    "    csr = build_csr(G)\n",
    "    # best_inner_S, best_inner_score = set(), float('inf')\n",
    "    best_S, best_score = set(), float('inf')\n",
    "\n",
    "    S_grasp, epc_grasp = grasp_cndp(\n",
    "        G, K, num_samples=mc_samples_grasp, \n",
    "        alpha=alpha, restarts=restarts, use_tqdm=True)\n",
    "    \n",
    "    print(f\"\\nGrashp EPC: {epc_grasp}\\n\")\n",
    "    # score_inner = epc_mc_deleted(\n",
    "    #     G, S_grasp, \n",
    "    #     num_samples=mc_samples_grasp)\n",
    "\n",
    "    S_last = local_search_swap(\n",
    "        S_grasp, csr=csr, num_samples=mc_samples_ls, \n",
    "        max_iter=max_ls_iter)\n",
    "    \n",
    "    score_last = epc_mc_deleted(\n",
    "            G, S_last, \n",
    "            num_samples=mc_samples_grasp)\n",
    "\n",
    "    return S_last, score_last"
   ]
  },
  {
   "cell_type": "markdown",
   "id": "9bb05e5c",
   "metadata": {},
   "source": [
    "## Grasp experiments"
   ]
  },
  {
   "cell_type": "code",
   "execution_count": null,
   "id": "b17d9463",
   "metadata": {},
   "outputs": [
    {
     "name": "stderr",
     "output_type": "stream",
     "text": [
      "Processing GRASP: 100%|██████████| 10/10 [02:39<00:00, 15.98s/it]\n"
     ]
    },
    {
     "name": "stdout",
     "output_type": "stream",
     "text": [
      "\n",
      "Grashp EPC: 3067.038\n",
      "\n",
      "Best removal set: {0, 64, 6, 27, 43, 12, 47, 50, 59, 94}\n",
      "Estimated sigma(S*)  : 3089.853\n",
      "Estimated final simga(S*)  : 3078.621\n"
     ]
    },
    {
     "name": "stderr",
     "output_type": "stream",
     "text": [
      "100%|██████████| 10/10 [11:36<00:00, 69.64s/it]"
     ]
    },
    {
     "name": "stdout",
     "output_type": "stream",
     "text": [
      "Best removal set: {64, 0, 34, 67, 43, 79, 50, 24, 59, 94}\n",
      "Estimated sigma(S*)  : 2965.446\n",
      "Estimated final simga(S*)  : 3002.90715\n"
     ]
    },
    {
     "name": "stderr",
     "output_type": "stream",
     "text": [
      "\n"
     ]
    }
   ],
   "source": [
    "G = nx.erdos_renyi_graph(100, 0.0443, 42)\n",
    "p_edge = 1.0\n",
    "\n",
    "K = 10\n",
    "alpha = 0.2\n",
    "\n",
    "N_SAMPLE : int = 10000\n",
    "LS_ITER = 1\n",
    "grasp_restarts = 20\n",
    "\n",
    "for u, v in G.edges():\n",
    "  G[u][v]['p'] = p_edge\n",
    "\n",
    "S_star_outside, epc_outside = grasp_with_local_search_outside(\n",
    "                                G, K=K,\n",
    "                                alpha=alpha,\n",
    "                                mc_samples_grasp=N_SAMPLE,\n",
    "                                mc_samples_ls=N_SAMPLE,\n",
    "                                restarts=grasp_restarts,\n",
    "                                max_ls_iter=LS_ITER\n",
    "                                )\n",
    "\n",
    "grasp_outside_epc_final = epc_mc_deleted(G.copy(), S_star_outside, 100_000)\n",
    "\n",
    "print(\"Best removal set:\", S_star_outside)\n",
    "print(\"Estimated sigma(S*)  :\", epc_outside)\n",
    "print(\"Estimated final simga(S*)  :\", grasp_outside_epc_final)\n",
    "\n",
    "S_star_ls, epc_grasp_ls = grasp_with_local_search(\n",
    "                                G, K=K,\n",
    "                                alpha=alpha,\n",
    "                                mc_samples_grasp=N_SAMPLE,\n",
    "                                mc_samples_ls=N_SAMPLE,\n",
    "                                restarts=grasp_restarts,\n",
    "                                max_ls_iter=LS_ITER\n",
    "                                )\n",
    "\n",
    "grasp_epc_final = epc_mc_deleted(G.copy(), S_star_ls, 100_000)\n",
    "\n",
    "print(\"Best removal set:\", S_star_ls)\n",
    "print(\"Estimated sigma(S*)  :\", epc_grasp_ls)\n",
    "print(\"Estimated final simga(S*)  :\", grasp_epc_final)"
   ]
  },
  {
   "cell_type": "code",
   "execution_count": null,
   "id": "c45a3dcf",
   "metadata": {},
   "outputs": [
    {
     "name": "stderr",
     "output_type": "stream",
     "text": [
      "Processing GRASP: 100%|██████████| 20/20 [01:02<00:00,  3.12s/it]\n"
     ]
    },
    {
     "name": "stdout",
     "output_type": "stream",
     "text": [
      "\n",
      "Grashp EPC: 3078.27\n",
      "\n",
      "Best removal set: {64, 0, 6, 40, 43, 47, 50, 59, 94, 31}\n",
      "Estimated sigma(S*)  : 3082.131\n",
      "Estimated final simga(S*)  : 3082.2363\n"
     ]
    },
    {
     "name": "stderr",
     "output_type": "stream",
     "text": [
      "100%|██████████| 20/20 [01:51<00:00,  5.59s/it]"
     ]
    },
    {
     "name": "stdout",
     "output_type": "stream",
     "text": [
      "Best removal set: {64, 0, 65, 59, 43, 47, 79, 50, 27, 94}\n",
      "Estimated sigma(S*)  : 3000.0555\n",
      "Estimated final simga(S*)  : 3001.8951\n"
     ]
    },
    {
     "name": "stderr",
     "output_type": "stream",
     "text": [
      "\n"
     ]
    }
   ],
   "source": [
    "G = nx.erdos_renyi_graph(100, 0.0443, 42)\n",
    "p_edge = 1.0\n",
    "\n",
    "K = 10\n",
    "alpha = 0.2\n",
    "\n",
    "N_SAMPLE : int = 10000\n",
    "LS_ITER = 1\n",
    "grasp_restarts = 20\n",
    "\n",
    "for u, v in G.edges():\n",
    "  G[u][v]['p'] = p_edge\n",
    "\n",
    "S_star_outside, epc_outside = grasp_with_local_search_outside(\n",
    "                                G, K=K,\n",
    "                                alpha=alpha,\n",
    "                                mc_samples_grasp=N_SAMPLE,\n",
    "                                mc_samples_ls=N_SAMPLE,\n",
    "                                restarts=grasp_restarts,\n",
    "                                max_ls_iter=LS_ITER\n",
    "                                )\n",
    "\n",
    "grasp_outside_epc_final = epc_mc_deleted(G.copy(), S_star_outside, 100_000)\n",
    "\n",
    "print(\"Best removal set:\", S_star_outside)\n",
    "print(\"Estimated sigma(S*)  :\", epc_outside)\n",
    "print(\"Estimated final simga(S*)  :\", grasp_outside_epc_final)\n",
    "\n",
    "S_star_ls, epc_grasp_ls = grasp_with_local_search(\n",
    "                                G, K=K,\n",
    "                                alpha=alpha,\n",
    "                                mc_samples_grasp=N_SAMPLE,\n",
    "                                mc_samples_ls=N_SAMPLE,\n",
    "                                restarts=grasp_restarts,\n",
    "                                max_ls_iter=LS_ITER\n",
    "                                )\n",
    "\n",
    "grasp_epc_final = epc_mc_deleted(G.copy(), S_star_ls, 100_000)\n",
    "\n",
    "print(\"Best removal set:\", S_star_ls)\n",
    "print(\"Estimated sigma(S*)  :\", epc_grasp_ls)\n",
    "print(\"Estimated final simga(S*)  :\", grasp_epc_final)"
   ]
  },
  {
   "cell_type": "code",
   "execution_count": 18,
   "id": "1508922d",
   "metadata": {},
   "outputs": [
    {
     "name": "stderr",
     "output_type": "stream",
     "text": [
      "Processing GRASP: 100%|██████████| 20/20 [01:15<00:00,  3.80s/it]\n"
     ]
    },
    {
     "name": "stdout",
     "output_type": "stream",
     "text": [
      "\n",
      "Grashp EPC: 2844.7875\n",
      "\n",
      "Best removal set: {0, 34, 65, 27, 79, 50, 24, 59, 93, 94}\n",
      "Estimated sigma(S*)  : 2790.171\n",
      "Estimated final simga(S*)  : 2794.7664\n"
     ]
    },
    {
     "name": "stderr",
     "output_type": "stream",
     "text": [
      "100%|██████████| 20/20 [02:13<00:00,  6.66s/it]"
     ]
    },
    {
     "name": "stdout",
     "output_type": "stream",
     "text": [
      "Best removal set: {0, 65, 64, 27, 47, 79, 50, 59, 93, 94}\n",
      "Estimated sigma(S*)  : 2887.7265\n",
      "Estimated final simga(S*)  : 2879.98155\n"
     ]
    },
    {
     "name": "stderr",
     "output_type": "stream",
     "text": [
      "\n"
     ]
    }
   ],
   "source": [
    "G = nx.erdos_renyi_graph(100, 0.0443, 42)\n",
    "p_edge = 0.9\n",
    "\n",
    "K = 10\n",
    "alpha = 0.2\n",
    "\n",
    "N_SAMPLE : int = 10000\n",
    "LS_ITER = 1\n",
    "grasp_restarts = 20\n",
    "\n",
    "for u, v in G.edges():\n",
    "  G[u][v]['p'] = p_edge\n",
    "\n",
    "S_star_outside, epc_outside = grasp_with_local_search_outside(\n",
    "                                G, K=K,\n",
    "                                alpha=alpha,\n",
    "                                mc_samples_grasp=N_SAMPLE,\n",
    "                                mc_samples_ls=N_SAMPLE,\n",
    "                                restarts=grasp_restarts,\n",
    "                                max_ls_iter=LS_ITER\n",
    "                                )\n",
    "\n",
    "grasp_outside_epc_final = epc_mc_deleted(G.copy(), S_star_outside, 100_000)\n",
    "\n",
    "print(\"Best removal set:\", S_star_outside)\n",
    "print(\"Estimated sigma(S*)  :\", epc_outside)\n",
    "print(\"Estimated final simga(S*)  :\", grasp_outside_epc_final)\n",
    "\n",
    "S_star_ls, epc_grasp_ls = grasp_with_local_search(\n",
    "                                G, K=K,\n",
    "                                alpha=alpha,\n",
    "                                mc_samples_grasp=N_SAMPLE,\n",
    "                                mc_samples_ls=N_SAMPLE,\n",
    "                                restarts=grasp_restarts,\n",
    "                                max_ls_iter=LS_ITER\n",
    "                                )\n",
    "\n",
    "grasp_epc_final = epc_mc_deleted(G.copy(), S_star_ls, 100_000)\n",
    "\n",
    "print(\"Best removal set:\", S_star_ls)\n",
    "print(\"Estimated sigma(S*)  :\", epc_grasp_ls)\n",
    "print(\"Estimated final simga(S*)  :\", grasp_epc_final)"
   ]
  },
  {
   "cell_type": "code",
   "execution_count": 20,
   "id": "5753564b",
   "metadata": {},
   "outputs": [
    {
     "name": "stderr",
     "output_type": "stream",
     "text": [
      "Processing GRASP: 100%|██████████| 20/20 [01:15<00:00,  3.77s/it]\n"
     ]
    },
    {
     "name": "stdout",
     "output_type": "stream",
     "text": [
      "\n",
      "Grashp EPC: 2944.7505\n",
      "\n",
      "Best removal set: {64, 65, 34, 27, 43, 79, 50, 24, 59, 94}\n",
      "Estimated sigma(S*)  : 2847.8385\n",
      "Estimated final simga(S*)  : 2853.5589\n"
     ]
    },
    {
     "name": "stderr",
     "output_type": "stream",
     "text": [
      "100%|██████████| 20/20 [02:15<00:00,  6.78s/it]"
     ]
    },
    {
     "name": "stdout",
     "output_type": "stream",
     "text": [
      "Best removal set: {64, 0, 34, 6, 43, 79, 50, 24, 27, 94}\n",
      "Estimated sigma(S*)  : 2938.8555\n",
      "Estimated final simga(S*)  : 2950.43895\n"
     ]
    },
    {
     "name": "stderr",
     "output_type": "stream",
     "text": [
      "\n"
     ]
    }
   ],
   "source": [
    "G = nx.erdos_renyi_graph(100, 0.0443, 42)\n",
    "p_edge = 0.9\n",
    "\n",
    "K = 10\n",
    "alpha = 0.2\n",
    "\n",
    "N_SAMPLE : int = 10000\n",
    "LS_ITER = 1\n",
    "grasp_restarts = 20\n",
    "\n",
    "for u, v in G.edges():\n",
    "  G[u][v]['p'] = p_edge\n",
    "\n",
    "S_star_outside, epc_outside = grasp_with_local_search_outside(\n",
    "                                G, K=K,\n",
    "                                alpha=alpha,\n",
    "                                mc_samples_grasp=N_SAMPLE,\n",
    "                                mc_samples_ls=N_SAMPLE,\n",
    "                                restarts=grasp_restarts,\n",
    "                                max_ls_iter=LS_ITER\n",
    "                                )\n",
    "\n",
    "grasp_outside_epc_final = epc_mc_deleted(G.copy(), S_star_outside, 100_000)\n",
    "\n",
    "print(\"Best removal set:\", S_star_outside)\n",
    "print(\"Estimated sigma(S*)  :\", epc_outside)\n",
    "print(\"Estimated final simga(S*)  :\", grasp_outside_epc_final)\n",
    "\n",
    "S_star_ls, epc_grasp_ls = grasp_with_local_search(\n",
    "                                G, K=K,\n",
    "                                alpha=alpha,\n",
    "                                mc_samples_grasp=N_SAMPLE,\n",
    "                                mc_samples_ls=N_SAMPLE,\n",
    "                                restarts=grasp_restarts,\n",
    "                                max_ls_iter=LS_ITER\n",
    "                                )\n",
    "\n",
    "grasp_epc_final = epc_mc_deleted(G.copy(), S_star_ls, 100_000)\n",
    "\n",
    "print(\"Best removal set:\", S_star_ls)\n",
    "print(\"Estimated sigma(S*)  :\", epc_grasp_ls)\n",
    "print(\"Estimated final simga(S*)  :\", grasp_epc_final)"
   ]
  },
  {
   "cell_type": "code",
   "execution_count": 22,
   "id": "4f2adaaf",
   "metadata": {},
   "outputs": [
    {
     "name": "stderr",
     "output_type": "stream",
     "text": [
      "Processing GRASP: 100%|██████████| 30/30 [01:53<00:00,  3.79s/it]\n"
     ]
    },
    {
     "name": "stdout",
     "output_type": "stream",
     "text": [
      "\n",
      "Grashp EPC: 2977.8525\n",
      "\n",
      "Best removal set: {64, 0, 34, 67, 6, 43, 79, 50, 24, 94}\n",
      "Estimated sigma(S*)  : 2971.4625\n",
      "Estimated final simga(S*)  : 2965.3452\n"
     ]
    },
    {
     "name": "stderr",
     "output_type": "stream",
     "text": [
      "100%|██████████| 30/30 [03:21<00:00,  6.72s/it]"
     ]
    },
    {
     "name": "stdout",
     "output_type": "stream",
     "text": [
      "Best removal set: {64, 0, 65, 43, 47, 79, 50, 27, 92, 94}\n",
      "Estimated sigma(S*)  : 2917.9665\n",
      "Estimated final simga(S*)  : 2935.88145\n"
     ]
    },
    {
     "name": "stderr",
     "output_type": "stream",
     "text": [
      "\n"
     ]
    }
   ],
   "source": [
    "G = nx.erdos_renyi_graph(100, 0.0443, 42)\n",
    "p_edge = 0.9\n",
    "\n",
    "K = 10\n",
    "alpha = 0.2\n",
    "\n",
    "N_SAMPLE : int = 10000\n",
    "LS_ITER = 1\n",
    "grasp_restarts = 30\n",
    "\n",
    "for u, v in G.edges():\n",
    "  G[u][v]['p'] = p_edge\n",
    "\n",
    "S_star_outside, epc_outside = grasp_with_local_search_outside(\n",
    "                                G, K=K,\n",
    "                                alpha=alpha,\n",
    "                                mc_samples_grasp=N_SAMPLE,\n",
    "                                mc_samples_ls=N_SAMPLE,\n",
    "                                restarts=grasp_restarts,\n",
    "                                max_ls_iter=LS_ITER\n",
    "                                )\n",
    "\n",
    "grasp_outside_epc_final = epc_mc_deleted(G.copy(), S_star_outside, 100_000)\n",
    "\n",
    "print(\"Best removal set:\", S_star_outside)\n",
    "print(\"Estimated sigma(S*)  :\", epc_outside)\n",
    "print(\"Estimated final simga(S*)  :\", grasp_outside_epc_final)\n",
    "\n",
    "S_star_ls, epc_grasp_ls = grasp_with_local_search(\n",
    "                                G, K=K,\n",
    "                                alpha=alpha,\n",
    "                                mc_samples_grasp=N_SAMPLE,\n",
    "                                mc_samples_ls=N_SAMPLE,\n",
    "                                restarts=grasp_restarts,\n",
    "                                max_ls_iter=LS_ITER\n",
    "                                )\n",
    "\n",
    "grasp_epc_final = epc_mc_deleted(G.copy(), S_star_ls, 100_000)\n",
    "\n",
    "print(\"Best removal set:\", S_star_ls)\n",
    "print(\"Estimated sigma(S*)  :\", epc_grasp_ls)\n",
    "print(\"Estimated final simga(S*)  :\", grasp_epc_final)"
   ]
  },
  {
   "cell_type": "code",
   "execution_count": 23,
   "id": "6399bc51",
   "metadata": {},
   "outputs": [
    {
     "name": "stderr",
     "output_type": "stream",
     "text": [
      "Processing GRASP: 100%|██████████| 30/30 [01:54<00:00,  3.80s/it]\n"
     ]
    },
    {
     "name": "stdout",
     "output_type": "stream",
     "text": [
      "\n",
      "Grashp EPC: 3023.4285\n",
      "\n",
      "Best removal set: {64, 0, 34, 6, 43, 79, 50, 24, 59, 94}\n",
      "Estimated sigma(S*)  : 2963.3355\n",
      "Estimated final simga(S*)  : 2966.301\n"
     ]
    },
    {
     "name": "stderr",
     "output_type": "stream",
     "text": [
      "100%|██████████| 30/30 [03:24<00:00,  6.83s/it]"
     ]
    },
    {
     "name": "stdout",
     "output_type": "stream",
     "text": [
      "Best removal set: {64, 0, 65, 59, 47, 79, 50, 27, 92, 94}\n",
      "Estimated sigma(S*)  : 2940.003\n",
      "Estimated final simga(S*)  : 2942.63955\n"
     ]
    },
    {
     "name": "stderr",
     "output_type": "stream",
     "text": [
      "\n"
     ]
    }
   ],
   "source": [
    "G = nx.erdos_renyi_graph(100, 0.0443, 42)\n",
    "p_edge = 0.9\n",
    "\n",
    "K = 10\n",
    "alpha = 0.2\n",
    "\n",
    "N_SAMPLE : int = 10000\n",
    "LS_ITER = 1\n",
    "grasp_restarts = 30\n",
    "\n",
    "for u, v in G.edges():\n",
    "  G[u][v]['p'] = p_edge\n",
    "\n",
    "S_star_outside, epc_outside = grasp_with_local_search_outside(\n",
    "                                G, K=K,\n",
    "                                alpha=alpha,\n",
    "                                mc_samples_grasp=N_SAMPLE,\n",
    "                                mc_samples_ls=N_SAMPLE,\n",
    "                                restarts=grasp_restarts,\n",
    "                                max_ls_iter=LS_ITER\n",
    "                                )\n",
    "\n",
    "grasp_outside_epc_final = epc_mc_deleted(G.copy(), S_star_outside, 100_000)\n",
    "\n",
    "print(\"Best removal set:\", S_star_outside)\n",
    "print(\"Estimated sigma(S*)  :\", epc_outside)\n",
    "print(\"Estimated final simga(S*)  :\", grasp_outside_epc_final)\n",
    "\n",
    "S_star_ls, epc_grasp_ls = grasp_with_local_search(\n",
    "                                G, K=K,\n",
    "                                alpha=alpha,\n",
    "                                mc_samples_grasp=N_SAMPLE,\n",
    "                                mc_samples_ls=N_SAMPLE,\n",
    "                                restarts=grasp_restarts,\n",
    "                                max_ls_iter=LS_ITER\n",
    "                                )\n",
    "\n",
    "grasp_epc_final = epc_mc_deleted(G.copy(), S_star_ls, 100_000)\n",
    "\n",
    "print(\"Best removal set:\", S_star_ls)\n",
    "print(\"Estimated sigma(S*)  :\", epc_grasp_ls)\n",
    "print(\"Estimated final simga(S*)  :\", grasp_epc_final)"
   ]
  },
  {
   "cell_type": "code",
   "execution_count": 24,
   "id": "9a64ffc3",
   "metadata": {},
   "outputs": [
    {
     "name": "stderr",
     "output_type": "stream",
     "text": [
      "Processing GRASP: 100%|██████████| 30/30 [01:51<00:00,  3.73s/it]\n"
     ]
    },
    {
     "name": "stdout",
     "output_type": "stream",
     "text": [
      "\n",
      "Grashp EPC: 3033.63\n",
      "\n",
      "Best removal set: {0, 65, 43, 12, 47, 79, 50, 24, 27, 94}\n",
      "Estimated sigma(S*)  : 2925.9585\n",
      "Estimated final simga(S*)  : 2934.24885\n"
     ]
    },
    {
     "name": "stderr",
     "output_type": "stream",
     "text": [
      "100%|██████████| 30/30 [03:27<00:00,  6.92s/it]"
     ]
    },
    {
     "name": "stdout",
     "output_type": "stream",
     "text": [
      "Best removal set: {0, 64, 65, 59, 43, 47, 79, 50, 27, 94}\n",
      "Estimated sigma(S*)  : 2941.5915\n",
      "Estimated final simga(S*)  : 2944.8837\n"
     ]
    },
    {
     "name": "stderr",
     "output_type": "stream",
     "text": [
      "\n"
     ]
    }
   ],
   "source": [
    "G = nx.erdos_renyi_graph(100, 0.0443, 42)\n",
    "p_edge = 0.9\n",
    "\n",
    "K = 10\n",
    "alpha = 0.2\n",
    "\n",
    "N_SAMPLE : int = 10000\n",
    "LS_ITER = 1\n",
    "grasp_restarts = 30\n",
    "\n",
    "for u, v in G.edges():\n",
    "  G[u][v]['p'] = p_edge\n",
    "\n",
    "S_star_outside, epc_outside = grasp_with_local_search_outside(\n",
    "                                G, K=K,\n",
    "                                alpha=alpha,\n",
    "                                mc_samples_grasp=N_SAMPLE,\n",
    "                                mc_samples_ls=N_SAMPLE,\n",
    "                                restarts=grasp_restarts,\n",
    "                                max_ls_iter=LS_ITER\n",
    "                                )\n",
    "\n",
    "grasp_outside_epc_final = epc_mc_deleted(G.copy(), S_star_outside, 100_000)\n",
    "\n",
    "print(\"Best removal set:\", S_star_outside)\n",
    "print(\"Estimated sigma(S*)  :\", epc_outside)\n",
    "print(\"Estimated final simga(S*)  :\", grasp_outside_epc_final)\n",
    "\n",
    "S_star_ls, epc_grasp_ls = grasp_with_local_search(\n",
    "                                G, K=K,\n",
    "                                alpha=alpha,\n",
    "                                mc_samples_grasp=N_SAMPLE,\n",
    "                                mc_samples_ls=N_SAMPLE,\n",
    "                                restarts=grasp_restarts,\n",
    "                                max_ls_iter=LS_ITER\n",
    "                                )\n",
    "\n",
    "grasp_epc_final = epc_mc_deleted(G.copy(), S_star_ls, 100_000)\n",
    "\n",
    "print(\"Best removal set:\", S_star_ls)\n",
    "print(\"Estimated sigma(S*)  :\", epc_grasp_ls)\n",
    "print(\"Estimated final simga(S*)  :\", grasp_epc_final)"
   ]
  },
  {
   "cell_type": "code",
   "execution_count": 19,
   "id": "cad7accf",
   "metadata": {},
   "outputs": [
    {
     "name": "stderr",
     "output_type": "stream",
     "text": [
      "Processing GRASP: 100%|██████████| 20/20 [01:21<00:00,  4.07s/it]\n"
     ]
    },
    {
     "name": "stdout",
     "output_type": "stream",
     "text": [
      "\n",
      "Grashp EPC: 2674.3455\n",
      "\n",
      "Best removal set: {65, 34, 43, 12, 79, 50, 24, 27, 93, 94}\n",
      "Estimated sigma(S*)  : 2642.5845\n",
      "Estimated final simga(S*)  : 2639.2617\n"
     ]
    },
    {
     "name": "stderr",
     "output_type": "stream",
     "text": [
      "100%|██████████| 20/20 [02:19<00:00,  6.97s/it]"
     ]
    },
    {
     "name": "stdout",
     "output_type": "stream",
     "text": [
      "Best removal set: {0, 65, 34, 59, 91, 79, 49, 24, 27, 93}\n",
      "Estimated sigma(S*)  : 2648.0925\n",
      "Estimated final simga(S*)  : 2662.6356\n"
     ]
    },
    {
     "name": "stderr",
     "output_type": "stream",
     "text": [
      "\n"
     ]
    }
   ],
   "source": [
    "G = nx.erdos_renyi_graph(100, 0.0443, 42)\n",
    "p_edge = 0.8\n",
    "\n",
    "K = 10\n",
    "alpha = 0.2\n",
    "\n",
    "N_SAMPLE : int = 10000\n",
    "LS_ITER = 1\n",
    "grasp_restarts = 20\n",
    "\n",
    "for u, v in G.edges():\n",
    "  G[u][v]['p'] = p_edge\n",
    "\n",
    "S_star_outside, epc_outside = grasp_with_local_search_outside(\n",
    "                                G, K=K,\n",
    "                                alpha=alpha,\n",
    "                                mc_samples_grasp=N_SAMPLE,\n",
    "                                mc_samples_ls=N_SAMPLE,\n",
    "                                restarts=grasp_restarts,\n",
    "                                max_ls_iter=LS_ITER\n",
    "                                )\n",
    "\n",
    "grasp_outside_epc_final = epc_mc_deleted(G.copy(), S_star_outside, 100_000)\n",
    "\n",
    "print(\"Best removal set:\", S_star_outside)\n",
    "print(\"Estimated sigma(S*)  :\", epc_outside)\n",
    "print(\"Estimated final simga(S*)  :\", grasp_outside_epc_final)\n",
    "\n",
    "S_star_ls, epc_grasp_ls = grasp_with_local_search(\n",
    "                                G, K=K,\n",
    "                                alpha=alpha,\n",
    "                                mc_samples_grasp=N_SAMPLE,\n",
    "                                mc_samples_ls=N_SAMPLE,\n",
    "                                restarts=grasp_restarts,\n",
    "                                max_ls_iter=LS_ITER\n",
    "                                )\n",
    "\n",
    "grasp_epc_final = epc_mc_deleted(G.copy(), S_star_ls, 100_000)\n",
    "\n",
    "print(\"Best removal set:\", S_star_ls)\n",
    "print(\"Estimated sigma(S*)  :\", epc_grasp_ls)\n",
    "print(\"Estimated final simga(S*)  :\", grasp_epc_final)"
   ]
  },
  {
   "cell_type": "code",
   "execution_count": 62,
   "id": "c5aa332b",
   "metadata": {},
   "outputs": [
    {
     "name": "stderr",
     "output_type": "stream",
     "text": [
      "Processing GRASP: 100%|██████████| 20/20 [04:51<00:00, 14.57s/it]\n"
     ]
    },
    {
     "name": "stdout",
     "output_type": "stream",
     "text": [
      "\n",
      "Grashp EPC: 3072.303\n",
      "\n",
      "Best removal set: {0, 64, 96, 6, 43, 75, 47, 50, 59, 94}\n",
      "Estimated sigma(S*)  : 3085.641\n",
      "Estimated final simga(S*)  : 3081.3588\n"
     ]
    },
    {
     "name": "stderr",
     "output_type": "stream",
     "text": [
      "100%|██████████| 20/20 [27:06<00:00, 81.34s/it] \n"
     ]
    },
    {
     "name": "stdout",
     "output_type": "stream",
     "text": [
      "Best removal set: {0, 64, 34, 65, 43, 79, 50, 24, 27, 94}\n",
      "Estimated sigma(S*)  : 2933.1495\n",
      "Estimated final simga(S*)  : 2926.8639\n"
     ]
    }
   ],
   "source": [
    "G = nx.erdos_renyi_graph(100, 0.0443, 42)\n",
    "p_edge = 1.0\n",
    "\n",
    "K = 10\n",
    "alpha = 0.1\n",
    "\n",
    "N_SAMPLE : int = 10000\n",
    "LS_ITER = 5\n",
    "grasp_restarts = 20\n",
    "\n",
    "for u, v in G.edges():\n",
    "  G[u][v]['p'] = p_edge\n",
    "\n",
    "S_star_outside, epc_outside = grasp_with_local_search_outside(\n",
    "                                G, K=K,\n",
    "                                alpha=alpha,\n",
    "                                mc_samples_grasp=N_SAMPLE,\n",
    "                                mc_samples_ls=N_SAMPLE,\n",
    "                                restarts=grasp_restarts,\n",
    "                                max_ls_iter=LS_ITER\n",
    "                                )\n",
    "\n",
    "grasp_outside_epc_final = epc_mc_deleted(G.copy(), S_star_outside, 100_000)\n",
    "\n",
    "print(\"Best removal set:\", S_star_outside)\n",
    "print(\"Estimated sigma(S*)  :\", epc_outside)\n",
    "print(\"Estimated final simga(S*)  :\", grasp_outside_epc_final)\n",
    "\n",
    "S_star_ls, epc_grasp_ls = grasp_with_local_search(\n",
    "                                G, K=K,\n",
    "                                alpha=alpha,\n",
    "                                mc_samples_grasp=N_SAMPLE,\n",
    "                                mc_samples_ls=N_SAMPLE,\n",
    "                                restarts=grasp_restarts,\n",
    "                                max_ls_iter=LS_ITER\n",
    "                                )\n",
    "\n",
    "grasp_epc_final = epc_mc_deleted(G.copy(), S_star_ls, 100_000)\n",
    "\n",
    "print(\"Best removal set:\", S_star_ls)\n",
    "print(\"Estimated sigma(S*)  :\", epc_grasp_ls)\n",
    "print(\"Estimated final simga(S*)  :\", grasp_epc_final)"
   ]
  },
  {
   "cell_type": "code",
   "execution_count": 9,
   "id": "1b832725",
   "metadata": {},
   "outputs": [
    {
     "name": "stderr",
     "output_type": "stream",
     "text": [
      "Processing GRASP: 100%|██████████| 10/10 [00:34<00:00,  3.47s/it]\n"
     ]
    },
    {
     "name": "stdout",
     "output_type": "stream",
     "text": [
      "\n",
      "Grashp EPC: 3046.4145\n",
      "\n",
      "Best removal set: {0, 64, 6, 91, 47, 50, 54, 87, 59, 94}\n",
      "Estimated sigma(S*)  : 3052.962\n",
      "Estimated final simga(S*)  : 3060.189\n"
     ]
    }
   ],
   "source": [
    "G = nx.erdos_renyi_graph(100, 0.0443, 42)\n",
    "p_edge = 0.9\n",
    "\n",
    "K = 10\n",
    "alpha = 0.2\n",
    "\n",
    "N_SAMPLE : int = 10000\n",
    "LS_ITER = 1\n",
    "grasp_restarts = 10\n",
    "\n",
    "for u, v in G.edges():\n",
    "  G[u][v]['p'] = p_edge\n",
    "\n",
    "S_star_outside, epc_outside = grasp_with_local_search_outside(\n",
    "                                G, K=K,\n",
    "                                alpha=alpha,\n",
    "                                mc_samples_grasp=N_SAMPLE,\n",
    "                                mc_samples_ls=N_SAMPLE,\n",
    "                                restarts=grasp_restarts,\n",
    "                                max_ls_iter=LS_ITER\n",
    "                                )\n",
    "\n",
    "grasp_outside_epc_final = epc_mc_deleted(G.copy(), S_star_outside, 100_000)\n",
    "\n",
    "print(\"Best removal set:\", S_star_outside)\n",
    "print(\"Estimated sigma(S*)  :\", epc_outside)\n",
    "print(\"Estimated final simga(S*)  :\", grasp_outside_epc_final)\n",
    "\n",
    "# S_star_ls, epc_grasp_ls = grasp_with_local_search(\n",
    "#                                 G, K=K,\n",
    "#                                 alpha=alpha,\n",
    "#                                 mc_samples_grasp=N_SAMPLE,\n",
    "#                                 mc_samples_ls=N_SAMPLE,\n",
    "#                                 restarts=grasp_restarts,\n",
    "#                                 max_ls_iter=LS_ITER\n",
    "#                                 )\n",
    "\n",
    "# grasp_epc_final = epc_mc_deleted(G.copy(), S_star_ls, 100_000)\n",
    "\n",
    "# print(\"Best removal set:\", S_star_ls)\n",
    "# print(\"Estimated sigma(S*)  :\", epc_grasp_ls)\n",
    "# print(\"Estimated final simga(S*)  :\", grasp_epc_final)"
   ]
  },
  {
   "cell_type": "code",
   "execution_count": 10,
   "id": "4ad58303",
   "metadata": {},
   "outputs": [
    {
     "name": "stderr",
     "output_type": "stream",
     "text": [
      "Processing GRASP: 100%|██████████| 10/10 [00:36<00:00,  3.67s/it]\n"
     ]
    },
    {
     "name": "stdout",
     "output_type": "stream",
     "text": [
      "\n",
      "Grashp EPC: 3046.041\n",
      "\n",
      "Best removal set: {0, 64, 34, 6, 43, 79, 50, 24, 59, 94}\n",
      "Estimated sigma(S*)  : 2959.452\n",
      "Estimated final simga(S*)  : 2970.5859\n"
     ]
    }
   ],
   "source": [
    "G = nx.erdos_renyi_graph(100, 0.0443, 42)\n",
    "p_edge = 0.9\n",
    "\n",
    "K = 10\n",
    "alpha = 0.2\n",
    "\n",
    "N_SAMPLE : int = 10000\n",
    "LS_ITER = 1\n",
    "grasp_restarts = 10\n",
    "\n",
    "for u, v in G.edges():\n",
    "  G[u][v]['p'] = p_edge\n",
    "\n",
    "S_star_outside, epc_outside = grasp_with_local_search_outside(\n",
    "                                G, K=K,\n",
    "                                alpha=alpha,\n",
    "                                mc_samples_grasp=N_SAMPLE,\n",
    "                                mc_samples_ls=N_SAMPLE,\n",
    "                                restarts=grasp_restarts,\n",
    "                                max_ls_iter=LS_ITER\n",
    "                                )\n",
    "\n",
    "grasp_outside_epc_final = epc_mc_deleted(G.copy(), S_star_outside, 100_000)\n",
    "\n",
    "print(\"Best removal set:\", S_star_outside)\n",
    "print(\"Estimated sigma(S*)  :\", epc_outside)\n",
    "print(\"Estimated final simga(S*)  :\", grasp_outside_epc_final)\n",
    "\n",
    "# S_star_ls, epc_grasp_ls = grasp_with_local_search(\n",
    "#                                 G, K=K,\n",
    "#                                 alpha=alpha,\n",
    "#                                 mc_samples_grasp=N_SAMPLE,\n",
    "#                                 mc_samples_ls=N_SAMPLE,\n",
    "#                                 restarts=grasp_restarts,\n",
    "#                                 max_ls_iter=LS_ITER\n",
    "#                                 )\n",
    "\n",
    "# grasp_epc_final = epc_mc_deleted(G.copy(), S_star_ls, 100_000)\n",
    "\n",
    "# print(\"Best removal set:\", S_star_ls)\n",
    "# print(\"Estimated sigma(S*)  :\", epc_grasp_ls)\n",
    "# print(\"Estimated final simga(S*)  :\", grasp_epc_final)"
   ]
  },
  {
   "cell_type": "code",
   "execution_count": 11,
   "id": "2808c4ee",
   "metadata": {},
   "outputs": [
    {
     "name": "stderr",
     "output_type": "stream",
     "text": [
      "Processing GRASP: 100%|██████████| 10/10 [00:35<00:00,  3.58s/it]\n"
     ]
    },
    {
     "name": "stdout",
     "output_type": "stream",
     "text": [
      "\n",
      "Grashp EPC: 3049.5465\n",
      "\n",
      "Best removal set: {0, 64, 65, 43, 12, 47, 79, 50, 27, 94}\n",
      "Estimated sigma(S*)  : 2932.5735\n",
      "Estimated final simga(S*)  : 2943.39285\n"
     ]
    }
   ],
   "source": [
    "G = nx.erdos_renyi_graph(100, 0.0443, 42)\n",
    "p_edge = 0.9\n",
    "\n",
    "K = 10\n",
    "alpha = 0.1\n",
    "\n",
    "N_SAMPLE : int = 10000\n",
    "LS_ITER = 1\n",
    "grasp_restarts = 10\n",
    "\n",
    "for u, v in G.edges():\n",
    "  G[u][v]['p'] = p_edge\n",
    "\n",
    "S_star_outside, epc_outside = grasp_with_local_search_outside(\n",
    "                                G, K=K,\n",
    "                                alpha=alpha,\n",
    "                                mc_samples_grasp=N_SAMPLE,\n",
    "                                mc_samples_ls=N_SAMPLE,\n",
    "                                restarts=grasp_restarts,\n",
    "                                max_ls_iter=LS_ITER\n",
    "                                )\n",
    "\n",
    "grasp_outside_epc_final = epc_mc_deleted(G.copy(), S_star_outside, 100_000)\n",
    "\n",
    "print(\"Best removal set:\", S_star_outside)\n",
    "print(\"Estimated sigma(S*)  :\", epc_outside)\n",
    "print(\"Estimated final simga(S*)  :\", grasp_outside_epc_final)\n",
    "\n",
    "# S_star_ls, epc_grasp_ls = grasp_with_local_search(\n",
    "#                                 G, K=K,\n",
    "#                                 alpha=alpha,\n",
    "#                                 mc_samples_grasp=N_SAMPLE,\n",
    "#                                 mc_samples_ls=N_SAMPLE,\n",
    "#                                 restarts=grasp_restarts,\n",
    "#                                 max_ls_iter=LS_ITER\n",
    "#                                 )\n",
    "\n",
    "# grasp_epc_final = epc_mc_deleted(G.copy(), S_star_ls, 100_000)\n",
    "\n",
    "# print(\"Best removal set:\", S_star_ls)\n",
    "# print(\"Estimated sigma(S*)  :\", epc_grasp_ls)\n",
    "# print(\"Estimated final simga(S*)  :\", grasp_epc_final)"
   ]
  },
  {
   "cell_type": "code",
   "execution_count": 12,
   "id": "162f797a",
   "metadata": {},
   "outputs": [
    {
     "name": "stderr",
     "output_type": "stream",
     "text": [
      "Processing GRASP: 100%|██████████| 10/10 [00:02<00:00,  4.47it/s]"
     ]
    },
    {
     "name": "stdout",
     "output_type": "stream",
     "text": [
      "\n",
      "Grashp EPC: 17.4375\n",
      "\n",
      "Best removal set: {96, 65, 34, 10, 75, 59, 48, 24, 90, 27}\n",
      "Estimated sigma(S*)  : 17.3925\n",
      "Estimated final simga(S*)  : 16.9308\n"
     ]
    },
    {
     "name": "stderr",
     "output_type": "stream",
     "text": [
      "\n"
     ]
    }
   ],
   "source": [
    "G = nx.erdos_renyi_graph(100, 0.0443, 42)\n",
    "p_edge = 0.1\n",
    "\n",
    "K = 10\n",
    "alpha = 0.1\n",
    "\n",
    "N_SAMPLE : int = 10000\n",
    "LS_ITER = 1\n",
    "grasp_restarts = 10\n",
    "\n",
    "for u, v in G.edges():\n",
    "  G[u][v]['p'] = p_edge\n",
    "\n",
    "S_star_outside, epc_outside = grasp_with_local_search_outside(\n",
    "                                G, K=K,\n",
    "                                alpha=alpha,\n",
    "                                mc_samples_grasp=N_SAMPLE,\n",
    "                                mc_samples_ls=N_SAMPLE,\n",
    "                                restarts=grasp_restarts,\n",
    "                                max_ls_iter=LS_ITER\n",
    "                                )\n",
    "\n",
    "grasp_outside_epc_final = epc_mc_deleted(G.copy(), S_star_outside, 100_000)\n",
    "\n",
    "print(\"Best removal set:\", S_star_outside)\n",
    "print(\"Estimated sigma(S*)  :\", epc_outside)\n",
    "print(\"Estimated final simga(S*)  :\", grasp_outside_epc_final)"
   ]
  },
  {
   "cell_type": "markdown",
   "id": "3724e9c2",
   "metadata": {},
   "source": [
    "# 3. GRASP + Reactive alpha + Path relinking + LS"
   ]
  },
  {
   "cell_type": "code",
   "execution_count": 7,
   "id": "c7e0cf15",
   "metadata": {},
   "outputs": [],
   "source": [
    "class ReactiveAlpha:\n",
    "    def __init__(self, alpha_vals: List[float]):\n",
    "        self.alpha_vals = alpha_vals\n",
    "        self.weights = [1.0] * len(alpha_vals)\n",
    "\n",
    "    def sample(self) -> Tuple[int, float]:\n",
    "        total = sum(self.weights)\n",
    "        r = random.random() * total\n",
    "        cum = 0.0\n",
    "        for i, w in enumerate(self.weights):\n",
    "            cum += w\n",
    "            if r <= cum:\n",
    "                return i, self.alpha_vals[i]\n",
    "        return len(self.weights)-1, self.alpha_vals[-1]\n",
    "\n",
    "    def reward(self, idx: int, amount: float = 1.0):\n",
    "        self.weights[idx] += amount\n",
    "\n",
    "    def penalize(self, idx: int, factor: float = 0.99):\n",
    "        self.weights[idx] *= factor\n",
    "\n",
    "def grasp_construct(G: nx.Graph,\n",
    "                    K: int,\n",
    "                    alpha: float,\n",
    "                    mc_samples: int) -> Tuple[Set[int], float]:\n",
    "    \"\"\"One GRASP construction (no restarts).\"\"\"\n",
    "    S: Set[int] = set()\n",
    "    cache: Dict[frozenset, float] = {}\n",
    "\n",
    "    def sigma(SetS: Set[int]) -> float:\n",
    "        key = frozenset(SetS)\n",
    "        if key not in cache:\n",
    "            cache[key] = epc_mc_deleted(G, SetS, num_samples=mc_samples)\n",
    "        return cache[key]\n",
    "\n",
    "    sigma_S = sigma(S)\n",
    "    for _ in range(K):\n",
    "        gains = {}\n",
    "        for v in G.nodes():\n",
    "            if v in S:\n",
    "                continue\n",
    "            gains[v] = sigma_S - sigma(S | {v})\n",
    "        d_max, d_min = max(gains.values()), min(gains.values())\n",
    "        thresh = d_max - alpha * (d_max - d_min)\n",
    "        RCL = [v for v, d in gains.items() if d >= thresh]\n",
    "        choice = random.choice(RCL)\n",
    "        S.add(choice)\n",
    "        sigma_S = sigma(S)\n",
    "\n",
    "    return S, sigma_S\n",
    "\n",
    "def local_search_swap(\n",
    "    S: Set[int],\n",
    "    *,\n",
    "    csr: Tuple[List[int], Dict[int,int], np.ndarray, np.ndarray, np.ndarray],\n",
    "    num_samples: int = 100_000,\n",
    "    max_iter: int = 5\n",
    ") -> Set[int]:\n",
    "    nodes, idx_of, indptr, indices, probs = csr\n",
    "    n = len(nodes)\n",
    "    deleted = np.zeros(n, dtype=bool)\n",
    "    for u in S:\n",
    "        deleted[idx_of[u]] = True\n",
    "\n",
    "    curr = epc_mc(indptr, indices, probs, deleted, num_samples)\n",
    "\n",
    "    for _ in range(max_iter):\n",
    "        best_delta = 0.0\n",
    "        best_swap = None\n",
    "        for i in list(S):\n",
    "            ii = idx_of[i]\n",
    "            deleted[ii] = False\n",
    "            for j in nodes:\n",
    "                jj = idx_of[j]\n",
    "                if deleted[jj]:\n",
    "                    continue\n",
    "                deleted[jj] = True\n",
    "                new_sigma = epc_mc(indptr, indices, probs, deleted, num_samples)\n",
    "                delta = curr - new_sigma\n",
    "                if delta > best_delta:\n",
    "                    best_delta = delta\n",
    "                    best_swap = (ii, jj, new_sigma)\n",
    "                deleted[jj] = False\n",
    "            deleted[ii] = True\n",
    "\n",
    "        if best_swap is None:\n",
    "            break\n",
    "        ii, jj, curr = best_swap\n",
    "        deleted[ii] = False\n",
    "        deleted[jj] = True\n",
    "        S.remove(nodes[ii])\n",
    "        S.add(nodes[jj])\n",
    "\n",
    "    return S\n",
    "\n",
    "def path_relink(S: Set[int], E: Set[int],\n",
    "                G: nx.Graph,\n",
    "                mc_samples: int) -> Tuple[Set[int], float]:\n",
    "    \"\"\"Greedy walk from S toward E, returning best intermediate.\"\"\"\n",
    "\n",
    "    T = S.copy()\n",
    "    best_T, best_score = T.copy(), epc_mc_deleted(G, T, mc_samples)\n",
    "    D_add = list(E - T)\n",
    "    D_rm  = list(T - E)\n",
    "\n",
    "    while D_add and D_rm:\n",
    "        best_move = None\n",
    "        best_delta = 0.0\n",
    "        for i in D_rm:\n",
    "            for j in D_add:\n",
    "                T_candidate = T.copy()\n",
    "                T_candidate.remove(i)\n",
    "                T_candidate.add(j)\n",
    "                score = epc_mc_deleted(G, T_candidate, mc_samples)\n",
    "                delta = best_score - score\n",
    "                if delta > best_delta:\n",
    "                    best_delta = delta\n",
    "                    best_move = (i, j, score)\n",
    "        if best_move is None:\n",
    "            break\n",
    "        i, j, new_score = best_move\n",
    "        T.remove(i); T.add(j)\n",
    "        D_rm.remove(i); D_add.remove(j)\n",
    "        if new_score < best_score:\n",
    "            best_score = new_score\n",
    "            best_T = T.copy()\n",
    "\n",
    "    return best_T, best_score\n",
    "\n",
    "\n",
    "def insert_into_elite(elite: List[Tuple[Set[int], float]],\n",
    "                      candidate: Tuple[Set[int], float],\n",
    "                      max_size: int = 10):\n",
    "    elite.append(candidate)\n",
    "    elite.sort(key=lambda x: x[1])\n",
    "    if len(elite) > max_size:\n",
    "        elite.pop()\n",
    "\n",
    "def build_csr(G: nx.Graph):\n",
    "    nodes = sorted(G.nodes())\n",
    "    idx_of = {u: i for i, u in enumerate(nodes)}\n",
    "    degs = [len(list(G.neighbors(u))) for u in nodes]\n",
    "    indptr = np.zeros(len(nodes)+1, dtype=int)\n",
    "    indptr[1:] = np.cumsum(degs)\n",
    "    indices = np.empty(indptr[-1], dtype=int)\n",
    "    probs   = np.empty(indptr[-1], dtype=float)\n",
    "    ptr = 0\n",
    "    for u in nodes:\n",
    "        for v in G.neighbors(u):\n",
    "            indices[ptr] = idx_of[v]\n",
    "            probs[ptr]   = G.edges[u, v]['p']\n",
    "            ptr += 1\n",
    "    return nodes, idx_of, indptr, indices, probs\n"
   ]
  },
  {
   "cell_type": "code",
   "execution_count": 8,
   "id": "4a8a2bc2",
   "metadata": {},
   "outputs": [],
   "source": [
    "def grasp_meta(\n",
    "    G: nx.Graph,\n",
    "    K: int,\n",
    "    restarts: int = 30,\n",
    "    mc_samples_grasp: int = 10_000,\n",
    "    mc_samples_final: int = 10_000,\n",
    "    mc_samples_ls: int = 10_000,\n",
    "    max_ls_iter: int = 1,\n",
    "    elite_size: int = 5,\n",
    ") -> Tuple[Set[int], float]:\n",
    "    reactive = ReactiveAlpha([0.05, 0.15, 0.3, 0.5, 0.7, 0.9])\n",
    "    elite: List[Tuple[Set[int], float]] = []\n",
    "\n",
    "    # construction only loop\n",
    "    for _ in tqdm(range(restarts), desc=\"GRASP construct only\", total=restarts):\n",
    "        idx_alpha, alpha = reactive.sample()\n",
    "\n",
    "        # build a solution with greedy random adaptive construction\n",
    "        S_raw, _ = grasp_construct(G, K, alpha, mc_samples_grasp)\n",
    "\n",
    "        # evaluate the raw solution with a medium sample budget\n",
    "        score_raw = epc_mc_deleted(G, S_raw, num_samples=mc_samples_final)\n",
    "\n",
    "        # maintain the elite list\n",
    "        insert_into_elite(elite, (S_raw, score_raw), max_size=elite_size)\n",
    "\n",
    "        # reward or penalise that alpha using the raw score\n",
    "        best_elite_score = elite[0][1]\n",
    "        \n",
    "        if score_raw <= best_elite_score:\n",
    "            reactive.reward(idx_alpha)\n",
    "        else:\n",
    "            reactive.penalize(idx_alpha)\n",
    "\n",
    "    # take the best raw set and polish once\n",
    "    best_raw_S, _ = elite[0]\n",
    "    csr = build_csr(G)\n",
    "\n",
    "    S_final = local_search_swap(\n",
    "        best_raw_S,\n",
    "        csr=csr,\n",
    "        num_samples=mc_samples_ls,\n",
    "        max_iter=max_ls_iter\n",
    "    )\n",
    "\n",
    "    # final high quality evaluation\n",
    "    final_score = epc_mc_deleted(G, S_final, num_samples=100_000)\n",
    "\n",
    "    return S_final, final_score"
   ]
  },
  {
   "cell_type": "code",
   "execution_count": null,
   "id": "2609f60e",
   "metadata": {},
   "outputs": [
    {
     "name": "stderr",
     "output_type": "stream",
     "text": [
      "Processing grasp meta: 100%|██████████| 50/50 [34:19<00:00, 41.18s/it]"
     ]
    },
    {
     "name": "stdout",
     "output_type": "stream",
     "text": [
      "Best removal set: {0, 65, 34, 59, 79, 50, 24, 27, 93, 94}\n",
      "Estimated epc(Best_S): 2825.055\n"
     ]
    },
    {
     "name": "stderr",
     "output_type": "stream",
     "text": [
      "\n"
     ]
    }
   ],
   "source": [
    "NODES = 100\n",
    "p = 0.0443\n",
    "SEED = 42\n",
    "\n",
    "H0 = nx.erdos_renyi_graph(NODES, p, seed=SEED)\n",
    "\n",
    "K = 10\n",
    "alpha = 0.4\n",
    "p_edge = 1.0\n",
    "\n",
    "for u, v in H0.edges():\n",
    "    H0[u][v]['p'] = p_edge\n",
    "\n",
    "best_s, best_epc = grasp_meta(H0, K, mc_samples_grasp = 10_000, restarts=30,\n",
    "                              mc_samples_ls=10_000, mc_samples_pr=10_000,\n",
    "                              max_ls_iter=5, elite_size=5)\n",
    "\n",
    "print(f\"Best removal set: {best_s}\")\n",
    "print(f\"Estimated epc(Best_S): {best_epc}\")"
   ]
  },
  {
   "cell_type": "code",
   "execution_count": 32,
   "id": "1cef1a0a",
   "metadata": {},
   "outputs": [
    {
     "name": "stderr",
     "output_type": "stream",
     "text": [
      "GRASP construct only: 100%|██████████| 30/30 [01:41<00:00,  3.38s/it]\n"
     ]
    },
    {
     "name": "stdout",
     "output_type": "stream",
     "text": [
      "Best removal set: {0, 64, 4, 37, 6, 43, 47, 50, 59, 94}\n",
      "Estimated epc(Best_S): 3088.8702\n"
     ]
    }
   ],
   "source": [
    "NODES = 100\n",
    "p = 0.0443\n",
    "SEED = 42\n",
    "\n",
    "H0 = nx.erdos_renyi_graph(NODES, p, seed=SEED)\n",
    "\n",
    "K = 10\n",
    "p_edge = 1.0\n",
    "\n",
    "for u, v in H0.edges():\n",
    "    H0[u][v]['p'] = p_edge\n",
    "\n",
    "best_s, best_epc = grasp_meta(H0.copy(), K, restarts=30, mc_samples_grasp = 10_000, \n",
    "                              mc_samples_final=10_000, mc_samples_ls=10_000,\n",
    "                              max_ls_iter=1, elite_size=5)\n",
    "\n",
    "print(f\"Best removal set: {best_s}\")\n",
    "print(f\"Estimated epc(Best_S): {best_epc}\")"
   ]
  },
  {
   "cell_type": "code",
   "execution_count": 33,
   "id": "be84e331",
   "metadata": {},
   "outputs": [
    {
     "name": "stderr",
     "output_type": "stream",
     "text": [
      "GRASP construct only: 100%|██████████| 30/30 [01:38<00:00,  3.29s/it]\n"
     ]
    },
    {
     "name": "stdout",
     "output_type": "stream",
     "text": [
      "Best removal set: {64, 0, 6, 27, 43, 47, 79, 50, 59, 94}\n",
      "Estimated epc(Best_S): 3083.0787\n"
     ]
    }
   ],
   "source": [
    "NODES = 100\n",
    "p = 0.0443\n",
    "SEED = 42\n",
    "\n",
    "H0 = nx.erdos_renyi_graph(NODES, p, seed=SEED)\n",
    "\n",
    "K = 10\n",
    "p_edge = 1.0\n",
    "\n",
    "for u, v in H0.edges():\n",
    "    H0[u][v]['p'] = p_edge\n",
    "\n",
    "best_s, best_epc = grasp_meta(H0.copy(), K, restarts=30, mc_samples_grasp = 10_000, \n",
    "                              mc_samples_final=10_000, mc_samples_ls=10_000,\n",
    "                              max_ls_iter=1, elite_size=5)\n",
    "\n",
    "print(f\"Best removal set: {best_s}\")\n",
    "print(f\"Estimated epc(Best_S): {best_epc}\")"
   ]
  },
  {
   "cell_type": "code",
   "execution_count": 34,
   "id": "9a8a4362",
   "metadata": {},
   "outputs": [
    {
     "name": "stderr",
     "output_type": "stream",
     "text": [
      "GRASP construct only: 100%|██████████| 30/30 [01:51<00:00,  3.70s/it]\n"
     ]
    },
    {
     "name": "stdout",
     "output_type": "stream",
     "text": [
      "Best removal set: {0, 64, 65, 27, 43, 47, 79, 50, 59, 94}\n",
      "Estimated epc(Best_S): 2943.7038\n"
     ]
    }
   ],
   "source": [
    "NODES = 100\n",
    "p = 0.0443\n",
    "SEED = 42\n",
    "\n",
    "H0 = nx.erdos_renyi_graph(NODES, p, seed=SEED)\n",
    "\n",
    "K = 10\n",
    "p_edge = 0.9\n",
    "\n",
    "for u, v in H0.edges():\n",
    "    H0[u][v]['p'] = p_edge\n",
    "\n",
    "best_s, best_epc = grasp_meta(H0.copy(), K, restarts=30, mc_samples_grasp = 10_000, \n",
    "                              mc_samples_final=10_000, mc_samples_ls=10_000,\n",
    "                              max_ls_iter=1, elite_size=5)\n",
    "\n",
    "print(f\"Best removal set: {best_s}\")\n",
    "print(f\"Estimated epc(Best_S): {best_epc}\")"
   ]
  },
  {
   "cell_type": "code",
   "execution_count": 16,
   "id": "d0008d44",
   "metadata": {},
   "outputs": [
    {
     "name": "stderr",
     "output_type": "stream",
     "text": [
      "GRASP construct only: 100%|██████████| 5/5 [00:19<00:00,  3.87s/it]\n"
     ]
    },
    {
     "name": "stdout",
     "output_type": "stream",
     "text": [
      "Best removal set: {0, 65, 34, 27, 43, 12, 79, 50, 24, 93}\n",
      "Estimated epc(Best_S): 2643.0462\n"
     ]
    }
   ],
   "source": [
    "NODES = 100\n",
    "p = 0.0443\n",
    "SEED = 42\n",
    "\n",
    "H0 = nx.erdos_renyi_graph(NODES, p, seed=SEED)\n",
    "\n",
    "K = 10\n",
    "p_edge = 0.8\n",
    "\n",
    "for u, v in H0.edges():\n",
    "    H0[u][v]['p'] = p_edge\n",
    "\n",
    "best_s, best_epc = grasp_meta(H0.copy(), K, restarts=5, mc_samples_grasp = 10_000, \n",
    "                              mc_samples_final=10_000, mc_samples_ls=10_000,\n",
    "                              max_ls_iter=1, elite_size=5)\n",
    "\n",
    "print(f\"Best removal set: {best_s}\")\n",
    "print(f\"Estimated epc(Best_S): {best_epc}\")"
   ]
  },
  {
   "cell_type": "code",
   "execution_count": null,
   "id": "787799b0",
   "metadata": {},
   "outputs": [],
   "source": []
  }
 ],
 "metadata": {
  "kernelspec": {
   "display_name": "SCNDP",
   "language": "python",
   "name": "python3"
  },
  "language_info": {
   "codemirror_mode": {
    "name": "ipython",
    "version": 3
   },
   "file_extension": ".py",
   "mimetype": "text/x-python",
   "name": "python",
   "nbconvert_exporter": "python",
   "pygments_lexer": "ipython3",
   "version": "3.10.18"
  }
 },
 "nbformat": 4,
 "nbformat_minor": 5
}
