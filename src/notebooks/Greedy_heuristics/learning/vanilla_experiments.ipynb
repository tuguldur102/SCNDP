{
 "cells": [
  {
   "cell_type": "code",
   "execution_count": null,
   "id": "5562661d",
   "metadata": {},
   "outputs": [],
   "source": [
    "# === Standard Library ===\n",
    "import math\n",
    "import random\n",
    "import time\n",
    "import heapq\n",
    "import copy\n",
    "import itertools\n",
    "from collections import defaultdict, deque\n",
    "from itertools import combinations\n",
    "from typing import Tuple, Dict, List, Set, Sequence, Union\n",
    "\n",
    "# === Third-Party Libraries ===\n",
    "\n",
    "# --- Scientific Computing ---\n",
    "import numpy as np\n",
    "import pandas as pd\n",
    "import scipy.sparse as sp\n",
    "from scipy.optimize import linprog\n",
    "\n",
    "# --- Plotting ---\n",
    "import matplotlib.pyplot as plt\n",
    "\n",
    "# --- Parallelism ---\n",
    "from joblib import Parallel, delayed\n",
    "from tqdm import tqdm\n",
    "\n",
    "# --- Graph Processing ---\n",
    "import networkx as nx\n",
    "\n",
    "# --- PyTorch and Torch Geometric ---\n",
    "import torch\n",
    "import torch.nn as nn\n",
    "import torch.optim as optim\n",
    "from torch.distributions import Categorical\n",
    "\n",
    "from torch_geometric.data import Data\n",
    "from torch_geometric.nn import GCNConv\n",
    "from torch_geometric.utils import to_networkx\n",
    "\n",
    "# --- Reinforcement Learning / Environment ---\n",
    "import gymnasium as gym\n",
    "\n",
    "# --- JIT Compilation ---\n",
    "from numba import njit"
   ]
  },
  {
   "cell_type": "code",
   "execution_count": null,
   "id": "29cd593d",
   "metadata": {},
   "outputs": [],
   "source": []
  }
 ],
 "metadata": {
  "language_info": {
   "name": "python"
  }
 },
 "nbformat": 4,
 "nbformat_minor": 5
}
