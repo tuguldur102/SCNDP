{
 "cells": [
  {
   "cell_type": "code",
   "execution_count": 1,
   "id": "4886eeeb",
   "metadata": {},
   "outputs": [],
   "source": [
    "import networkx as nx\n",
    "import numpy as np\n",
    "import time\n",
    "import pandas as pd\n",
    "import matplotlib.pyplot as plt\n",
    "from scipy.optimize import linprog\n",
    "from tqdm import tqdm\n",
    "from itertools import combinations\n",
    "from collections import defaultdict, deque\n",
    "import math, random\n",
    "import heapq\n",
    "import scipy.sparse as sp\n",
    "from collections import deque\n",
    "from joblib import Parallel, delayed\n",
    "from numba import njit\n",
    "from typing import Tuple, Dict, List, Set, Sequence, Union\n",
    "import itertools"
   ]
  },
  {
   "cell_type": "markdown",
   "id": "21e10a18",
   "metadata": {},
   "source": [
    "# 1. Heuristics"
   ]
  },
  {
   "cell_type": "code",
   "execution_count": 2,
   "id": "635e2b4e",
   "metadata": {},
   "outputs": [
    {
     "data": {
      "text/plain": [
       "(100, 202)"
      ]
     },
     "execution_count": 2,
     "metadata": {},
     "output_type": "execute_result"
    }
   ],
   "source": [
    "er = nx.erdos_renyi_graph(100, 0.045, seed=42)\n",
    "er.number_of_nodes(), er.number_of_edges() "
   ]
  },
  {
   "cell_type": "code",
   "execution_count": 9,
   "id": "10c36b18",
   "metadata": {},
   "outputs": [
    {
     "data": {
      "text/plain": [
       "(100, 196)"
      ]
     },
     "execution_count": 9,
     "metadata": {},
     "output_type": "execute_result"
    }
   ],
   "source": [
    "ba = nx.barabasi_albert_graph(100, 2, seed=42)\n",
    "ba.number_of_nodes(), ba.number_of_edges()"
   ]
  },
  {
   "cell_type": "code",
   "execution_count": 10,
   "id": "2f1aa8b1",
   "metadata": {},
   "outputs": [
    {
     "data": {
      "text/plain": [
       "(100, 200)"
      ]
     },
     "execution_count": 10,
     "metadata": {},
     "output_type": "execute_result"
    }
   ],
   "source": [
    "ws = nx.watts_strogatz_graph(100, 4, 0.4, seed=42)\n",
    "ws.number_of_nodes(), ws.number_of_edges()"
   ]
  },
  {
   "cell_type": "code",
   "execution_count": 11,
   "id": "b9adc187",
   "metadata": {},
   "outputs": [
    {
     "data": {
      "text/plain": [
       "(100, 202)"
      ]
     },
     "execution_count": 11,
     "metadata": {},
     "output_type": "execute_result"
    }
   ],
   "source": [
    "er = nx.gnp_random_graph(100, 0.045, seed=42)\n",
    "er.number_of_nodes(), er.number_of_edges()"
   ]
  },
  {
   "cell_type": "markdown",
   "id": "f2f1557c",
   "metadata": {},
   "source": [
    "## 1.1 Greedy + EPC (lone)"
   ]
  },
  {
   "cell_type": "code",
   "execution_count": 3,
   "id": "cac38d53",
   "metadata": {},
   "outputs": [],
   "source": [
    "def sigma_exact(\n",
    "    G: nx.Graph,\n",
    "    S: set,\n",
    "    use_tqdm: bool = False\n",
    ") -> int:\n",
    "    from itertools import product\n",
    "    edges = list(G.edges())\n",
    "    total_conn = 0.0\n",
    "\n",
    "    for state in product([0,1], repeat=len(edges)):\n",
    "        p_state = 1\n",
    "        Gp = nx.Graph()\n",
    "        Gp.add_nodes_from(set(G.nodes())-S)\n",
    "\n",
    "        for (e, keep) in zip(edges, state):\n",
    "            p_edge = G.edges[e]['p']\n",
    "            p_state *= (p_edge if keep else (1-p_edge))\n",
    "\n",
    "            if keep and e[0] not in S and e[1] not in S:\n",
    "                Gp.add_edge(*e)\n",
    "\n",
    "        # count connected i<j pairs in Gp−S\n",
    "        for i,j in combinations(set(G.nodes())-S, 2):\n",
    "            if nx.has_path(Gp, i, j):\n",
    "                total_conn += p_state\n",
    "\n",
    "    return total_conn"
   ]
  },
  {
   "cell_type": "code",
   "execution_count": 4,
   "id": "b0952cd4",
   "metadata": {},
   "outputs": [],
   "source": [
    "def component_sampling_epc_mc(G, S, num_samples=10_000,\n",
    "                              epsilon=None, delta=None, use_tqdm=False):\n",
    "  \"\"\"\n",
    "  Theoretic bounds: compute N = N(epsilon, delta) by the theoretical bound.\n",
    "  Experimentation:  Otherwise, use the N as input for sample count.\n",
    "  \"\"\"\n",
    "\n",
    "  # Surviving vertex set and its size\n",
    "  V_remaining = set(G.nodes()) - S\n",
    "  n_rem = len(V_remaining)\n",
    "\n",
    "  # base case\n",
    "  if n_rem < 2:\n",
    "    return 0.0\n",
    "\n",
    "  if num_samples is None:\n",
    "    assert epsilon is not None and delta is not None\n",
    "    P_E = sum(G.edges[u, v]['p'] for u, v in G.edges())\n",
    "    coeff = 4 * (math.e - 2) * math.log(2 / delta)\n",
    "    num_samples = math.ceil(coeff * n_rem * (n_rem - 1) /\n",
    "                            (epsilon ** 2 * P_E))\n",
    "\n",
    "  C2 = 0\n",
    "  it = tqdm(range(num_samples), desc='Component sampling',\n",
    "            total=num_samples) if use_tqdm else range(num_samples)\n",
    "\n",
    "  for _ in it:\n",
    "    u = random.choice(tuple(V_remaining))\n",
    "\n",
    "    # BFS based on edge probabilities\n",
    "\n",
    "    visited = {u}\n",
    "    queue = [u]\n",
    "\n",
    "    while queue:\n",
    "\n",
    "      v = queue.pop()\n",
    "      for w in G.neighbors(v):\n",
    "\n",
    "        # flip a coin biased by the edge probability\n",
    "        # w not in deleted nodes\n",
    "        if w in V_remaining and random.random() < G.edges[v, w]['p']:\n",
    "\n",
    "          # if w is not visited\n",
    "          if w not in visited:\n",
    "              visited.add(w)\n",
    "              queue.append(w)\n",
    "\n",
    "    # component counting\n",
    "    C2 += (len(visited) - 1)\n",
    "\n",
    "  return (n_rem * C2) / (2 * num_samples)"
   ]
  },
  {
   "cell_type": "code",
   "execution_count": 5,
   "id": "d7101906",
   "metadata": {},
   "outputs": [],
   "source": [
    "def greedy_cndp_epc(\n",
    "    G: nx.Graph,\n",
    "    K: int,\n",
    "    num_samples: int = 10000,\n",
    "    exact: bool = False,\n",
    "    use_tqdm: bool = False\n",
    ") -> set:\n",
    "  \"\"\"\n",
    "  Algorithm 2 from the paper: Greedy selection of S |S| <= K\n",
    "  to minimize sigma(S) via sigma_monte_carlo().\n",
    "\n",
    "  Returns the list S (in pick order).\n",
    "  \"\"\"\n",
    "\n",
    "  # S <= {Empty set} init\n",
    "  S = set()\n",
    "\n",
    "  Sigma_delta = []\n",
    "  # Current sigma(S) for the empty set\n",
    "  sigma_S = 0\n",
    "  if exact:\n",
    "    sigma_S = sigma_exact(G, S)\n",
    "  else:\n",
    "    sigma_S = component_sampling_epc_mc(G, S, num_samples=num_samples)\n",
    "\n",
    "  Sigma_delta.append(sigma_S)\n",
    "  # print(f\"Initial sigma(S): {sigma_S}\")\n",
    "\n",
    "  if use_tqdm:\n",
    "    it = tqdm(range(K), desc='Greedy selection', total=K)\n",
    "  else:\n",
    "    it = range(K)\n",
    "\n",
    "  # Greedily select K nodes\n",
    "  for _ in it:\n",
    "    # inits\n",
    "    best_j = None\n",
    "    best_gain = -float('inf')\n",
    "    best_sigma = None\n",
    "\n",
    "    # find v maximizing gain sigma(S) - sigma(S ∪ j)\n",
    "    for j in G:\n",
    "      # Skip if j is already in S to avoid redundant calculations\n",
    "      # j ∈ S\n",
    "      if j in S:\n",
    "        continue\n",
    "\n",
    "      # S ∪ j = S + {j}\n",
    "      if exact:\n",
    "        sigma_Sj = sigma_exact(G, S | {j})\n",
    "      else:\n",
    "        sigma_Sj = component_sampling_epc_mc(G, S | {j}, num_samples=num_samples)\n",
    "\n",
    "      gain = sigma_S - sigma_Sj\n",
    "\n",
    "      # j <= argmax_{j ∈ V\\S} (sigma(S) - sigma(S ∪ j))\n",
    "\n",
    "      if gain > best_gain:\n",
    "        best_gain = gain\n",
    "        best_j = j\n",
    "        best_sigma = sigma_Sj\n",
    "\n",
    "\n",
    "    # add the best node\n",
    "    if best_j is None:\n",
    "      break\n",
    "\n",
    "    S.add(best_j)\n",
    "    sigma_S = best_sigma\n",
    "\n",
    "    Sigma_delta.append(best_sigma)\n",
    "    # print(f\"Selected node {best_j}, gain: {best_gain}, new sigma(S): {sigma_S}\")\n",
    "\n",
    "  return S, Sigma_delta"
   ]
  },
  {
   "cell_type": "code",
   "execution_count": 27,
   "id": "fbc927ce",
   "metadata": {},
   "outputs": [
    {
     "name": "stdout",
     "output_type": "stream",
     "text": [
      "G: nodes: 100 and edges: 202\n"
     ]
    },
    {
     "name": "stderr",
     "output_type": "stream",
     "text": [
      "Processing:  10%|█         | 1/10 [00:15<02:15, 15.08s/it]"
     ]
    },
    {
     "name": "stdout",
     "output_type": "stream",
     "text": [
      "Greedy sigma(S): S: {0, 1, 2, 3, 4, 5, 6, 7, 8, 9}\n",
      "Time: 15.0781s\n",
      "Sigma Delta: [0.0, 0.0, 0.0, 0.0, 0.0, 0.0, 0.0, 0.0, 0.0, 0.0, 0.0]\n"
     ]
    },
    {
     "name": "stderr",
     "output_type": "stream",
     "text": [
      "Processing:  20%|██        | 2/10 [00:35<02:24, 18.02s/it]"
     ]
    },
    {
     "name": "stdout",
     "output_type": "stream",
     "text": [
      "Greedy sigma(S): S: {96, 65, 98, 34, 59, 75, 16, 84, 24, 27}\n",
      "Time: 35.1665s\n",
      "Sigma Delta: [32.35, 30.38805, 28.4249, 27.08725, 25.224, 23.08975, 21.9631, 21.00405, 20.4102, 19.4922, 17.9685]\n"
     ]
    },
    {
     "name": "stderr",
     "output_type": "stream",
     "text": [
      "Processing:  30%|███       | 3/10 [01:07<02:51, 24.54s/it]"
     ]
    },
    {
     "name": "stdout",
     "output_type": "stream",
     "text": [
      "Greedy sigma(S): S: {96, 65, 34, 64, 39, 12, 22, 24, 90, 27}\n",
      "Time: 67.4582s\n",
      "Sigma Delta: [148.35, 126.6408, 110.642, 100.6181, 90.8256, 80.46975, 73.085, 66.0858, 58.029, 55.04135, 50.301]\n"
     ]
    },
    {
     "name": "stderr",
     "output_type": "stream",
     "text": [
      "Processing:  40%|████      | 4/10 [02:27<04:39, 46.62s/it]"
     ]
    },
    {
     "name": "stdout",
     "output_type": "stream",
     "text": [
      "Greedy sigma(S): S: {96, 64, 34, 65, 12, 22, 54, 24, 90, 27}\n",
      "Time: 147.9338s\n",
      "Sigma Delta: [722.34, 567.7749, 470.8949, 401.7837, 335.0256, 283.56075, 240.9032, 206.3391, 177.1046, 159.1772, 128.0565]\n"
     ]
    },
    {
     "name": "stderr",
     "output_type": "stream",
     "text": [
      "Processing:  50%|█████     | 5/10 [06:13<09:15, 111.14s/it]"
     ]
    },
    {
     "name": "stdout",
     "output_type": "stream",
     "text": [
      "Greedy sigma(S): S: {96, 65, 34, 5, 10, 12, 54, 24, 90, 27}\n",
      "Time: 373.4752s\n",
      "Sigma Delta: [2148.365, 1862.5464, 1624.7224, 1355.93875, 1169.0304, 971.2895, 800.3066, 652.2741, 535.8034, 422.94525, 327.843]\n"
     ]
    },
    {
     "name": "stderr",
     "output_type": "stream",
     "text": [
      "Processing:  60%|██████    | 6/10 [12:59<14:05, 211.40s/it]"
     ]
    },
    {
     "name": "stdout",
     "output_type": "stream",
     "text": [
      "Greedy sigma(S): S: {96, 65, 34, 5, 10, 12, 54, 24, 90, 27}\n",
      "Time: 779.4848s\n",
      "Sigma Delta: [3313.425, 3038.53275, 2744.5341, 2504.7728, 2291.2368, 2047.25, 1768.7369, 1509.9852, 1288.0552, 1075.5745, 869.1615]\n"
     ]
    },
    {
     "name": "stderr",
     "output_type": "stream",
     "text": [
      "Processing:  70%|███████   | 7/10 [22:38<16:34, 331.66s/it]"
     ]
    },
    {
     "name": "stdout",
     "output_type": "stream",
     "text": [
      "Greedy sigma(S): S: {96, 65, 34, 10, 79, 84, 54, 24, 90, 27}\n",
      "Time: 1358.7315s\n",
      "Sigma Delta: [3941.675, 3671.94465, 3441.1328, 3227.66045, 3047.1888, 2833.36075, 2627.1543, 2423.4126, 2244.1376, 2069.92695, 1880.739]\n"
     ]
    },
    {
     "name": "stderr",
     "output_type": "stream",
     "text": [
      "Processing:  80%|████████  | 8/10 [33:10<14:14, 427.21s/it]"
     ]
    },
    {
     "name": "stdout",
     "output_type": "stream",
     "text": [
      "Greedy sigma(S): S: {65, 34, 43, 12, 79, 24, 27, 92, 93, 94}\n",
      "Time: 1990.5434s\n",
      "Sigma Delta: [4318.695, 4112.0838, 3879.9719, 3662.1574, 3435.5568, 3251.337, 3056.504, 2869.8963, 2736.241, 2593.6547, 2439.3825]\n"
     ]
    },
    {
     "name": "stderr",
     "output_type": "stream",
     "text": [
      "Processing:  90%|█████████ | 9/10 [45:06<08:37, 517.37s/it]"
     ]
    },
    {
     "name": "stdout",
     "output_type": "stream",
     "text": [
      "Greedy sigma(S): S: {0, 64, 6, 27, 43, 12, 79, 50, 59, 94}\n",
      "Time: 2706.1650s\n",
      "Sigma Delta: [4532.79, 4333.6359, 4179.8911, 3988.9892, 3839.5056, 3681.4875, 3544.3123, 3380.1315, 3233.0686, 3047.08495, 2939.706]\n"
     ]
    },
    {
     "name": "stderr",
     "output_type": "stream",
     "text": [
      "Processing: 100%|██████████| 10/10 [57:21<00:00, 584.65s/it]"
     ]
    },
    {
     "name": "stdout",
     "output_type": "stream",
     "text": [
      "Greedy sigma(S): S: {0, 64, 6, 40, 43, 47, 50, 59, 94, 31}\n",
      "Time: 3441.4722s\n",
      "Sigma Delta: [4670.15, 4474.008, 4284.2366, 4115.45295, 3939.1824, 3775.29525, 3617.1952, 3453.2853, 3308.6052, 3192.33915, 3045.6495]\n"
     ]
    },
    {
     "name": "stderr",
     "output_type": "stream",
     "text": [
      "Processing: 11it [1:09:21, 378.29s/it]                      "
     ]
    },
    {
     "name": "stdout",
     "output_type": "stream",
     "text": [
      "Greedy sigma(S): S: {0, 64, 6, 43, 47, 81, 50, 51, 59, 94}\n",
      "Time: 4161.2153s\n",
      "Sigma Delta: [4746.21, 4542.14475, 4361.049, 4162.8132, 4003.2912, 3808.92525, 3641.4425, 3487.83015, 3309.4332, 3214.484, 3130.8885]\n"
     ]
    },
    {
     "name": "stderr",
     "output_type": "stream",
     "text": [
      "\n"
     ]
    }
   ],
   "source": [
    "t0 = time.perf_counter()\n",
    "\n",
    "G = er.copy()\n",
    "K = 10\n",
    "p = 0.9\n",
    "\n",
    "records = []\n",
    "print(f\"G: nodes: {G.number_of_nodes()} and edges: {G.number_of_edges()}\")  \n",
    "\n",
    "for p in tqdm(np.arange(0.0, 1.1, 0.1), desc=\"Processing\", total=int(1.0/0.1)):\n",
    "  def fresh_graph():\n",
    "    H = G.copy()\n",
    "    for u, v in H.edges():\n",
    "      H[u][v]['p'] = p\n",
    "    return H\n",
    "\n",
    "\n",
    "  Sg, sigma_delta = greedy_cndp_epc(fresh_graph(), K, 10_000, False, False)\n",
    "  t1 = time.perf_counter()\n",
    "  t_greedy = t1 - t0\n",
    "\n",
    "  print(f\"Greedy sigma(S): S: {Sg}\")\n",
    "  print(f\"Time: {t_greedy:.4f}s\")\n",
    "  print(f\"Sigma Delta: {sigma_delta}\")\n",
    "\n",
    "  records.append({\n",
    "    'model': 'ER',\n",
    "    'p': p,\n",
    "    'algo': 'Greedy',\n",
    "    'time': t_greedy,\n",
    "    'epc': sigma_delta[-1],\n",
    "  })"
   ]
  },
  {
   "cell_type": "code",
   "execution_count": 29,
   "id": "987bc901",
   "metadata": {},
   "outputs": [
    {
     "data": {
      "text/html": [
       "<div>\n",
       "<style scoped>\n",
       "    .dataframe tbody tr th:only-of-type {\n",
       "        vertical-align: middle;\n",
       "    }\n",
       "\n",
       "    .dataframe tbody tr th {\n",
       "        vertical-align: top;\n",
       "    }\n",
       "\n",
       "    .dataframe thead th {\n",
       "        text-align: right;\n",
       "    }\n",
       "</style>\n",
       "<table border=\"1\" class=\"dataframe\">\n",
       "  <thead>\n",
       "    <tr style=\"text-align: right;\">\n",
       "      <th></th>\n",
       "      <th>model</th>\n",
       "      <th>p</th>\n",
       "      <th>algo</th>\n",
       "      <th>time</th>\n",
       "      <th>epc</th>\n",
       "    </tr>\n",
       "  </thead>\n",
       "  <tbody>\n",
       "    <tr>\n",
       "      <th>0</th>\n",
       "      <td>ER</td>\n",
       "      <td>0.0</td>\n",
       "      <td>Greedy</td>\n",
       "      <td>15.078099</td>\n",
       "      <td>0.0000</td>\n",
       "    </tr>\n",
       "    <tr>\n",
       "      <th>1</th>\n",
       "      <td>ER</td>\n",
       "      <td>0.1</td>\n",
       "      <td>Greedy</td>\n",
       "      <td>35.166469</td>\n",
       "      <td>17.9685</td>\n",
       "    </tr>\n",
       "    <tr>\n",
       "      <th>2</th>\n",
       "      <td>ER</td>\n",
       "      <td>0.2</td>\n",
       "      <td>Greedy</td>\n",
       "      <td>67.458208</td>\n",
       "      <td>50.3010</td>\n",
       "    </tr>\n",
       "    <tr>\n",
       "      <th>3</th>\n",
       "      <td>ER</td>\n",
       "      <td>0.3</td>\n",
       "      <td>Greedy</td>\n",
       "      <td>147.933775</td>\n",
       "      <td>128.0565</td>\n",
       "    </tr>\n",
       "    <tr>\n",
       "      <th>4</th>\n",
       "      <td>ER</td>\n",
       "      <td>0.4</td>\n",
       "      <td>Greedy</td>\n",
       "      <td>373.475165</td>\n",
       "      <td>327.8430</td>\n",
       "    </tr>\n",
       "    <tr>\n",
       "      <th>5</th>\n",
       "      <td>ER</td>\n",
       "      <td>0.5</td>\n",
       "      <td>Greedy</td>\n",
       "      <td>779.484757</td>\n",
       "      <td>869.1615</td>\n",
       "    </tr>\n",
       "    <tr>\n",
       "      <th>6</th>\n",
       "      <td>ER</td>\n",
       "      <td>0.6</td>\n",
       "      <td>Greedy</td>\n",
       "      <td>1358.731470</td>\n",
       "      <td>1880.7390</td>\n",
       "    </tr>\n",
       "    <tr>\n",
       "      <th>7</th>\n",
       "      <td>ER</td>\n",
       "      <td>0.7</td>\n",
       "      <td>Greedy</td>\n",
       "      <td>1990.543450</td>\n",
       "      <td>2439.3825</td>\n",
       "    </tr>\n",
       "    <tr>\n",
       "      <th>8</th>\n",
       "      <td>ER</td>\n",
       "      <td>0.8</td>\n",
       "      <td>Greedy</td>\n",
       "      <td>2706.164965</td>\n",
       "      <td>2939.7060</td>\n",
       "    </tr>\n",
       "    <tr>\n",
       "      <th>9</th>\n",
       "      <td>ER</td>\n",
       "      <td>0.9</td>\n",
       "      <td>Greedy</td>\n",
       "      <td>3441.472245</td>\n",
       "      <td>3045.6495</td>\n",
       "    </tr>\n",
       "    <tr>\n",
       "      <th>10</th>\n",
       "      <td>ER</td>\n",
       "      <td>1.0</td>\n",
       "      <td>Greedy</td>\n",
       "      <td>4161.215252</td>\n",
       "      <td>3130.8885</td>\n",
       "    </tr>\n",
       "  </tbody>\n",
       "</table>\n",
       "</div>"
      ],
      "text/plain": [
       "   model    p    algo         time        epc\n",
       "0     ER  0.0  Greedy    15.078099     0.0000\n",
       "1     ER  0.1  Greedy    35.166469    17.9685\n",
       "2     ER  0.2  Greedy    67.458208    50.3010\n",
       "3     ER  0.3  Greedy   147.933775   128.0565\n",
       "4     ER  0.4  Greedy   373.475165   327.8430\n",
       "5     ER  0.5  Greedy   779.484757   869.1615\n",
       "6     ER  0.6  Greedy  1358.731470  1880.7390\n",
       "7     ER  0.7  Greedy  1990.543450  2439.3825\n",
       "8     ER  0.8  Greedy  2706.164965  2939.7060\n",
       "9     ER  0.9  Greedy  3441.472245  3045.6495\n",
       "10    ER  1.0  Greedy  4161.215252  3130.8885"
      ]
     },
     "execution_count": 29,
     "metadata": {},
     "output_type": "execute_result"
    }
   ],
   "source": [
    "df = pd.DataFrame(records)\n",
    "df.to_csv(f\"Greedy_result_100_200_ER.csv\", index=False)\n",
    "df"
   ]
  },
  {
   "cell_type": "code",
   "execution_count": null,
   "id": "168e950c",
   "metadata": {},
   "outputs": [
    {
     "name": "stdout",
     "output_type": "stream",
     "text": [
      "Restricted license - for non-production use only - expires 2026-11-23\n",
      "Restricted license - for non-production use only - expires 2026-11-23\n",
      "Restricted license - for non-production use only - expires 2026-11-23\n",
      "Restricted license - for non-production use only - expires 2026-11-23\n",
      "Restricted license - for non-production use only - expires 2026-11-23\n",
      "Restricted license - for non-production use only - expires 2026-11-23\n"
     ]
    },
    {
     "ename": "",
     "evalue": "",
     "output_type": "error",
     "traceback": [
      "\u001b[1;31mThe Kernel crashed while executing code in the current cell or a previous cell. \n",
      "\u001b[1;31mPlease review the code in the cell(s) to identify a possible cause of the failure. \n",
      "\u001b[1;31mClick <a href='https://aka.ms/vscodeJupyterKernelCrash'>here</a> for more info. \n",
      "\u001b[1;31mView Jupyter <a href='command:jupyter.viewOutput'>log</a> for further details."
     ]
    }
   ],
   "source": [
    "from pulp import (\n",
    "    LpProblem, LpVariable, lpSum,\n",
    "    LpBinary, LpMinimize, PULP_CBC_CMD, LpStatus\n",
    ")\n",
    "\n",
    "def sample_scenarios(G_prob, T=30, rng=None):\n",
    "    rng = rng or random.Random()\n",
    "    scenarios = []\n",
    "    for _ in range(T):\n",
    "        H = nx.Graph()\n",
    "        H.add_nodes_from(G_prob.nodes)\n",
    "        for u, v, d in G_prob.edges(data=True):\n",
    "            if rng.random() < d['p']:\n",
    "                H.add_edge(u, v)\n",
    "        scenarios.append(H)\n",
    "    return scenarios\n",
    "\n",
    "def solve_saa_mip_cbc(scenarios, k, msg=False):\n",
    "    \"\"\"\n",
    "    Solve the SAA master problem with CBC and return initial set S₀ (|S₀|=k).\n",
    "    \"\"\"\n",
    "    n = len(scenarios[0])\n",
    "    T = len(scenarios)\n",
    "    prob = LpProblem(\"k-pCND-SAA-CBC\", LpMinimize)\n",
    "\n",
    "    s = [LpVariable(f\"s_{i}\", cat=LpBinary) for i in range(n)]\n",
    "\n",
    "    x = {}\n",
    "    for l, H in enumerate(scenarios):\n",
    "        for i, j in itertools.combinations(range(n), 2):\n",
    "            x[(l, i, j)] = LpVariable(f\"x_{l}_{i}_{j}\", cat=LpBinary)\n",
    "        for i in range(n):\n",
    "            x[(l, i, i)] = 1\n",
    "\n",
    "    prob += lpSum(s) == k\n",
    "\n",
    "    for l, H in enumerate(scenarios):\n",
    "        for i, j in itertools.combinations(range(n), 2):\n",
    "            prob += x[(l, i, j)] <= 1 - s[i]\n",
    "            prob += x[(l, i, j)] <= 1 - s[j]\n",
    "\n",
    "        for i, j in itertools.combinations(range(n), 2):\n",
    "            if not nx.has_path(H, i, j):\n",
    "                prob += x[(l, i, j)] == 0\n",
    "\n",
    "        for i, h, j in itertools.permutations(range(n), 3):\n",
    "            ij = tuple(sorted((i, j)))\n",
    "            ih = tuple(sorted((i, h)))\n",
    "            hj = tuple(sorted((h, j)))\n",
    "            prob += x[(l, ij[0], ij[1])] <= x[(l, ih[0], ih[1])]\n",
    "            prob += x[(l, ij[0], ij[1])] <= x[(l, hj[0], hj[1])]\n",
    "\n",
    "    prob += (1 / T) * lpSum(x.values())\n",
    "\n",
    "    status = prob.solve(PULP_CBC_CMD(msg=msg))\n",
    "    if LpStatus[status] != \"Optimal\":\n",
    "        print(\"⚠ CBC ended with status:\", LpStatus[status])\n",
    "\n",
    "    S0 = {i for i in range(n) if s[i].value() > 0.5}\n",
    "    return S0\n",
    "\n",
    "def local_search(G_prob, S0, num_samples=10_000, max_iter=1000, seed=None):\n",
    "    rng = random.Random(seed)\n",
    "    S = set(S0)\n",
    "    best_val = component_sampling_epc_mc(G_prob, S, num_samples)\n",
    "    for _ in tqdm(range(max_iter), desc=\"Local_search\", total=max_iter):\n",
    "        improved = False\n",
    "        for u in list(S):\n",
    "            # random permutation of outside nodes\n",
    "            outside = rng.sample(list(set(G_prob.nodes) - S), len(G_prob) - len(S))\n",
    "            for v in outside:\n",
    "                candidate = (S - {u}) | {v}      # keeps size = k\n",
    "                val = component_sampling_epc_mc(G_prob, candidate, num_samples)\n",
    "                if val < best_val:\n",
    "                    S, best_val = candidate, val\n",
    "                    improved = True\n",
    "                    break\n",
    "            if improved:\n",
    "                break\n",
    "        if not improved:\n",
    "            break\n",
    "    return S, best_val\n",
    "\n",
    "def final_evaluation(G_prob, S, num_samples=100_000):\n",
    "    return component_sampling_epc_mc(G_prob, S, num_samples)\n",
    "\n",
    "def saa_algorithm(G_prob, k, T=30, ls_samples=10_000, seed=None):\n",
    "    \"\"\"\n",
    "    Full 4-phase SAA algorithm (CBC core + numba EPC).\n",
    "    Returns\n",
    "    -------\n",
    "    S_best      : set[int]       # final deletion set (size = k)\n",
    "    epc_est     : float          # EPC estimate after local search (ls_samples draws)\n",
    "    epc_final   : float          # high-accuracy EPC (100 000 draws)\n",
    "    \"\"\"\n",
    "    scenarios = sample_scenarios(G_prob, T, rng=random.Random(seed))\n",
    "\n",
    "    S0 = solve_saa_mip_cbc(scenarios, k, msg=False)\n",
    "    S_best, epc_est = local_search(G_prob, S0, ls_samples, seed=seed)\n",
    "\n",
    "    epc_final = final_evaluation(G_prob, S_best)\n",
    "\n",
    "    return S_best, epc_est, epc_final"
   ]
  },
  {
   "cell_type": "code",
   "execution_count": null,
   "id": "159f3d1b",
   "metadata": {},
   "outputs": [
    {
     "name": "stdout",
     "output_type": "stream",
     "text": [
      "G: nodes: 100 and edges: 202\n"
     ]
    },
    {
     "name": "stderr",
     "output_type": "stream",
     "text": [
      "Processing:   0%|          | 0/11 [00:00<?, ?it/s]"
     ]
    }
   ],
   "source": [
    "\n",
    "\n",
    "M = 0.0443\n",
    "\n",
    "er = nx.erdos_renyi_graph(100, 0.045, seed=42)\n",
    "\n",
    "G = er.copy()\n",
    "K = 10\n",
    "\n",
    "records3 = []\n",
    "print(f\"G: nodes: {G.number_of_nodes()} and edges: {G.number_of_edges()}\")  \n",
    "\n",
    "for p in tqdm(np.arange(0.0, 1.1, 0.1), desc=\"Processing\", total=int(1.1/0.1)):\n",
    "  def fresh_graph():\n",
    "    H = G.copy()\n",
    "    for u, v in H.edges():\n",
    "      H[u][v]['p'] = p\n",
    "    return H\n",
    "\n",
    "  t0 = time.perf_counter()\n",
    "  S_best, epc_est, epc_final = saa_algorithm(fresh_graph(), k=K, T=30)\n",
    "  t1 = time.perf_counter()\n",
    "  t_saa = t1 - t0\n",
    "  \n",
    "  print(f\"SAA S: S_best {S_best}\")\n",
    "  print(f\"SAA sigma(S): {epc_final}\")\n",
    "  print(f\"Time: {t_saa:.4f}s\")\n",
    "\n",
    "  records3.append({\n",
    "    'model': 'ER',\n",
    "    'p': p,\n",
    "    'algo': 'SAA',\n",
    "    'time': t_saa,\n",
    "    'epc': epc_final,\n",
    "  })"
   ]
  },
  {
   "cell_type": "code",
   "execution_count": null,
   "id": "34a0d02b",
   "metadata": {},
   "outputs": [],
   "source": [
    "df3 = pd.DataFrame(records3)\n",
    "df3.to_csv(f\"SAA_100_200_ER.csv\", index=False)"
   ]
  },
  {
   "cell_type": "code",
   "execution_count": 6,
   "id": "5a3c1929",
   "metadata": {},
   "outputs": [],
   "source": [
    "def greedy_epc_mis(G, k, num_samples):\n",
    "\n",
    "  # Maximal independent set\n",
    "  MIS = nx.maximal_independent_set(G)\n",
    "  R = set(MIS)\n",
    "  target = len(G) - k\n",
    "  V = G.number_of_nodes()\n",
    "\n",
    "  sigma_delta = []\n",
    "\n",
    "  print(f\"#MIS: {len(R)}\")\n",
    "\n",
    "  # Greedy grow R set until |R| = |V| - k\n",
    "  while len(R) < target:\n",
    "    best_j, best_sigma = None, float('inf')\n",
    "    for j in G.nodes():\n",
    "      if j in R:\n",
    "        continue\n",
    "\n",
    "      # delete node\n",
    "      S_j = set(G.nodes()) - (R | {j})\n",
    "      sigma = component_sampling_epc_mc(G, S=S_j, num_samples=num_samples)\n",
    "\n",
    "      if sigma < best_sigma:\n",
    "        best_sigma, best_j = sigma, j\n",
    "\n",
    "        sigma_delta.append(best_sigma)\n",
    "\n",
    "    R.add(best_j)\n",
    "  \n",
    "  D = set(G.nodes()) - R\n",
    "  return D, sigma_delta"
   ]
  },
  {
   "cell_type": "code",
   "execution_count": 7,
   "id": "f8296ca7",
   "metadata": {},
   "outputs": [
    {
     "name": "stdout",
     "output_type": "stream",
     "text": [
      "G: nodes: 100 and edges: 202\n"
     ]
    },
    {
     "name": "stderr",
     "output_type": "stream",
     "text": [
      "Processing:   0%|          | 0/10 [00:00<?, ?it/s]"
     ]
    },
    {
     "name": "stdout",
     "output_type": "stream",
     "text": [
      "#MIS: 39\n"
     ]
    },
    {
     "name": "stderr",
     "output_type": "stream",
     "text": [
      "Processing:  10%|█         | 1/10 [03:08<28:13, 188.15s/it]"
     ]
    },
    {
     "name": "stdout",
     "output_type": "stream",
     "text": [
      "Greedy S: {64, 65, 34, 96, 98, 42, 12, 79, 22, 27}\n",
      "Greedy sigma(S): [0.3246, 0.2038, 0.1074, 0.0994, 0.0974, 0.0924, 0.0912, 0.424145, 0.319185, 0.31857, 0.31775, 0.313035, 0.195365, 0.19229, 0.190855, 0.52311, 0.40698, 0.40299, 0.30681, 0.30177, 0.29694, 0.29442, 0.62694, 0.50396, 0.407425, 0.397965, 0.394525, 0.388935, 0.74008, 0.6039, 0.48972, 0.839475, 0.72225, 0.706275, 0.690525, 0.58815, 0.585675, 0.92368, 0.92, 0.82156, 0.7797, 0.71622, 0.70472, 0.68678, 0.67781, 1.031885, 0.903105, 0.79289, 0.78208, 1.12584, 1.02528, 1.02072, 1.01688, 1.00368, 0.86616, 1.23676, 1.12602, 1.10936, 1.101765, 0.968485, 1.36775, 1.33875, 1.27, 1.19975, 1.09225, 1.42749, 1.33824, 1.30254, 1.289535, 1.23012, 1.22451, 1.58678, 1.54674, 1.45886, 1.4378, 1.38346, 1.29636, 1.76649, 1.651215, 1.51792, 1.5158, 1.50149, 1.499105, 1.40503, 1.88757, 1.75716, 1.65888, 1.62783, 1.62459, 2.129325, 2.013825, 1.887875, 1.88375, 1.82105, 1.8139, 2.40744, 2.21816, 2.09356, 2.08544, 2.02916, 2.0202, 2.56671, 2.389725, 2.29596, 2.26575, 2.77791, 2.67554, 2.51981, 2.48936, 3.005165, 2.906635, 2.73937, 2.734355, 2.72049, 2.684795, 3.288, 3.0783, 2.9892, 2.9163, 2.9118, 3.41356, 3.31047, 3.174745, 3.114965, 3.63103, 3.53462, 3.35327, 3.898755, 3.771495, 3.72393, 3.63384, 4.13152, 3.97472, 3.96608, 3.86496, 3.86368, 4.2835, 4.260425, 4.189575, 4.1847, 4.030975, 4.57974, 4.50978, 4.42398, 4.33983, 4.84812, 4.6431, 5.21798, 5.0898, 5.0864, 5.0694, 5.05342, 5.62281, 5.46273, 5.453415, 6.07635, 5.93775, 5.92445, 5.9073, 5.79425, 6.39781, 6.28492, 6.282435, 6.2338, 6.192265, 6.76656, 6.54984, 7.329565, 7.174075, 7.07443, 7.01895, 7.71709, 7.52136, 7.31638, 8.157375, 7.966875, 7.908375, 7.88025, 7.772625, 8.5614, 8.42194, 8.30528, 8.28666, 9.06675, 8.863085, 8.81034, 9.67629, 9.49611, 9.45516, 9.4497, 10.145575, 9.96664, 10.7604, 10.7536, 10.6424, 10.6328, 10.6144, 10.6116, 10.5964, 11.359035, 11.03949, 11.026935, 12.06794, 11.89984, 11.73953, 11.67065, 12.529265, 12.503535, 12.325915, 12.18772, 13.11618, 12.82386, 13.76235, 13.517125, 14.45617, 14.28159, 14.14614, 14.96052, 16.6782, 16.18364, 15.96276, 15.72648, 17.410625, 17.078655, 16.849035, 18.45765, 18.38475, 18.19755, 18.09765, 17.95545]\n",
      "final epc: 18.13725\n",
      "Time: 187.9822s\n",
      "#MIS: 41\n"
     ]
    },
    {
     "name": "stderr",
     "output_type": "stream",
     "text": [
      "Processing:  20%|██        | 2/10 [06:17<25:12, 189.00s/it]"
     ]
    },
    {
     "name": "stdout",
     "output_type": "stream",
     "text": [
      "Greedy S: {65, 34, 39, 10, 42, 43, 75, 78, 24, 27}\n",
      "Greedy sigma(S): [0.44016, 0.19089, 0.1848, 0.649085, 0.40334, 0.39861, 0.39388, 0.38743, 0.83996, 0.59224, 0.58256, 1.0791, 0.82935, 0.802125, 0.79245, 0.791325, 0.77625, 1.21371, 1.02925, 0.98463, 1.453005, 1.22764, 1.22341, 1.201555, 1.191685, 1.18064, 1.169125, 1.61544, 1.46304, 1.40832, 1.39872, 1.3788, 1.83701, 1.58564, 1.572165, 2.07175, 1.83925, 1.81, 1.8005, 1.78925, 2.221305, 2.029545, 1.99308, 1.989765, 1.96809, 2.45908, 2.21052, 2.17802, 2.64258, 2.410175, 2.403285, 2.91006, 2.64924, 3.48645, 3.058825, 3.043425, 3.89312, 3.55124, 3.48712, 4.35024, 4.0299, 3.999405, 3.93243, 4.84967, 4.39466, 4.38393, 5.3159, 4.920305, 4.871335, 4.84213, 5.6805, 5.3871, 5.3151, 6.22993, 5.787375, 5.7706, 6.60796, 6.36771, 6.31067, 7.123095, 6.83928, 7.71616, 7.70048, 7.61472, 7.35712, 8.250775, 8.16075, 7.928375, 7.874425, 8.79483, 8.71101, 8.62422, 8.54205, 8.32557, 9.83426, 9.374975, 9.26945, 9.241645, 10.63486, 10.40774, 10.3445, 10.16736, 10.1575, 10.01606, 11.530245, 11.25459, 11.192145, 11.04966, 10.91787, 12.31545, 11.92625, 13.38847, 13.175115, 12.92129, 14.2956, 14.00796, 15.564695, 15.42782, 15.209185, 15.091655, 16.79615, 16.5242, 18.310125, 18.045, 19.53276, 19.48982, 20.95632, 20.801935, 22.59348, 22.44879, 22.43124, 24.12186, 23.97097, 23.96781, 25.42, 29.515995, 28.55088, 27.893565, 27.88506, 27.706455, 27.573615, 31.57123, 30.61921, 29.51959, 33.63741, 32.687475, 32.504875, 32.36751, 31.912255, 36.55722, 35.3934, 35.06874, 34.90956, 34.46058, 39.14335, 38.060025, 37.816075, 37.4374, 37.23595, 37.225325, 41.83556, 41.15702, 41.03877, 40.9403, 40.86204, 40.60748, 40.48794, 45.75939, 44.37609, 44.340855, 43.837995, 48.60504, 47.4848, 47.46016, 52.287945, 51.414855, 58.67865, 58.56615, 58.2786, 56.46555, 55.5489, 55.4211]\n",
      "final epc: 55.1898\n",
      "Time: 189.3397s\n",
      "#MIS: 40\n"
     ]
    },
    {
     "name": "stderr",
     "output_type": "stream",
     "text": [
      "Processing:  30%|███       | 3/10 [10:17<24:45, 212.14s/it]"
     ]
    },
    {
     "name": "stdout",
     "output_type": "stream",
     "text": [
      "Greedy S: {64, 65, 34, 10, 42, 12, 78, 54, 24, 27}\n",
      "Greedy sigma(S): [0.704585, 0.68142, 0.301555, 0.28454, 0.283925, 1.68441, 1.01535, 0.99393, 0.98658, 0.6069, 0.59577, 0.58758, 0.58464, 1.883615, 1.311285, 1.287205, 1.27108, 0.89053, 0.885155, 0.869675, 2.19516, 1.55804, 1.21044, 1.19372, 1.177, 1.17106, 2.545425, 1.910025, 1.90935, 1.856475, 1.491075, 1.469475, 1.464975, 2.82049, 2.17856, 2.1436, 1.76318, 1.76042, 3.122445, 2.50369, 2.462095, 2.11218, 2.108185, 2.07975, 3.39576, 2.77992, 2.76408, 2.37432, 3.87296, 3.038735, 2.66756, 4.0975, 3.39925, 3.34975, 3.0355, 2.99025, 2.96675, 4.459185, 3.720195, 3.678375, 3.66945, 3.30021, 3.25176, 4.75514, 4.0027, 3.93198, 3.6179, 5.04984, 4.283725, 4.00521, 5.42754, 4.64481, 4.6278, 6.18145, 5.34105, 5.298425, 6.88352, 6.14348, 6.03652, 7.47384, 6.708615, 8.2273, 7.52579, 7.43357, 9.19987, 9.157685, 8.375345, 8.35381, 8.308675, 9.909, 9.2037, 9.1806, 10.929065, 10.80127, 9.942085, 9.908535, 9.902435, 11.70715, 11.67801, 11.58129, 10.90766, 10.81063, 12.486915, 12.47778, 12.45888, 11.967795, 11.839275, 11.58633, 13.4816, 13.33216, 12.89216, 12.71872, 12.68832, 14.322425, 14.2779, 13.7657, 13.637975, 15.23478, 14.78334, 16.54632, 16.446155, 16.25889, 18.55448, 18.03224, 17.98872, 17.88672, 17.7803, 19.84578, 19.57116, 19.56495, 19.43109, 21.602, 21.24535, 21.245, 23.643, 23.078905, 25.71516, 25.02612, 28.24078, 27.954255, 27.15673, 30.76883, 30.51945, 30.43583, 30.12096, 29.58372, 29.35839, 32.973, 32.81325, 32.721, 32.50575, 32.04075, 35.89822, 35.1386, 34.9448, 38.63706, 37.93097, 37.76157, 42.27171, 41.76003, 41.72844, 40.97106, 45.256335, 49.238, 65.22768, 59.6565, 57.34557, 54.68796, 53.878365, 69.82751, 64.60083, 62.484, 59.08305, 76.46707, 70.811865, 68.839785, 67.86246, 66.00824, 65.273275, 83.56362, 83.08146, 79.28046, 75.22746, 73.26816, 71.91618, 93.1974, 90.3414, 87.838575, 83.773025, 83.408375, 81.077675, 80.644175, 79.8252, 104.26167, 99.64863, 96.45201, 94.61548, 92.02043, 90.82159, 89.66876, 114.12573, 111.700605, 107.31885, 104.82195, 101.96052, 99.53583, 124.24368, 121.84392, 116.864, 113.97892, 113.7862, 113.4936, 112.99464, 139.75314, 136.877105, 133.07369, 128.57563, 126.60962, 155.47275, 152.76555, 148.2201, 143.1054]\n",
      "final epc: 142.8633\n",
      "Time: 239.2525s\n",
      "#MIS: 39\n"
     ]
    },
    {
     "name": "stderr",
     "output_type": "stream",
     "text": [
      "Processing:  40%|████      | 4/10 [15:05<24:12, 242.09s/it]"
     ]
    },
    {
     "name": "stdout",
     "output_type": "stream",
     "text": [
      "Greedy S: {96, 65, 34, 5, 75, 22, 24, 90, 27, 30}\n",
      "Greedy sigma(S): [1.743, 0.9276, 0.414, 0.402, 0.3954, 0.3926, 0.3908, 2.10904, 1.618885, 0.794785, 0.776335, 0.76752, 2.5179, 2.42655, 1.98387, 1.19931, 1.16697, 2.87111, 2.39252, 1.571005, 1.562405, 3.30506, 3.28614, 2.79114, 1.98594, 1.97582, 1.9602, 3.664575, 3.214575, 2.387025, 2.37015, 2.3688, 4.08825, 3.63285, 2.79565, 2.77495, 2.77288, 5.780295, 5.065425, 3.198115, 3.19177, 3.190125, 3.18942, 6.08016, 5.53032, 3.65688, 3.58176, 3.534, 6.565755, 5.88637, 4.028045, 4.00722, 4.00428, 6.86825, 6.26175, 4.3945, 4.3855, 7.30473, 6.67794, 4.783035, 4.75269, 7.76984, 7.13024, 5.24004, 5.19532, 5.17712, 8.05388, 7.480685, 5.63178, 5.54804, 8.48853, 7.81029, 6.00615, 8.87645, 8.306375, 6.56095, 9.44048, 8.77548, 8.43752, 7.77756, 7.52024, 7.46956, 7.1176, 10.028295, 9.45972, 9.05046, 8.39781, 8.06835, 8.04156, 7.625745, 10.65576, 10.48611, 10.45334, 9.6454, 9.03118, 8.6942, 8.6188, 12.143675, 11.330065, 11.089345, 9.924095, 9.49074, 13.0863, 12.7413, 12.399, 12.0156, 11.1561, 10.6032, 14.012005, 13.835105, 13.702125, 13.32057, 12.97409, 12.163095, 12.03286, 11.825155, 11.80289, 15.06972, 14.98075, 14.59728, 14.18033, 13.42145, 13.31977, 13.17128, 12.93971, 16.36929, 16.35858, 15.752835, 14.52465, 14.489685, 14.0616, 17.56704, 17.37056, 16.75328, 15.66976, 15.60672, 21.6788, 18.9306, 18.47105, 17.291625, 23.3475, 21.03057, 20.55504, 20.19633, 19.64622, 19.40862, 19.24263, 25.36218, 23.445645, 23.05805, 22.18437, 21.548205, 21.25575, 27.46418, 25.22596, 24.8285, 24.01216, 23.46, 29.7873, 27.77181, 27.11838, 26.31246, 26.16894, 26.03784, 32.66165, 30.64005, 29.8032, 28.93345, 28.65485, 36.426195, 33.421475, 32.391265, 31.98621, 39.44016, 36.40752, 35.703, 35.58708, 35.47692, 44.374145, 40.40696, 39.360505, 39.09953, 47.72482, 43.82354, 52.825125, 52.43025, 51.931125, 49.67175, 48.95475, 59.70294, 57.86678, 57.5016, 55.74714, 54.6231, 65.38686, 63.588525, 61.25581, 72.0954, 70.85598, 69.5994, 68.95551, 79.416725, 77.80631, 77.33705, 88.9384, 86.0832, 102.34755, 99.656325, 97.080525, 113.9226, 110.89721, 128.487735, 157.46682, 149.99376, 148.11678, 180.7865, 170.802825, 204.55229, 201.34019, 240.951285, 236.094075, 235.224945, 282.7682, 280.2294, 279.76388, 333.94224, 326.990895, 397.5201, 394.36695, 384.95655]\n",
      "final epc: 381.91095\n",
      "Time: 287.1321s\n",
      "#MIS: 37\n"
     ]
    },
    {
     "name": "stderr",
     "output_type": "stream",
     "text": [
      "Processing:  50%|█████     | 5/10 [22:39<26:32, 318.50s/it]"
     ]
    },
    {
     "name": "stdout",
     "output_type": "stream",
     "text": [
      "Greedy S: {65, 34, 5, 10, 75, 76, 78, 54, 24, 27}\n",
      "Greedy sigma(S): [1.27775, 1.24545, 1.23899, 1.21676, 0.51167, 0.48963, 1.77645, 1.72029, 1.012635, 0.99333, 0.975975, 2.2444, 2.222, 1.4704, 1.4694, 2.73101, 2.72978, 2.00162, 2.000595, 1.992395, 1.964515, 1.944835, 3.29763, 3.25605, 3.23736, 2.50068, 2.49249, 2.49144, 2.49123, 2.47674, 3.78185, 3.75992, 3.722725, 2.96829, 2.96012, 4.27262, 4.22136, 3.4793, 3.46698, 4.709925, 4.000725, 3.98565, 3.97755, 3.9771, 5.18788, 4.49351, 4.48523, 4.44406, 5.77912, 5.76972, 5.731415, 5.0102, 4.97918, 6.25584, 6.2352, 5.54184, 5.4696, 5.466, 5.45976, 5.43312, 6.77866, 6.710305, 5.99907, 5.96085, 5.953255, 7.26525, 7.21475, 6.44775, 7.694625, 7.68519, 7.20732, 7.05636, 6.985215, 8.2888, 8.25786, 7.75762, 7.74046, 7.50048, 8.70896, 8.23037, 9.50562, 9.44244, 9.40005, 9.00963, 10.319925, 10.2828, 10.278125, 10.259975, 10.21405, 11.4408, 11.4072, 12.838965, 12.751755, 14.5754, 14.35819, 14.3347, 16.251845, 15.914365, 18.7566, 18.2565, 18.0345, 17.9031, 17.6547, 20.431645, 20.110175, 19.882035, 19.561175, 19.3736, 22.1371, 21.76944, 21.34412, 24.043635, 24.039225, 23.75163, 23.702805, 23.263065, 26.01696, 25.82496, 25.6272, 28.2711, 31.43382, 30.61542, 33.626295, 33.501005, 36.35008, 43.76532, 41.999265, 40.20837, 39.42315, 46.59165, 44.8413, 43.12735, 53.040905, 48.55761, 60.93396, 57.62196, 54.35784, 77.219765, 67.42134, 64.76852, 61.483885, 86.39944, 84.84174, 76.18263, 74.64195, 69.91816, 69.29434, 96.10575, 96.012, 84.334875, 82.852125, 82.560375, 77.746125, 103.54544, 93.30026, 90.3089, 118.71783, 107.16013, 140.81418, 131.91165, 127.44849, 124.32693, 166.083675, 163.11999, 156.45634, 152.00074, 147.004385, 144.64189, 193.3016, 186.7196, 178.3396, 175.5236, 167.5384, 219.318435, 203.564745, 200.200005, 259.8334, 246.30955, 310.94124, 304.98682, 375.30654, 496.1008, 473.15675, 467.5221, 600.59089, 573.26009, 767.977275, 693.736695, 689.203125, 890.91948, 837.04104, 823.46176, 1038.001215, 978.53453, 1189.0791, 1143.81045]\n",
      "final epc: 1144.4796\n",
      "Time: 451.6502s\n",
      "#MIS: 39\n"
     ]
    },
    {
     "name": "stderr",
     "output_type": "stream",
     "text": [
      "Processing:  60%|██████    | 6/10 [32:47<27:48, 417.07s/it]"
     ]
    },
    {
     "name": "stdout",
     "output_type": "stream",
     "text": [
      "Greedy S: {96, 65, 34, 5, 37, 10, 12, 54, 90, 27}\n",
      "Greedy sigma(S): [2.8364, 0.6146, 0.5912, 0.5908, 0.5864, 0.5806, 3.48664, 1.177315, 1.163375, 4.13763, 1.76694, 1.76463, 4.713015, 2.40714, 2.37962, 2.357045, 5.21884, 2.97176, 2.96472, 2.92644, 8.46675, 3.582675, 3.5811, 3.572775, 9.22714, 4.15035, 4.14414, 9.70644, 4.794235, 4.78366, 10.41144, 5.50032, 5.37408, 10.902255, 5.95546, 5.944925, 11.57825, 6.60925, 6.53825, 12.061755, 7.2318, 12.79928, 11.66906, 9.37248, 8.16738, 13.760125, 12.76134, 10.3138, 10.205945, 9.684955, 9.635135, 9.10487, 14.77926, 13.85154, 11.18529, 10.63368, 10.61478, 16.278625, 15.27735, 12.883475, 12.2507, 12.183875, 17.73464, 16.88568, 14.3234, 13.79028, 21.260715, 19.89186, 16.96149, 16.64628, 16.31454, 15.867375, 15.371475, 15.266025, 22.6113, 21.82772, 18.71167, 18.58958, 18.54202, 18.24535, 17.81209, 17.33069, 16.98443, 16.97863, 24.369655, 23.30795, 20.2606, 20.190685, 20.180655, 19.87592, 19.472065, 19.06054, 19.027795, 26.3307, 25.4058, 22.3479, 22.1499, 21.9042, 21.624, 21.0927, 30.724175, 27.48721, 24.394815, 24.11147, 23.465785, 23.27882, 32.85597, 29.30678, 27.78499, 27.34851, 26.23251, 25.8168, 25.61561, 35.03052, 32.24529, 31.16484, 28.7784, 28.247625, 37.51648, 34.5984, 33.7232, 31.05504, 40.13815, 38.761125, 36.5625, 34.42075, 34.2693, 43.10856, 42.20931, 39.38649, 37.74771, 46.878895, 45.173745, 44.24479, 43.63844, 42.641815, 42.209665, 56.05342, 49.6162, 48.4653, 65.70939, 56.463735, 55.181025, 55.11375, 73.49615, 63.27335, 62.24715, 79.704245, 69.70141, 94.81572, 85.8078, 83.75616, 83.28888, 81.94968, 80.39232, 77.62572, 103.20448, 95.637665, 91.45002, 90.361225, 88.53951, 113.18226, 110.2119, 110.15196, 102.10446, 100.53159, 129.79725, 129.612, 124.107375, 119.9685, 153.68112, 147.8162, 142.39854, 177.02608, 174.133575, 167.80533, 205.89387, 203.24694, 202.91193, 250.02473, 245.047335, 297.5764, 516.14496, 389.536695, 387.071055, 372.668445, 357.005475, 588.68907, 465.34426, 453.63999, 444.57448, 698.55041, 572.367585, 572.154275, 562.11584, 834.49968, 702.7041, 695.6145, 990.943175, 867.7089, 865.504, 1162.00663, 1047.85281, 1046.0524, 1336.64712, 1228.284705, 1522.61956, 1498.63648, 1432.49876, 1717.67775, 1708.84094, 1683.58007, 1635.60462, 1898.86185, 1885.1301]\n",
      "final epc: 1886.59125\n",
      "Time: 604.8505s\n",
      "#MIS: 41\n"
     ]
    },
    {
     "name": "stderr",
     "output_type": "stream",
     "text": [
      "Processing:  70%|███████   | 7/10 [48:15<29:11, 583.88s/it]"
     ]
    },
    {
     "name": "stdout",
     "output_type": "stream",
     "text": [
      "Greedy S: {0, 65, 34, 43, 14, 84, 54, 24, 90, 27}\n",
      "Greedy sigma(S): [5.77647, 0.69867, 0.6825, 0.67557, 7.92834, 1.39492, 1.388255, 1.37428, 1.363315, 8.679, 2.15204, 2.08758, 2.0823, 2.03742, 9.428175, 2.814975, 2.781675, 2.752875, 10.01972, 3.52475, 3.5167, 3.49945, 3.46288, 3.4615, 3.45184, 10.788145, 4.145165, 11.4192, 10.34256, 6.07632, 6.07488, 4.94208, 4.86672, 12.21129, 11.175185, 7.632485, 6.783805, 6.766165, 5.56787, 5.5468, 12.763, 11.72425, 8.25225, 7.48225, 6.30225, 6.2605, 13.62363, 12.308085, 9.016545, 8.23395, 7.02219, 14.47758, 13.27534, 13.14352, 8.92788, 8.91956, 8.12578, 7.71836, 14.93116, 13.833, 9.54901, 8.90824, 8.907445, 17.59941, 14.8824, 10.81782, 10.79271, 10.7784, 10.75923, 19.6691, 16.917175, 12.615625, 12.6115, 12.57025, 21.6118, 18.8678, 17.51512, 14.55664, 14.49896, 23.46519, 22.077525, 16.33335, 25.14706, 24.01229, 21.18943, 19.15276, 19.13884, 18.42225, 18.24158, 27.187495, 27.18543, 25.757335, 22.97106, 21.11492, 21.01344, 20.24231, 32.3976, 32.0694, 29.1708, 27.7995, 24.6834, 24.0456, 23.4807, 22.8987, 22.0914, 34.308535, 33.94284, 31.2259, 29.71676, 26.670725, 26.650595, 26.61369, 24.93924, 24.802295, 37.18264, 36.55334, 33.93384, 32.34509, 29.69118, 29.31205, 27.54846, 39.86199, 36.481095, 35.06895, 32.280255, 48.5488, 46.81184, 40.86016, 39.66208, 37.93088, 37.50272, 37.32288, 54.30945, 52.28015, 48.32035, 45.8536, 43.057625, 42.92405, 63.49398, 57.47808, 54.32691, 51.50805, 49.8729, 71.518815, 64.05669, 60.847055, 58.13322, 57.440775, 79.6484, 79.36518, 73.28292, 73.27748, 72.98372, 65.6931, 112.48587, 98.63136, 82.137945, 80.784855, 75.421485, 131.1926, 108.5042, 98.22575, 95.7719, 95.20875, 92.8137, 89.1429, 151.99396, 125.26672, 113.676325, 110.27933, 106.830505, 105.84822, 172.27512, 141.52572, 130.59576, 127.59516, 123.52536, 202.578285, 169.245025, 147.26874, 233.87774, 202.4085, 196.1037, 191.07281, 183.9566, 296.404875, 241.2795, 232.276125, 220.372125, 361.40242, 303.36806, 290.77334, 286.9114, 283.97438, 276.09508, 456.896055, 363.163185, 350.8967, 350.448945, 541.16088, 447.63693, 441.19803, 656.94662, 538.338785, 805.81, 802.2808, 753.6432, 743.1448, 690.6872, 997.653105, 992.10582, 960.11163, 944.524395, 859.233015, 1223.36128, 1179.90456, 1152.63915, 1144.77945, 1141.41499, 1083.5152, 1415.26786, 1382.59325, 1315.918935, 1616.80848, 1594.14738, 1589.0826, 1579.24578, 1566.14178, 1506.67356, 1769.64645, 1764.044525, 1728.746575, 1692.650475, 1944.45656, 1940.17634, 1893.61594, 1868.12339, 1844.53273, 2091.16854, 2084.419515, 2042.382855, 2014.35102, 2209.17884, 2205.7684, 2191.20132, 2364.931585, 2354.635175, 2522.72205, 2519.50545]\n",
      "final epc: 2517.62625\n",
      "Time: 922.5091s\n",
      "#MIS: 43\n"
     ]
    },
    {
     "name": "stderr",
     "output_type": "stream",
     "text": [
      "Processing:  80%|████████  | 8/10 [1:07:25<25:28, 764.35s/it]"
     ]
    },
    {
     "name": "stdout",
     "output_type": "stream",
     "text": [
      "Greedy S: {0, 65, 34, 96, 42, 12, 24, 27, 93, 30}\n",
      "Greedy sigma(S): [4.38086, 2.19912, 0.82764, 0.79948, 0.79002, 0.77858, 5.1138, 3.054825, 1.57365, 1.562175, 5.88547, 4.99928, 2.37774, 2.37636, 11.54978, 5.800035, 3.177905, 3.16169, 12.41808, 6.59544, 4.01088, 3.92544, 13.10848, 7.315945, 4.78779, 4.75202, 13.95975, 8.18025, 5.63325, 5.5925, 5.521, 14.747415, 9.07596, 6.45507, 6.392085, 6.38418, 15.62002, 9.83112, 7.16222, 7.15546, 7.15026, 16.32559, 10.536135, 7.98392, 17.20143, 11.36268, 10.23489, 8.79876, 18.056775, 12.152525, 10.976075, 10.96975, 20.32968, 18.40972, 13.27536, 22.572855, 20.572725, 20.425095, 16.81671, 15.55758, 15.37404, 24.69901, 22.6722, 18.89002, 17.62591, 31.629605, 29.01856, 24.803895, 21.10017, 20.006605, 33.7725, 31.5558, 26.9175, 23.3925, 23.3703, 36.877855, 30.602175, 26.74606, 26.636565, 40.60938, 30.18315, 48.118455, 46.613385, 41.69529, 38.20005, 37.060695, 36.137745, 34.35705, 52.70688, 52.45344, 50.59136, 47.53696, 42.49856, 41.8976, 40.32384, 58.6131, 58.395675, 56.60005, 53.151475, 48.407775, 47.85625, 46.544225, 65.01066, 62.83893, 59.862, 58.20276, 57.63516, 56.11089, 84.510785, 81.02712, 71.950965, 67.889425, 67.15678, 95.8137, 91.97306, 83.3425, 78.98846, 123.666975, 104.10237, 94.60245, 91.74171, 147.8995, 116.08415, 106.49835, 236.837895, 145.00046, 133.57088, 129.67369, 286.9902, 171.45144, 168.669, 162.46944, 153.3078, 331.822595, 234.21758, 202.0932, 193.50694, 184.05417, 411.52658, 285.33216, 244.49785, 242.32632, 240.37346, 558.043125, 340.192125, 329.96925, 310.320375, 699.8707, 410.91528, 865.45998, 816.21001, 734.9342, 570.99812, 524.60177, 1014.82329, 875.68299, 748.26921, 677.74863, 1256.083805, 1174.36976, 1074.91271, 981.22977, 831.59508, 1462.876, 1336.7112, 1272.5552, 1181.694, 1667.42955, 1576.443465, 1573.670835, 1501.115895, 1850.76091, 1801.70031, 1777.83093, 1770.23363, 1721.1923, 1999.61525, 1969.674245, 1934.8545, 2147.01858, 2107.06356, 2293.4258, 2261.6035, 2259.333575, 2444.21202, 2417.57438, 2401.40294, 2575.07037, 2564.12055, 2557.398495, 2720.50724, 2676.01048, 2845.42701, 2844.057745, 2802.099585, 2976.1092, 2956.92525, 2949.45975, 2920.4253]\n",
      "final epc: 2923.26615\n",
      "Time: 1145.5076s\n",
      "#MIS: 40\n"
     ]
    },
    {
     "name": "stderr",
     "output_type": "stream",
     "text": [
      "Processing:  90%|█████████ | 9/10 [1:33:03<16:46, 1006.06s/it]"
     ]
    },
    {
     "name": "stdout",
     "output_type": "stream",
     "text": [
      "Greedy S: {0, 96, 34, 40, 42, 12, 50, 24, 58, 27}\n",
      "Greedy sigma(S): [8.492535, 0.87822, 9.43005, 3.52695, 1.80012, 1.79466, 1.76547, 10.218735, 4.436955, 4.33698, 2.71674, 2.70728, 2.70341, 2.683415, 2.68019, 2.675675, 2.6746, 11.17578, 5.32444, 5.31652, 3.60492, 3.59304, 3.5904, 3.57962, 12.1464, 6.22575, 6.198075, 5.300775, 4.51575, 4.51395, 4.50045, 4.49685, 13.01133, 7.01477, 6.25646, 5.41834, 5.34037, 13.85231, 8.009035, 7.03825, 6.32949, 6.294945, 6.292125, 6.27497, 14.76384, 8.89488, 8.03736, 7.17672, 7.06032, 15.54231, 9.883055, 9.818865, 8.89644, 8.084755, 8.029875, 16.624, 12.26625, 10.73675, 9.7985, 8.98625, 8.90975, 17.290275, 13.14219, 11.457915, 10.71, 9.87309, 18.4444, 13.97656, 12.50912, 11.63604, 11.55726, 11.51462, 10.77336, 19.32062, 14.987075, 13.36236, 12.536355, 12.49316, 20.84535, 16.57449, 15.0336, 14.17824, 14.07645, 22.6259, 18.25945, 16.744475, 15.874375, 24.48516, 20.08748, 20.03568, 18.53432, 18.47608, 26.891175, 22.627005, 21.126765, 21.110235, 29.39237, 25.21463, 23.68082, 32.200725, 27.907295, 27.85744, 26.532595, 34.8498, 30.4641, 39.023225, 34.816055, 34.679415, 34.67301, 34.60652, 43.13867, 38.68924, 55.48095, 54.976005, 51.81876, 48.470625, 43.21233, 59.42464, 59.0368, 55.80704, 53.0336, 51.10304, 67.626975, 67.284425, 64.0081, 81.07044, 80.61471, 79.76496, 123.559055, 95.114205, 140.54206, 118.51142, 116.17154, 196.41471, 157.10472, 154.565175, 153.98109, 234.605, 194.5307, 193.13175, 273.51188, 234.974855, 341.31816, 315.85032, 310.65372, 509.049805, 453.39497, 425.79732, 404.20538, 388.26291, 650.92583, 529.94545, 485.03818, 477.52015, 816.525375, 619.41825, 549.446625, 933.99858, 689.44958, 1416.17476, 1414.321755, 1112.629595, 886.1776, 1743.38853, 1516.27983, 1983.752805, 1921.706995, 1901.59083, 1858.721875, 2174.1844, 2081.4172, 2303.04789, 2271.081645, 2199.816225, 2403.1166, 2356.87311, 2331.62818, 2494.57247, 2487.03109, 2472.360425, 2423.153045, 2420.907065, 2579.14524, 2577.17376, 2573.24046, 2557.15824, 2509.09428, 2662.795, 2652.677875, 2643.29515, 2640.142925, 2638.009425, 2804.79626, 2793.48726, 2792.24241, 2737.21445, 2894.75187, 2884.75644, 2873.17326, 2872.683015, 3032.56404, 2973.37964, 2963.16504, 3125.952785, 3059.985985, 3224.7297, 3210.0273]\n",
      "final epc: 3208.36995\n",
      "Time: 1531.5101s\n",
      "#MIS: 39\n"
     ]
    },
    {
     "name": "stderr",
     "output_type": "stream",
     "text": [
      "Processing: 100%|██████████| 10/10 [2:03:02<00:00, 738.28s/it] "
     ]
    },
    {
     "name": "stdout",
     "output_type": "stream",
     "text": [
      "Greedy S: {64, 34, 98, 39, 50, 22, 24, 91, 93, 94}\n",
      "Greedy sigma(S): [9.9568, 0.996, 0.9802, 0.9792, 10.809035, 1.990755, 1.984605, 1.97292, 1.97128, 12.06744, 3.01833, 2.99502, 2.97465, 2.96016, 13.043835, 4.01706, 3.99126, 3.9732, 3.97105, 3.96417, 14.0987, 5.01798, 4.9841, 4.97134, 4.96826, 14.92335, 5.920875, 5.912325, 16.1, 7.03018, 6.98694, 6.95037, 16.92846, 8.001985, 7.95522, 17.99064, 10.04232, 10.00248, 8.87712, 18.970105, 11.006625, 9.98375, 20.0445, 17.914, 13.0245, 12.03375, 12.02, 11.06025, 11.04075, 11.00425, 10.9265, 21.05484, 18.866685, 13.95462, 13.037385, 12.96216, 12.0411, 11.98908, 11.95644, 21.97364, 20.06264, 16.90052, 14.00776, 13.0, 23.205255, 20.99118, 18.0465, 15.057035, 14.95183, 14.00843, 23.8572, 21.96747, 19.05471, 16.07958, 15.9894, 25.8687, 21.043, 17.9311, 28.04172, 23.09664, 21.10948, 20.90144, 30.95727, 25.841235, 23.965935, 34.06021, 28.95621, 28.90778, 27.05062, 45.01877, 37.98361, 31.95912, 31.939945, 49.8279, 42.8508, 37.0953, 36.918, 55.171145, 47.957285, 41.804215, 60.05661, 53.02922, 49.04386, 46.86146, 64.98387, 62.11674, 55.025775, 72.98656, 70.28896, 70.0272, 87.9216, 85.37035, 103.15899, 101.7621, 136.0033, 121.103505, 154.69898, 137.88122, 282.680925, 260.34183, 215.083005, 201.231945, 187.00656, 330.85885, 309.64185, 264.495, 250.222, 249.50065, 504.710955, 371.748545, 369.283425, 296.71255, 595.43568, 419.51448, 717.082285, 626.687845, 749.48976, 2016.136125, 1281.01425, 993.238875, 2081.63696, 2080.90546, 2075.22902, 2148.350435, 2145.188045, 2144.87427, 2142.628565, 2141.445845, 2209.84023, 2209.76613, 2280.663245, 2279.72591, 2279.26534, 2273.76852, 2347.2096, 2344.3956, 2342.5436, 2413.760715, 2626.77857, 2491.42117, 2484.64551, 2484.05224, 2702.51071, 2563.600665, 2560.679065, 2557.76286, 2556.90298, 2779.1988, 2630.16138, 2623.59552, 2848.712525, 2709.385625, 2702.323825, 2699.0985, 2930.8284, 2777.24874, 2775.86629, 2775.43844, 3007.051905, 2854.0524, 2845.19058, 3089.76096, 2927.9976, 3163.15612, 3162.43967, 3153.793765, 3083.94256, 3080.922345, 3325.2939, 3317.9778, 3244.50045, 3238.0326]\n",
      "final epc: 3242.3193\n",
      "Time: 1793.3732s\n"
     ]
    },
    {
     "name": "stderr",
     "output_type": "stream",
     "text": [
      "\n"
     ]
    }
   ],
   "source": [
    "er = nx.erdos_renyi_graph(100, 0.045, seed=42)\n",
    "\n",
    "G = er.copy()\n",
    "K = 10\n",
    "\n",
    "records4 = []\n",
    "print(f\"G: nodes: {G.number_of_nodes()} and edges: {G.number_of_edges()}\")  \n",
    "\n",
    "for p in tqdm(np.arange(0.1, 1.1, 0.1), desc=\"Processing\", total=int(1.0/0.1)):\n",
    "  def fresh_graph():\n",
    "    H = G.copy()\n",
    "    for u, v in H.edges():\n",
    "      H[u][v]['p'] = p\n",
    "    return H\n",
    "\n",
    "  t0 = time.perf_counter()\n",
    "  S_mis, sigma_delta = greedy_epc_mis(G=fresh_graph(), k=K, num_samples=100_000)\n",
    "  t1 = time.perf_counter()\n",
    "  t_greedy_mis = t1 - t0\n",
    "  est_final_epc = component_sampling_epc_mc(fresh_graph(), S_mis, 100_000)\n",
    "\n",
    "  print(f\"Greedy S: {S_mis}\")\n",
    "  print(f\"Greedy sigma(S): {sigma_delta}\")\n",
    "  print(f\"final epc: {est_final_epc}\")\n",
    "  print(f\"Time: {t_greedy_mis:.4f}s\")\n",
    "\n",
    "  records4.append({\n",
    "    'model': 'ER',\n",
    "    'p': p,\n",
    "    'algo': 'Greedy',\n",
    "    'epc': est_final_epc,\n",
    "  })"
   ]
  },
  {
   "cell_type": "code",
   "execution_count": 8,
   "id": "3e6c5857",
   "metadata": {},
   "outputs": [],
   "source": [
    "df4 = pd.DataFrame(records4)\n",
    "df4.to_csv(\"Greedy_MIS_100_202_ER.csv\", index=False)"
   ]
  },
  {
   "cell_type": "code",
   "execution_count": null,
   "id": "714c264b",
   "metadata": {},
   "outputs": [],
   "source": [
    "import time\n",
    "import networkx as nx\n",
    "import numpy as np\n",
    "from numba import njit, set_num_threads\n",
    "\n",
    "# Restrict Numba to a single thread to avoid parallel crashes\n",
    "set_num_threads(1)\n",
    "\n",
    "def graph_to_csr(G):\n",
    "    \"\"\"\n",
    "    Convert NetworkX G into CSR arrays and an edge-probability array.\n",
    "    Returns:\n",
    "      n        -- number of nodes\n",
    "      row_ptr  -- int64[n+1]\n",
    "      col_idx  -- int64[2|E|]\n",
    "      prob_data-- float64[2|E|]\n",
    "      mapping  -- dict: node -> index\n",
    "    \"\"\"\n",
    "    mapping = {node: i for i, node in enumerate(G.nodes())}\n",
    "    n = len(mapping)\n",
    "    # degree counts\n",
    "    deg = np.zeros(n, np.int64)\n",
    "    for u, v in G.edges():\n",
    "        iu, iv = mapping[u], mapping[v]\n",
    "        deg[iu] += 1\n",
    "        deg[iv] += 1\n",
    "    # build row pointers\n",
    "    row_ptr = np.empty(n+1, np.int64)\n",
    "    row_ptr[0] = 0\n",
    "    for i in range(n):\n",
    "        row_ptr[i+1] = row_ptr[i] + deg[i]\n",
    "    total = row_ptr[-1]\n",
    "    # allocate CSR and prob arrays\n",
    "    col_idx   = np.empty(total, np.int64)\n",
    "    prob_data = np.empty(total, np.float64)\n",
    "    cursor = np.zeros(n, np.int64)\n",
    "    # fill\n",
    "    for u, v in G.edges():\n",
    "        p = G.edges[u, v]['p']\n",
    "        iu, iv = mapping[u], mapping[v]\n",
    "        pos = row_ptr[iu] + cursor[iu]\n",
    "        col_idx[pos]   = iv\n",
    "        prob_data[pos] = p\n",
    "        cursor[iu]    += 1\n",
    "        pos = row_ptr[iv] + cursor[iv]\n",
    "        col_idx[pos]   = iu\n",
    "        prob_data[pos] = p\n",
    "        cursor[iv]    += 1\n",
    "    return n, row_ptr, col_idx, prob_data, mapping\n",
    "\n",
    "@njit\n",
    "def epc_mc_numba(n, row_ptr, col_idx, prob_data, deletion_mask, num_samples):\n",
    "    \"\"\"\n",
    "    Monte-Carlo EPC estimator in nopython mode (no Python objects).\n",
    "    deletion_mask[i]==True => node i is deleted.\n",
    "    \"\"\"\n",
    "    tot_C2 = 0.0\n",
    "    visited = np.zeros(n, np.uint8)\n",
    "    queue   = np.empty(n, np.int64)\n",
    "    for si in range(num_samples):\n",
    "        # pick a random surviving root\n",
    "        u = np.random.randint(0, n)\n",
    "        while deletion_mask[u]:\n",
    "            u = np.random.randint(0, n)\n",
    "        head = 0\n",
    "        tail = 1\n",
    "        visited[:] = 0\n",
    "        visited[u] = 1\n",
    "        queue[0]   = u\n",
    "        comp_size  = 0\n",
    "        # BFS with probability flips\n",
    "        while head < tail:\n",
    "            v = queue[head]\n",
    "            head += 1\n",
    "            comp_size += 1\n",
    "            for idx in range(row_ptr[v], row_ptr[v+1]):\n",
    "                w = col_idx[idx]\n",
    "                if visited[w] or deletion_mask[w]:\n",
    "                    continue\n",
    "                if np.random.random() < prob_data[idx]:\n",
    "                    visited[w]   = 1\n",
    "                    queue[tail]  = w\n",
    "                    tail        += 1\n",
    "        tot_C2 += (comp_size - 1)\n",
    "    # count survivors\n",
    "    n_rem = 0\n",
    "    for i in range(n):\n",
    "        if not deletion_mask[i]:\n",
    "            n_rem += 1\n",
    "    return (n_rem * tot_C2) / (2.0 * num_samples)\n",
    "\n",
    "\n",
    "def greedy_epc_mis_numba(n, row_ptr, col_idx, prob_data, mapping, MIS, k, num_samples):\n",
    "    \"\"\"\n",
    "    MIS-seeded greedy: grow survivors from MIS up to n-k.\n",
    "    Returns:\n",
    "      D          -- final deletion set of size k\n",
    "      sigma_delta-- EPC history (increasing as survivors grow)\n",
    "    \"\"\"\n",
    "    # build deletion mask: True=>deleted\n",
    "    deletion_mask = np.ones(n, np.bool_)\n",
    "    for node in MIS:\n",
    "        deletion_mask[mapping[node]] = False\n",
    "    survivors = set(MIS)\n",
    "    target    = n - k\n",
    "    sigma_delta = []\n",
    "    # initial EPC\n",
    "    curr_sigma = epc_mc_numba(n, row_ptr, col_idx, prob_data, deletion_mask, num_samples)\n",
    "    sigma_delta.append(curr_sigma)\n",
    "    # greedy grow survivors\n",
    "    while len(survivors) < target:\n",
    "        best_val  = np.inf\n",
    "        best_node = None\n",
    "        for node, idx in mapping.items():\n",
    "            if node in survivors:\n",
    "                continue\n",
    "            # try keeping `node`\n",
    "            deletion_mask[idx] = False\n",
    "            val = epc_mc_numba(n, row_ptr, col_idx, prob_data, deletion_mask, num_samples)\n",
    "            deletion_mask[idx] = True\n",
    "            if val < best_val:\n",
    "                best_val, best_node = val, node\n",
    "        # commit best keep\n",
    "        deletion_mask[mapping[best_node]] = False\n",
    "        survivors.add(best_node)\n",
    "        curr_sigma = best_val\n",
    "        sigma_delta.append(curr_sigma)\n",
    "    # final deletions = everything not in survivors\n",
    "    D = set(mapping.keys()) - survivors\n",
    "    return D, sigma_delta"
   ]
  },
  {
   "cell_type": "code",
   "execution_count": 23,
   "id": "600a5553",
   "metadata": {},
   "outputs": [
    {
     "name": "stdout",
     "output_type": "stream",
     "text": [
      "G: nodes: 100 and edges: 202\n"
     ]
    },
    {
     "name": "stderr",
     "output_type": "stream",
     "text": [
      "Processing:  10%|█         | 1/10 [00:09<01:23,  9.33s/it]"
     ]
    },
    {
     "name": "stdout",
     "output_type": "stream",
     "text": [
      "Greedy S: {96, 34, 39, 10, 42, 12, 15, 52, 24, 27}\n",
      "Greedy sigma(S): [0.0, 0.094095, 0.19257, 0.29412, 0.38412, 0.493875, 0.58006, 0.694895, 0.79392, 0.879795, 0.99475, 1.08936, 1.2181, 1.380385, 1.53387, 1.75615, 1.95636, 2.18082, 2.41425, 2.60898, 2.8653, 3.07745, 3.29747, 3.52674, 3.73984, 4.01635, 4.23852, 4.500725, 4.86064, 5.23572, 5.544, 6.026125, 6.42384, 6.831705, 7.3815, 7.888875, 8.40522, 8.87656, 9.53628, 10.091855, 10.6956, 11.29707, 11.97774, 12.757515, 13.32114, 13.974, 14.79587, 15.88881, 16.5792, 17.517425, 18.51975]\n",
      "Time: 9.3323s\n"
     ]
    },
    {
     "name": "stderr",
     "output_type": "stream",
     "text": [
      "Processing:  20%|██        | 2/10 [00:19<01:16,  9.61s/it]"
     ]
    },
    {
     "name": "stdout",
     "output_type": "stream",
     "text": [
      "Greedy S: {64, 65, 34, 96, 98, 10, 12, 24, 90, 27}\n",
      "Greedy sigma(S): [0.0, 0.1952, 0.395445, 0.60627, 0.787115, 1.01574, 1.2033, 1.41542, 1.590715, 1.82136, 2.04673, 2.2585, 2.45361, 2.65642, 2.916325, 3.13578, 3.479025, 3.84468, 4.301505, 4.75832, 5.19318, 5.6667, 6.288795, 6.69135, 7.301385, 7.6864, 8.4292, 8.92716, 9.678485, 10.438, 11.47401, 12.52685, 13.40338, 14.49468, 15.33511, 16.64445, 17.68425, 18.8784, 20.295275, 21.83337, 23.984795, 25.518, 27.65826, 29.99642, 32.41897, 34.81086, 38.6801, 42.22428, 46.786425, 51.67404, 58.28966, 66.12435]\n",
      "Time: 19.1319s\n"
     ]
    },
    {
     "name": "stderr",
     "output_type": "stream",
     "text": [
      "Processing:  30%|███       | 3/10 [00:31<01:17, 11.07s/it]"
     ]
    },
    {
     "name": "stdout",
     "output_type": "stream",
     "text": [
      "Greedy S: {96, 65, 34, 5, 10, 12, 52, 54, 90, 27}\n",
      "Greedy sigma(S): [0.0, 0.300105, 0.5914, 0.916965, 1.2201, 1.52478, 1.80422, 2.15955, 2.46468, 2.79133, 3.08064, 3.379285, 3.71, 4.02798, 4.33602, 4.848705, 5.46021, 6.2601, 6.9006, 7.78848, 8.53818, 9.413155, 10.431, 11.232235, 12.16068, 13.06116, 13.80992, 14.98315, 16.25316, 17.38382, 18.1764, 20.155245, 21.6601, 23.81553, 26.50716, 28.509055, 31.25279, 34.878375, 37.5763, 43.965075, 51.22572, 57.92122, 65.99, 77.580585, 88.56615, 108.083845, 126.51072, 142.29085, 171.47712, 206.420985, 249.62696, 291.998765, 342.33615]\n",
      "Time: 31.9363s\n"
     ]
    },
    {
     "ename": "",
     "evalue": "",
     "output_type": "error",
     "traceback": [
      "\u001b[1;31mThe Kernel crashed while executing code in the current cell or a previous cell. \n",
      "\u001b[1;31mPlease review the code in the cell(s) to identify a possible cause of the failure. \n",
      "\u001b[1;31mClick <a href='https://aka.ms/vscodeJupyterKernelCrash'>here</a> for more info. \n",
      "\u001b[1;31mView Jupyter <a href='command:jupyter.viewOutput'>log</a> for further details."
     ]
    }
   ],
   "source": [
    "t0 = time.perf_counter()\n",
    "\n",
    "er = nx.erdos_renyi_graph(100, 0.045, seed=42)\n",
    "\n",
    "G = er.copy()\n",
    "K = 10\n",
    "\n",
    "records4 = []\n",
    "print(f\"G: nodes: {G.number_of_nodes()} and edges: {G.number_of_edges()}\")  \n",
    "\n",
    "for p in tqdm(np.arange(0.1, 1.1, 0.1), desc=\"Processing\", total=int(1.0/0.1)):\n",
    "  def fresh_graph():\n",
    "    H = G.copy()\n",
    "    for u, v in H.edges():\n",
    "      H[u][v]['p'] = p\n",
    "    return H\n",
    "\n",
    "\n",
    "  S_mis, sigma_delta = greedy_epc_mis_numba(G=fresh_graph(), k=K, num_samples=100_000)\n",
    "  t1 = time.perf_counter()\n",
    "  t_greedy_mis = t1 - t0\n",
    "\n",
    "  print(f\"Greedy S: {S_mis}\")\n",
    "  print(f\"Greedy sigma(S): {sigma_delta}\")\n",
    "  print(f\"Time: {t_greedy_mis:.4f}s\")\n",
    "\n",
    "  records4.append({\n",
    "    'model': 'ER',\n",
    "    'p': p,\n",
    "    'algo': 'Greedy',\n",
    "    'time': t_greedy_mis,\n",
    "    'epc': sigma_delta[-1],\n",
    "  })"
   ]
  },
  {
   "cell_type": "code",
   "execution_count": null,
   "id": "400e9983",
   "metadata": {},
   "outputs": [],
   "source": []
  }
 ],
 "metadata": {
  "kernelspec": {
   "display_name": "SCNDP",
   "language": "python",
   "name": "python3"
  },
  "language_info": {
   "codemirror_mode": {
    "name": "ipython",
    "version": 3
   },
   "file_extension": ".py",
   "mimetype": "text/x-python",
   "name": "python",
   "nbconvert_exporter": "python",
   "pygments_lexer": "ipython3",
   "version": "3.10.18"
  }
 },
 "nbformat": 4,
 "nbformat_minor": 5
}
