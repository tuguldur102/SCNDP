{
 "cells": [
  {
   "cell_type": "code",
   "execution_count": 3,
   "id": "731f7e7f",
   "metadata": {},
   "outputs": [],
   "source": [
    "import networkx as nx\n",
    "import numpy as np\n",
    "import time\n",
    "import pandas as pd\n",
    "import matplotlib.pyplot as plt\n",
    "from scipy.optimize import linprog\n",
    "from tqdm import tqdm\n",
    "from itertools import combinations\n",
    "from collections import defaultdict, deque\n",
    "import math, random\n",
    "import heapq\n",
    "import scipy.sparse as sp\n",
    "from collections import deque\n",
    "from joblib import Parallel, delayed\n",
    "from numba import njit\n",
    "from typing import Tuple, Dict, List, Set, Sequence, Union\n",
    "import itertools"
   ]
  },
  {
   "cell_type": "code",
   "execution_count": 5,
   "id": "f2324c24",
   "metadata": {},
   "outputs": [],
   "source": [
    "import math\n",
    "import heapq\n",
    "from typing import Tuple, Dict, List, Set\n",
    "\n",
    "import networkx as nx\n",
    "import numpy as np\n",
    "from numba import njit, prange\n",
    "\n",
    "def nx_to_csr(G: nx.Graph) -> Tuple[List[int], Dict[int, int], np.ndarray, np.ndarray, np.ndarray]:\n",
    "     \"\"\"Convert an undirected NetworkX graph (edge attr `'p'`) to CSR arrays.\"\"\"\n",
    "     nodes: List[int] = list(G.nodes())\n",
    "     idx_of: Dict[int, int] = {u: i for i, u in enumerate(nodes)}\n",
    "\n",
    "     indptr: List[int] = [0]\n",
    "     indices: List[int] = []\n",
    "     probs: List[float] = []\n",
    "\n",
    "     for u in nodes:\n",
    "         for v in G.neighbors(u):\n",
    "             indices.append(idx_of[v])\n",
    "             probs.append(G.edges[u, v]['p'])\n",
    "         indptr.append(len(indices))\n",
    "\n",
    "     return (\n",
    "         nodes,\n",
    "         idx_of,\n",
    "         np.asarray(indptr, dtype=np.int32),\n",
    "         np.asarray(indices, dtype=np.int32),\n",
    "         np.asarray(probs, dtype=np.float32),\n",
    "     )\n",
    "\n",
    "@njit(inline=\"always\")\n",
    "def _bfs_component_size(start: int,\n",
    "                    indptr: np.ndarray,\n",
    "                    indices: np.ndarray,\n",
    "                    probs: np.ndarray,\n",
    "                    deleted: np.ndarray) -> int:\n",
    "    \"\"\"Return |C_u|−1 for **one** random realisation (stack BFS).\"\"\"\n",
    "    n = deleted.size\n",
    "    stack = np.empty(n, dtype=np.int32)\n",
    "    visited = np.zeros(n, dtype=np.uint8)\n",
    "\n",
    "    size = 1\n",
    "    top = 0\n",
    "    stack[top] = start\n",
    "    top += 1\n",
    "    visited[start] = 1\n",
    "\n",
    "    while top:\n",
    "        top -= 1\n",
    "        v = stack[top]\n",
    "        for eid in range(indptr[v], indptr[v + 1]):\n",
    "            w = indices[eid]\n",
    "            if deleted[w]:\n",
    "                continue\n",
    "            if np.random.random() >= probs[eid]:  # edge absent\n",
    "                continue\n",
    "            if visited[w]:\n",
    "                continue\n",
    "            visited[w] = 1\n",
    "            stack[top] = w\n",
    "            top += 1\n",
    "            size += 1\n",
    "    return size - 1\n",
    "\n",
    "@njit(parallel=True)\n",
    "def epc_mc(indptr: np.ndarray,\n",
    "            indices: np.ndarray,\n",
    "            probs: np.ndarray,\n",
    "            deleted: np.ndarray,\n",
    "            num_samples: int) -> float:\n",
    "    \"\"\"Monte‑Carlo estimator of **expected pairwise connectivity** (EPC).\"\"\"\n",
    "    surv = np.where(~deleted)[0]\n",
    "    m = surv.size\n",
    "    if m < 2:\n",
    "        return 0.0\n",
    "\n",
    "    acc = 0.0\n",
    "    for _ in prange(num_samples):\n",
    "        u = surv[np.random.randint(m)]\n",
    "        acc += _bfs_component_size(u, indptr, indices, probs, deleted)\n",
    "\n",
    "    return (m * acc) / (2.0 * num_samples)\n",
    "\n",
    "from typing import Tuple, Dict, List, Set, Sequence, Union\n",
    "\n",
    "def greedy_cndp_epc_celf(\n",
    "    G: nx.Graph,\n",
    "    K: int,\n",
    "    *,\n",
    "    num_samples: int = 20_000,\n",
    "    reuse_csr: Tuple = None,\n",
    "    return_trace: bool = False,\n",
    ") -> Union[Set[int], Tuple[Set[int], List[float]]]:\n",
    "    \"\"\"Select **K** nodes that minimise EPC using CELF & Numba.\n",
    "\n",
    "    Parameters\n",
    "    ----------\n",
    "    return_trace : bool, default *False*\n",
    "        If *True*, also return a list `[σ(S₁), σ(S₂), …]` where `S_i` is the\n",
    "        prefix after deleting *i* nodes.  Useful for plots.\n",
    "    \"\"\"\n",
    "\n",
    "    # CSR cache --------------------------------------------------------\n",
    "    if reuse_csr is None:\n",
    "        nodes, idx_of, indptr, indices, probs = nx_to_csr(G)\n",
    "    else:\n",
    "        nodes, idx_of, indptr, indices, probs = reuse_csr\n",
    "    n = len(nodes)\n",
    "\n",
    "    deleted = np.zeros(n, dtype=np.bool_)\n",
    "    current_sigma = epc_mc(indptr, indices, probs, deleted, num_samples)\n",
    "\n",
    "    pq: List[Tuple[float, int, int]] = []  # (-gain, v, last_round)\n",
    "    gains = np.empty(n, dtype=np.float32)\n",
    "\n",
    "    for v in range(n):\n",
    "        deleted[v] = True\n",
    "        gains[v] = current_sigma - epc_mc(indptr, indices, probs, deleted, num_samples)\n",
    "        deleted[v] = False\n",
    "        heapq.heappush(pq, (-gains[v], v, 0))\n",
    "\n",
    "    S: Set[int] = set()\n",
    "    trace: List[float] = []\n",
    "    round_ = 0\n",
    "\n",
    "    trace.append(current_sigma)\n",
    "\n",
    "    while len(S) < K and pq:\n",
    "        neg_gain, v, last = heapq.heappop(pq)\n",
    "        if last == round_:\n",
    "            # gain up‑to‑date → accept\n",
    "            S.add(nodes[v])\n",
    "            deleted[v] = True\n",
    "            current_sigma += neg_gain  # add neg (= subtract gain)\n",
    "            round_ += 1\n",
    "            if return_trace:\n",
    "                trace.append(current_sigma)\n",
    "        else:\n",
    "            # recompute gain lazily\n",
    "            deleted[v] = True\n",
    "            new_gain = current_sigma - epc_mc(indptr, indices, probs, deleted, num_samples)\n",
    "            deleted[v] = False\n",
    "            heapq.heappush(pq, (-new_gain, v, round_))\n",
    "\n",
    "    return (S, trace) if return_trace else S\n",
    "\n",
    "def optimise_epc(\n",
    "     G: nx.Graph,\n",
    "     K: int,\n",
    "     *,\n",
    "     num_samples: int = 20_000,\n",
    "     return_trace: bool = False,\n",
    " ) -> Union[Set[int], Tuple[Set[int], List[float]]]:\n",
    "     csr = nx_to_csr(G)\n",
    "     return greedy_cndp_epc_celf(G, K, num_samples=num_samples, reuse_csr=csr, return_trace=return_trace)"
   ]
  },
  {
   "cell_type": "code",
   "execution_count": 4,
   "id": "7f4a6dd2",
   "metadata": {},
   "outputs": [
    {
     "data": {
      "text/plain": [
       "(100, 202)"
      ]
     },
     "execution_count": 4,
     "metadata": {},
     "output_type": "execute_result"
    }
   ],
   "source": [
    "er = nx.erdos_renyi_graph(100, 0.045, seed=42)\n",
    "er.number_of_nodes(), er.number_of_edges() "
   ]
  },
  {
   "cell_type": "code",
   "execution_count": 11,
   "id": "a4c8d2b2",
   "metadata": {},
   "outputs": [
    {
     "name": "stdout",
     "output_type": "stream",
     "text": [
      "G: nodes: 100 and edges: 202\n"
     ]
    },
    {
     "name": "stderr",
     "output_type": "stream",
     "text": [
      "Processing:   0%|          | 0/10 [00:00<?, ?it/s]"
     ]
    },
    {
     "name": "stdout",
     "output_type": "stream",
     "text": [
      "P: 0.0 --- Greedy sigma(S): S: {0, 1, 2, 3, 4, 5, 6, 7, 8, 9}\n",
      "Time: 0.0803s\n",
      "Sigma Delta: [0.0, np.float32(0.0), np.float32(0.0), np.float32(0.0), np.float32(0.0), np.float32(0.0), np.float32(0.0), np.float32(0.0), np.float32(0.0), np.float32(0.0), np.float32(0.0)]\n"
     ]
    },
    {
     "name": "stderr",
     "output_type": "stream",
     "text": [
      "Processing:  20%|██        | 2/10 [00:00<00:01,  7.18it/s]"
     ]
    },
    {
     "name": "stdout",
     "output_type": "stream",
     "text": [
      "P: 0.1 --- Greedy sigma(S): S: {96, 65, 34, 39, 10, 12, 52, 24, 90, 27}\n",
      "Time: 0.2811s\n",
      "Sigma Delta: [33.3345, np.float32(30.61674), np.float32(28.12502), np.float32(26.7235), np.float32(25.0032), np.float32(23.342924), np.float32(21.82539), np.float32(20.588804), np.float32(19.55276), np.float32(17.94429), np.float32(16.9677)]\n"
     ]
    },
    {
     "name": "stderr",
     "output_type": "stream",
     "text": [
      "Processing:  30%|███       | 3/10 [00:00<00:01,  3.97it/s]"
     ]
    },
    {
     "name": "stdout",
     "output_type": "stream",
     "text": [
      "P: 0.2 --- Greedy sigma(S): S: {96, 65, 34, 64, 42, 12, 22, 24, 90, 27}\n",
      "Time: 0.6907s\n",
      "Sigma Delta: [148.078, np.float32(126.06314), np.float32(112.3766), np.float32(100.75293), np.float32(90.89232), np.float32(82.53695), np.float32(74.21018), np.float32(67.53427), np.float32(60.4095), np.float32(55.025425), np.float32(49.3155)]\n"
     ]
    },
    {
     "name": "stderr",
     "output_type": "stream",
     "text": [
      "Processing:  40%|████      | 4/10 [00:02<00:04,  1.39it/s]"
     ]
    },
    {
     "name": "stdout",
     "output_type": "stream",
     "text": [
      "P: 0.30000000000000004 --- Greedy sigma(S): S: {96, 65, 34, 5, 10, 12, 54, 24, 90, 27}\n",
      "Time: 2.1888s\n",
      "Sigma Delta: [716.556, np.float32(575.1039), np.float32(481.44116), np.float32(401.1862), np.float32(338.1115), np.float32(286.77414), np.float32(243.17094), np.float32(203.29893), np.float32(171.75526), np.float32(144.89474), np.float32(122.0985)]\n"
     ]
    },
    {
     "name": "stderr",
     "output_type": "stream",
     "text": [
      "Processing:  50%|█████     | 5/10 [00:05<00:08,  1.66s/it]"
     ]
    },
    {
     "name": "stdout",
     "output_type": "stream",
     "text": [
      "P: 0.4 --- Greedy sigma(S): S: {96, 65, 34, 5, 10, 12, 54, 24, 90, 27}\n",
      "Time: 5.6269s\n",
      "Sigma Delta: [2130.0025, np.float32(1854.754), np.float32(1618.7253), np.float32(1386.8613), np.float32(1166.2699), np.float32(984.77094), np.float32(801.40497), np.float32(661.83636), np.float32(531.33954), np.float32(422.87836), np.float32(333.7911)]\n"
     ]
    },
    {
     "name": "stderr",
     "output_type": "stream",
     "text": [
      "Processing:  60%|██████    | 6/10 [00:10<00:10,  2.61s/it]"
     ]
    },
    {
     "name": "stdout",
     "output_type": "stream",
     "text": [
      "P: 0.5 --- Greedy sigma(S): S: {96, 65, 34, 64, 10, 12, 54, 24, 90, 27}\n",
      "Time: 10.1567s\n",
      "Sigma Delta: [3296.7115, np.float32(3036.2507), np.float32(2749.8257), np.float32(2527.5625), np.float32(2281.4458), np.float32(2026.9794), np.float32(1831.653), np.float32(1576.004), np.float32(1363.3062), np.float32(1081.5063), np.float32(904.93066)]\n"
     ]
    },
    {
     "name": "stderr",
     "output_type": "stream",
     "text": [
      "Processing:  70%|███████   | 7/10 [00:15<00:10,  3.55s/it]"
     ]
    },
    {
     "name": "stdout",
     "output_type": "stream",
     "text": [
      "P: 0.6000000000000001 --- Greedy sigma(S): S: {0, 65, 34, 96, 64, 43, 54, 24, 90, 27}\n",
      "Time: 15.6872s\n",
      "Sigma Delta: [3944.8435, np.float32(3711.8247), np.float32(3445.8), np.float32(3261.51), np.float32(3083.3318), np.float32(2854.8103), np.float32(2673.0784), np.float32(2512.754), np.float32(2360.1704), np.float32(2198.9126), np.float32(1980.6075)]\n"
     ]
    },
    {
     "name": "stderr",
     "output_type": "stream",
     "text": [
      "Processing:  80%|████████  | 8/10 [00:21<00:08,  4.22s/it]"
     ]
    },
    {
     "name": "stdout",
     "output_type": "stream",
     "text": [
      "P: 0.7000000000000001 --- Greedy sigma(S): S: {0, 65, 64, 34, 59, 43, 50, 24, 27, 94}\n",
      "Time: 21.3600s\n",
      "Sigma Delta: [4314.5055, np.float32(4117.814), np.float32(3880.8074), np.float32(3702.7295), np.float32(3542.6836), np.float32(3384.0972), np.float32(3234.0615), np.float32(3091.0776), np.float32(2950.5422), np.float32(2740.1929), np.float32(2599.259)]\n"
     ]
    },
    {
     "name": "stderr",
     "output_type": "stream",
     "text": [
      "Processing:  90%|█████████ | 9/10 [00:27<00:04,  4.72s/it]"
     ]
    },
    {
     "name": "stdout",
     "output_type": "stream",
     "text": [
      "P: 0.8 --- Greedy sigma(S): S: {0, 64, 65, 6, 27, 47, 79, 50, 59, 94}\n",
      "Time: 27.2009s\n",
      "Sigma Delta: [4534.506, np.float32(4343.319), np.float32(4171.3774), np.float32(4007.1145), np.float32(3839.5532), np.float32(3689.6028), np.float32(3543.2427), np.float32(3390.8962), np.float32(3244.5935), np.float32(3122.9749), np.float32(2978.034)]\n"
     ]
    },
    {
     "name": "stderr",
     "output_type": "stream",
     "text": [
      "Processing: 100%|██████████| 10/10 [00:33<00:00,  5.30s/it]"
     ]
    },
    {
     "name": "stdout",
     "output_type": "stream",
     "text": [
      "P: 0.9 --- Greedy sigma(S): S: {0, 64, 6, 27, 43, 47, 50, 59, 93, 94}\n",
      "Time: 33.8096s\n",
      "Sigma Delta: [4670.8375, np.float32(4475.404), np.float32(4297.022), np.float32(4123.017), np.float32(3948.9802), np.float32(3783.9165), np.float32(3617.0894), np.float32(3455.4995), np.float32(3300.1467), np.float32(3199.5413), np.float32(3094.9712)]\n"
     ]
    },
    {
     "name": "stderr",
     "output_type": "stream",
     "text": [
      "Processing: 11it [00:42,  3.86s/it]                        "
     ]
    },
    {
     "name": "stdout",
     "output_type": "stream",
     "text": [
      "P: 1.0 --- Greedy sigma(S): S: {0, 64, 96, 6, 71, 43, 47, 50, 59, 94}\n",
      "Time: 42.4360s\n",
      "Sigma Delta: [4754.6005, np.float32(4556.6284), np.float32(4370.482), np.float32(4186.3813), np.float32(3998.0366), np.float32(3821.0334), np.float32(3653.5874), np.float32(3487.56), np.float32(3322.7722), np.float32(3232.866), np.float32(3151.3652)]\n"
     ]
    },
    {
     "name": "stderr",
     "output_type": "stream",
     "text": [
      "\n"
     ]
    }
   ],
   "source": [
    "t0 = time.perf_counter()\n",
    "\n",
    "G = er.copy()\n",
    "K = 10\n",
    "p = 0.9\n",
    "\n",
    "records = []\n",
    "print(f\"G: nodes: {G.number_of_nodes()} and edges: {G.number_of_edges()}\")  \n",
    "\n",
    "for p in tqdm(np.arange(0.0, 1.1, 0.1), desc=\"Processing\", total=int(1.0/0.1)):\n",
    "  def fresh_graph():\n",
    "    H = G.copy()\n",
    "    for u, v in H.edges():\n",
    "      H[u][v]['p'] = p\n",
    "    return H\n",
    "\n",
    "\n",
    "  Sg, sigma_delta = optimise_epc(\n",
    "    G=fresh_graph(), \n",
    "    K=K, \n",
    "    num_samples=100_000, \n",
    "    return_trace=True)\n",
    "  t1 = time.perf_counter()\n",
    "  t_greedy = t1 - t0\n",
    "\n",
    "  print(f\"P: {p} --- Greedy sigma(S): S: {Sg}\")\n",
    "  print(f\"Time: {t_greedy:.4f}s\")\n",
    "  print(f\"Sigma Delta: {sigma_delta}\")\n",
    "\n",
    "  records.append({\n",
    "    'model': 'ER',\n",
    "    'p': p,\n",
    "    'algo': 'Greedy_optimise',\n",
    "    'time': t_greedy,\n",
    "    'epc': sigma_delta[-1],\n",
    "  })"
   ]
  },
  {
   "cell_type": "code",
   "execution_count": 13,
   "id": "a5e9d2ed",
   "metadata": {},
   "outputs": [
    {
     "data": {
      "text/html": [
       "<div>\n",
       "<style scoped>\n",
       "    .dataframe tbody tr th:only-of-type {\n",
       "        vertical-align: middle;\n",
       "    }\n",
       "\n",
       "    .dataframe tbody tr th {\n",
       "        vertical-align: top;\n",
       "    }\n",
       "\n",
       "    .dataframe thead th {\n",
       "        text-align: right;\n",
       "    }\n",
       "</style>\n",
       "<table border=\"1\" class=\"dataframe\">\n",
       "  <thead>\n",
       "    <tr style=\"text-align: right;\">\n",
       "      <th></th>\n",
       "      <th>model</th>\n",
       "      <th>p</th>\n",
       "      <th>algo</th>\n",
       "      <th>time</th>\n",
       "      <th>epc</th>\n",
       "    </tr>\n",
       "  </thead>\n",
       "  <tbody>\n",
       "    <tr>\n",
       "      <th>0</th>\n",
       "      <td>ER</td>\n",
       "      <td>0.0</td>\n",
       "      <td>Greedy_optimise</td>\n",
       "      <td>0.080262</td>\n",
       "      <td>0.000000</td>\n",
       "    </tr>\n",
       "    <tr>\n",
       "      <th>1</th>\n",
       "      <td>ER</td>\n",
       "      <td>0.1</td>\n",
       "      <td>Greedy_optimise</td>\n",
       "      <td>0.281129</td>\n",
       "      <td>16.967699</td>\n",
       "    </tr>\n",
       "    <tr>\n",
       "      <th>2</th>\n",
       "      <td>ER</td>\n",
       "      <td>0.2</td>\n",
       "      <td>Greedy_optimise</td>\n",
       "      <td>0.690685</td>\n",
       "      <td>49.315498</td>\n",
       "    </tr>\n",
       "    <tr>\n",
       "      <th>3</th>\n",
       "      <td>ER</td>\n",
       "      <td>0.3</td>\n",
       "      <td>Greedy_optimise</td>\n",
       "      <td>2.188834</td>\n",
       "      <td>122.098503</td>\n",
       "    </tr>\n",
       "    <tr>\n",
       "      <th>4</th>\n",
       "      <td>ER</td>\n",
       "      <td>0.4</td>\n",
       "      <td>Greedy_optimise</td>\n",
       "      <td>5.626892</td>\n",
       "      <td>333.791107</td>\n",
       "    </tr>\n",
       "    <tr>\n",
       "      <th>5</th>\n",
       "      <td>ER</td>\n",
       "      <td>0.5</td>\n",
       "      <td>Greedy_optimise</td>\n",
       "      <td>10.156736</td>\n",
       "      <td>904.930664</td>\n",
       "    </tr>\n",
       "    <tr>\n",
       "      <th>6</th>\n",
       "      <td>ER</td>\n",
       "      <td>0.6</td>\n",
       "      <td>Greedy_optimise</td>\n",
       "      <td>15.687237</td>\n",
       "      <td>1980.607544</td>\n",
       "    </tr>\n",
       "    <tr>\n",
       "      <th>7</th>\n",
       "      <td>ER</td>\n",
       "      <td>0.7</td>\n",
       "      <td>Greedy_optimise</td>\n",
       "      <td>21.359973</td>\n",
       "      <td>2599.259033</td>\n",
       "    </tr>\n",
       "    <tr>\n",
       "      <th>8</th>\n",
       "      <td>ER</td>\n",
       "      <td>0.8</td>\n",
       "      <td>Greedy_optimise</td>\n",
       "      <td>27.200900</td>\n",
       "      <td>2978.033936</td>\n",
       "    </tr>\n",
       "    <tr>\n",
       "      <th>9</th>\n",
       "      <td>ER</td>\n",
       "      <td>0.9</td>\n",
       "      <td>Greedy_optimise</td>\n",
       "      <td>33.809625</td>\n",
       "      <td>3094.971191</td>\n",
       "    </tr>\n",
       "    <tr>\n",
       "      <th>10</th>\n",
       "      <td>ER</td>\n",
       "      <td>1.0</td>\n",
       "      <td>Greedy_optimise</td>\n",
       "      <td>42.435987</td>\n",
       "      <td>3151.365234</td>\n",
       "    </tr>\n",
       "  </tbody>\n",
       "</table>\n",
       "</div>"
      ],
      "text/plain": [
       "   model    p             algo       time          epc\n",
       "0     ER  0.0  Greedy_optimise   0.080262     0.000000\n",
       "1     ER  0.1  Greedy_optimise   0.281129    16.967699\n",
       "2     ER  0.2  Greedy_optimise   0.690685    49.315498\n",
       "3     ER  0.3  Greedy_optimise   2.188834   122.098503\n",
       "4     ER  0.4  Greedy_optimise   5.626892   333.791107\n",
       "5     ER  0.5  Greedy_optimise  10.156736   904.930664\n",
       "6     ER  0.6  Greedy_optimise  15.687237  1980.607544\n",
       "7     ER  0.7  Greedy_optimise  21.359973  2599.259033\n",
       "8     ER  0.8  Greedy_optimise  27.200900  2978.033936\n",
       "9     ER  0.9  Greedy_optimise  33.809625  3094.971191\n",
       "10    ER  1.0  Greedy_optimise  42.435987  3151.365234"
      ]
     },
     "execution_count": 13,
     "metadata": {},
     "output_type": "execute_result"
    }
   ],
   "source": [
    "df = pd.DataFrame(records)\n",
    "df"
   ]
  },
  {
   "cell_type": "code",
   "execution_count": 14,
   "id": "69cc488e",
   "metadata": {},
   "outputs": [
    {
     "data": {
      "image/png": "[encoded data removed]",
      "text/plain": [
       "<Figure size 640x480 with 1 Axes>"
      ]
     },
     "metadata": {},
     "output_type": "display_data"
    },
    {
     "data": {
      "image/png": "[encoded data removed]",
      "text/plain": [
       "<Figure size 640x480 with 1 Axes>"
      ]
     },
     "metadata": {},
     "output_type": "display_data"
    }
   ],
   "source": [
    "plt.figure()\n",
    "for algo in df.algo.unique():\n",
    "    sub = df[(df.model == 'ER') & (df.algo == algo)]\n",
    "    plt.plot(sub.p, sub.epc, label=algo)\n",
    "plt.title(f\"{'ER'} — EPC vs p\")\n",
    "plt.xlabel(\"p\"); plt.ylabel(\"EPC\"); plt.grid(True); plt.legend()\n",
    "plt.savefig(f\"{'ER'}_epc_vs_p.png\")\n",
    "\n",
    "plt.figure()\n",
    "for algo in df.algo.unique():\n",
    "    sub = df[(df.model == 'ER') & (df.algo == algo)]\n",
    "    plt.plot(sub.p, sub.time, label=algo)\n",
    "plt.title(f\"{'ER'} — Time vs p\")\n",
    "plt.xlabel(\"p\"); plt.ylabel(\"Time (s)\"); plt.grid(True); plt.legend()\n",
    "plt.savefig(f\"{'ER'}_time_vs_p.png\")\n",
    "plt.show()"
   ]
  },
  {
   "cell_type": "code",
   "execution_count": 8,
   "id": "99820507",
   "metadata": {},
   "outputs": [],
   "source": [
    "# @njit\n",
    "# def _uf_find(parent, i):\n",
    "#     while parent[i] != i:\n",
    "#         parent[i] = parent[parent[i]]\n",
    "#         i = parent[i]\n",
    "#     return i\n",
    "\n",
    "# @njit\n",
    "# def _uf_union(parent, size, a, b):\n",
    "#     ra, rb = _uf_find(parent, a), _uf_find(parent, b)\n",
    "#     if ra == rb:\n",
    "#         return\n",
    "#     # union by size (small → big)\n",
    "#     if size[ra] < size[rb]:\n",
    "#         ra, rb = rb, ra\n",
    "#     parent[rb] = ra\n",
    "#     size[ra] += size[rb]\n",
    "\n",
    "\n",
    "# @njit(parallel=True)\n",
    "# def _epc_mc_numba(n, u, v, p, removed_mask, n_samples):\n",
    "#     \"\"\"\n",
    "#     Parallel Monte-Carlo EPC estimate.\n",
    "#     removed_mask : boolean array length n (True ⇒ node deleted)\n",
    "#     \"\"\"\n",
    "#     m = u.shape[0]\n",
    "#     epc_sum = 0.0\n",
    "\n",
    "#     for s in prange(n_samples):\n",
    "#         parent = np.arange(n, dtype=np.int32)\n",
    "#         size   = np.ones(n,  dtype=np.int32)\n",
    "\n",
    "#         for e in range(m):\n",
    "#             if np.random.rand() < p[e]:\n",
    "#                 a, b = u[e], v[e]\n",
    "#                 if removed_mask[a] or removed_mask[b]:\n",
    "#                     continue\n",
    "#                 _uf_union(parent, size, a, b)\n",
    "\n",
    "#         seen = np.zeros(n, np.uint8)\n",
    "#         for i in range(n):\n",
    "#             if removed_mask[i]:\n",
    "#                 continue\n",
    "#             r = _uf_find(parent, i)\n",
    "#             if seen[r]:\n",
    "#                 continue\n",
    "#             seen[r] = 1\n",
    "#             k = size[r]\n",
    "#             epc_sum += k * (k - 1) / 2.0\n",
    "\n",
    "#     return epc_sum / n_samples\n",
    "\n",
    "# def nx_to_arrays(G):\n",
    "#     \"\"\"\n",
    "#     Convert an undirected NetworkX graph with edge attribute 'p'\n",
    "#     into flat NumPy arrays (u, v, p) for numba kernels.\n",
    "#     \"\"\"\n",
    "#     n = G.number_of_nodes()\n",
    "#     m = G.number_of_edges()\n",
    "#     u = np.empty(m, dtype=np.int32)\n",
    "#     v = np.empty(m, dtype=np.int32)\n",
    "#     p = np.empty(m, dtype=np.float32)\n",
    "#     for idx, (a, b, d) in enumerate(G.edges(data=True)):\n",
    "#         u[idx] = a\n",
    "#         v[idx] = b\n",
    "#         p[idx] = d['p']\n",
    "#     return n, u, v, p\n",
    "\n",
    "# def component_sampling_epc_mc(G_prob, removed_set, n_samples=1000):\n",
    "#     \"\"\"\n",
    "#     Fast drop-in EPC estimator (Algorithm 2 in the paper) using numba.\n",
    "#     \"\"\"\n",
    "#     n, u, v, p = nx_to_arrays(G_prob)\n",
    "#     removed_mask = np.zeros(n, dtype=np.bool_)\n",
    "#     for node in removed_set:\n",
    "#         removed_mask[node] = True\n",
    "#     return _epc_mc_numba(n, u, v, p, removed_mask, n_samples)"
   ]
  },
  {
   "cell_type": "code",
   "execution_count": 9,
   "id": "6dc2d13e",
   "metadata": {},
   "outputs": [],
   "source": [
    "def remove_k_betweenness(G: nx.Graph, k: int) -> nx.Graph:\n",
    "  bc = nx.betweenness_centrality(G)\n",
    "  topk = sorted(bc, key=bc.get, reverse=True)[:k]\n",
    "  H = G.copy()\n",
    "  H.remove_nodes_from(topk)\n",
    "  return H\n",
    "\n",
    "def remove_k_pagerank_edges(G: nx.Graph, k: int) -> nx.Graph:\n",
    "  L = nx.line_graph(G)\n",
    "  pr = nx.pagerank(L)\n",
    "  topk = sorted(pr, key=pr.get, reverse=True)[:k]\n",
    "  H = G.copy()\n",
    "  H.remove_edges_from(topk)\n",
    "  return H"
   ]
  },
  {
   "cell_type": "code",
   "execution_count": 15,
   "id": "fe0e3981",
   "metadata": {},
   "outputs": [],
   "source": [
    "from typing import Any\n",
    "\n",
    "def remove_k_pagerank_nodes(\n",
    "    G: nx.Graph,\n",
    "    k: int,\n",
    "    *,\n",
    "    pagerank_kwargs: Dict[str, Any] | None = None,\n",
    ") -> nx.Graph:\n",
    "    \"\"\"\n",
    "    Return a copy of *G* after deleting the k nodes with the\n",
    "    highest PageRank scores.\n",
    "\n",
    "    Parameters\n",
    "    ----------\n",
    "    G : nx.Graph\n",
    "        Input graph (directed or undirected).\n",
    "    k : int\n",
    "        Number of nodes to delete.\n",
    "    pagerank_kwargs : dict, optional\n",
    "        Extra keyword arguments forwarded to ``nx.pagerank``;\n",
    "        e.g. ``alpha=0.85``, ``weight=\"weight\"``, ``max_iter=100`` …\n",
    "        Leave empty to accept NetworkX defaults.\n",
    "\n",
    "    Notes\n",
    "    -----\n",
    "    * On an **undirected** graph, PageRank reduces to a\n",
    "      normalized eigenvector centrality, so the ranking you get is\n",
    "      equivalent to “importance” in many other centrality measures.\n",
    "    * If your graph already stores an edge‐probability attribute\n",
    "      (e.g. ``'p'`` from your EPC experiments), you usually **don’t**\n",
    "      want to feed that into PageRank as a weight—leave ``weight=None``.\n",
    "      Otherwise high-probability *missing* edges distort the walk.\n",
    "    \"\"\"\n",
    "    pagerank_kwargs = {} if pagerank_kwargs is None else dict(pagerank_kwargs)\n",
    "\n",
    "    # 1. Compute PR on the node set\n",
    "    pr = nx.pagerank(G, **pagerank_kwargs)\n",
    "\n",
    "    # 2. Pick the k nodes with largest score\n",
    "    topk = sorted(pr, key=pr.get, reverse=True)[:k]\n",
    "\n",
    "    # 3. Remove and return a fresh graph\n",
    "    H = G.copy()\n",
    "    H.remove_nodes_from(topk)\n",
    "    return H"
   ]
  },
  {
   "cell_type": "code",
   "execution_count": 10,
   "id": "c634b808",
   "metadata": {},
   "outputs": [],
   "source": [
    "def component_sampling_epc_mc(G, S, num_samples=10_000,\n",
    "                              epsilon=None, delta=None, use_tqdm=False):\n",
    "  \"\"\"\n",
    "  Theoretic bounds: compute N = N(epsilon, delta) by the theoretical bound.\n",
    "  Experimentation:  Otherwise, use the N as input for sample count.\n",
    "  \"\"\"\n",
    "\n",
    "  # Surviving vertex set and its size\n",
    "  V_remaining = set(G.nodes()) - S\n",
    "  n_rem = len(V_remaining)\n",
    "\n",
    "  # base case\n",
    "  if n_rem < 2:\n",
    "    return 0.0\n",
    "\n",
    "  if num_samples is None:\n",
    "    assert epsilon is not None and delta is not None\n",
    "    P_E = sum(G.edges[u, v]['p'] for u, v in G.edges())\n",
    "    coeff = 4 * (math.e - 2) * math.log(2 / delta)\n",
    "    num_samples = math.ceil(coeff * n_rem * (n_rem - 1) /\n",
    "                            (epsilon ** 2 * P_E))\n",
    "\n",
    "  C2 = 0\n",
    "  it = tqdm(range(num_samples), desc='Component sampling',\n",
    "            total=num_samples) if use_tqdm else range(num_samples)\n",
    "\n",
    "  for _ in it:\n",
    "    u = random.choice(tuple(V_remaining))\n",
    "\n",
    "    # BFS based on edge probabilities\n",
    "\n",
    "    visited = {u}\n",
    "    queue = [u]\n",
    "\n",
    "    while queue:\n",
    "\n",
    "      v = queue.pop()\n",
    "      for w in G.neighbors(v):\n",
    "\n",
    "        # flip a coin biased by the edge probability\n",
    "        # w not in deleted nodes\n",
    "        if w in V_remaining and random.random() < G.edges[v, w]['p']:\n",
    "\n",
    "          # if w is not visited\n",
    "          if w not in visited:\n",
    "              visited.add(w)\n",
    "              queue.append(w)\n",
    "\n",
    "    # component counting\n",
    "    C2 += (len(visited) - 1)\n",
    "\n",
    "  return (n_rem * C2) / (2 * num_samples)"
   ]
  },
  {
   "cell_type": "code",
   "execution_count": null,
   "id": "a47f7c40",
   "metadata": {},
   "outputs": [
    {
     "name": "stdout",
     "output_type": "stream",
     "text": [
      "G: nodes: 100 and edges: 202\n"
     ]
    },
    {
     "name": "stderr",
     "output_type": "stream",
     "text": [
      "Processing: 11it [00:57,  5.27s/it]                        \n"
     ]
    }
   ],
   "source": [
    "K = 10\n",
    "\n",
    "G = er.copy()\n",
    "\n",
    "print(f\"G: nodes: {G.number_of_nodes()} and edges: {G.number_of_edges()}\")  \n",
    "\n",
    "records1 = []\n",
    "\n",
    "for p in tqdm(np.arange(0.0, 1.1, 0.1), desc=\"Processing\", total=int(1.1/0.1)):\n",
    "  def fresh_graph():\n",
    "    H = G.copy()\n",
    "    for u, v in H.edges():\n",
    "      H[u][v]['p'] = p\n",
    "    return H\n",
    "\n",
    "  t0 = time.perf_counter()\n",
    "  G_bc  = remove_k_betweenness(fresh_graph(), K)\n",
    "  t_bc  = time.perf_counter() - t0\n",
    "\n",
    "  epc_bc = component_sampling_epc_mc(G_bc, set(), 100_000)\n",
    "\n",
    "  # PageRank\n",
    "  t0 = time.perf_counter()\n",
    "  G_pr  = remove_k_pagerank_nodes(fresh_graph(), K)\n",
    "  t_pr  = time.perf_counter() - t0\n",
    "  epc_pr = component_sampling_epc_mc(G_pr, set(), 100_000)\n",
    "\n",
    "  records1.append({\n",
    "    'model': 'ER',\n",
    "    'p': p,\n",
    "    'algo': 'Betweenness',\n",
    "    'time': t_bc,\n",
    "    'epc': epc_bc,\n",
    "  })\n",
    "\n",
    "  records1.append({\n",
    "    'model': 'ER',\n",
    "    'p': p,\n",
    "    'algo': 'PageRank',\n",
    "    'time': t_pr,\n",
    "    'epc': epc_pr,\n",
    "  })"
   ]
  },
  {
   "cell_type": "code",
   "execution_count": 17,
   "id": "f6e57acb",
   "metadata": {},
   "outputs": [
    {
     "data": {
      "text/html": [
       "<div>\n",
       "<style scoped>\n",
       "    .dataframe tbody tr th:only-of-type {\n",
       "        vertical-align: middle;\n",
       "    }\n",
       "\n",
       "    .dataframe tbody tr th {\n",
       "        vertical-align: top;\n",
       "    }\n",
       "\n",
       "    .dataframe thead th {\n",
       "        text-align: right;\n",
       "    }\n",
       "</style>\n",
       "<table border=\"1\" class=\"dataframe\">\n",
       "  <thead>\n",
       "    <tr style=\"text-align: right;\">\n",
       "      <th></th>\n",
       "      <th>model</th>\n",
       "      <th>p</th>\n",
       "      <th>algo</th>\n",
       "      <th>time</th>\n",
       "      <th>epc</th>\n",
       "    </tr>\n",
       "  </thead>\n",
       "  <tbody>\n",
       "    <tr>\n",
       "      <th>0</th>\n",
       "      <td>ER</td>\n",
       "      <td>0.0</td>\n",
       "      <td>Betweenness</td>\n",
       "      <td>0.009783</td>\n",
       "      <td>0.00000</td>\n",
       "    </tr>\n",
       "    <tr>\n",
       "      <th>1</th>\n",
       "      <td>ER</td>\n",
       "      <td>0.0</td>\n",
       "      <td>PageRank</td>\n",
       "      <td>0.001651</td>\n",
       "      <td>0.00000</td>\n",
       "    </tr>\n",
       "    <tr>\n",
       "      <th>2</th>\n",
       "      <td>ER</td>\n",
       "      <td>0.1</td>\n",
       "      <td>Betweenness</td>\n",
       "      <td>0.008933</td>\n",
       "      <td>17.25660</td>\n",
       "    </tr>\n",
       "    <tr>\n",
       "      <th>3</th>\n",
       "      <td>ER</td>\n",
       "      <td>0.1</td>\n",
       "      <td>PageRank</td>\n",
       "      <td>0.001766</td>\n",
       "      <td>16.94970</td>\n",
       "    </tr>\n",
       "    <tr>\n",
       "      <th>4</th>\n",
       "      <td>ER</td>\n",
       "      <td>0.2</td>\n",
       "      <td>Betweenness</td>\n",
       "      <td>0.009299</td>\n",
       "      <td>52.73370</td>\n",
       "    </tr>\n",
       "    <tr>\n",
       "      <th>5</th>\n",
       "      <td>ER</td>\n",
       "      <td>0.2</td>\n",
       "      <td>PageRank</td>\n",
       "      <td>0.002078</td>\n",
       "      <td>50.87925</td>\n",
       "    </tr>\n",
       "    <tr>\n",
       "      <th>6</th>\n",
       "      <td>ER</td>\n",
       "      <td>0.3</td>\n",
       "      <td>Betweenness</td>\n",
       "      <td>0.009217</td>\n",
       "      <td>145.37205</td>\n",
       "    </tr>\n",
       "    <tr>\n",
       "      <th>7</th>\n",
       "      <td>ER</td>\n",
       "      <td>0.3</td>\n",
       "      <td>PageRank</td>\n",
       "      <td>0.001641</td>\n",
       "      <td>134.95950</td>\n",
       "    </tr>\n",
       "    <tr>\n",
       "      <th>8</th>\n",
       "      <td>ER</td>\n",
       "      <td>0.4</td>\n",
       "      <td>Betweenness</td>\n",
       "      <td>0.009183</td>\n",
       "      <td>408.72060</td>\n",
       "    </tr>\n",
       "    <tr>\n",
       "      <th>9</th>\n",
       "      <td>ER</td>\n",
       "      <td>0.4</td>\n",
       "      <td>PageRank</td>\n",
       "      <td>0.001647</td>\n",
       "      <td>383.70825</td>\n",
       "    </tr>\n",
       "    <tr>\n",
       "      <th>10</th>\n",
       "      <td>ER</td>\n",
       "      <td>0.5</td>\n",
       "      <td>Betweenness</td>\n",
       "      <td>0.009183</td>\n",
       "      <td>1013.69295</td>\n",
       "    </tr>\n",
       "    <tr>\n",
       "      <th>11</th>\n",
       "      <td>ER</td>\n",
       "      <td>0.5</td>\n",
       "      <td>PageRank</td>\n",
       "      <td>0.001695</td>\n",
       "      <td>1000.32570</td>\n",
       "    </tr>\n",
       "    <tr>\n",
       "      <th>12</th>\n",
       "      <td>ER</td>\n",
       "      <td>0.6</td>\n",
       "      <td>Betweenness</td>\n",
       "      <td>0.009044</td>\n",
       "      <td>1848.24630</td>\n",
       "    </tr>\n",
       "    <tr>\n",
       "      <th>13</th>\n",
       "      <td>ER</td>\n",
       "      <td>0.6</td>\n",
       "      <td>PageRank</td>\n",
       "      <td>0.001850</td>\n",
       "      <td>1848.11850</td>\n",
       "    </tr>\n",
       "    <tr>\n",
       "      <th>14</th>\n",
       "      <td>ER</td>\n",
       "      <td>0.7</td>\n",
       "      <td>Betweenness</td>\n",
       "      <td>0.009733</td>\n",
       "      <td>2545.45425</td>\n",
       "    </tr>\n",
       "    <tr>\n",
       "      <th>15</th>\n",
       "      <td>ER</td>\n",
       "      <td>0.7</td>\n",
       "      <td>PageRank</td>\n",
       "      <td>0.001760</td>\n",
       "      <td>2517.64875</td>\n",
       "    </tr>\n",
       "    <tr>\n",
       "      <th>16</th>\n",
       "      <td>ER</td>\n",
       "      <td>0.8</td>\n",
       "      <td>Betweenness</td>\n",
       "      <td>0.010155</td>\n",
       "      <td>3033.74115</td>\n",
       "    </tr>\n",
       "    <tr>\n",
       "      <th>17</th>\n",
       "      <td>ER</td>\n",
       "      <td>0.8</td>\n",
       "      <td>PageRank</td>\n",
       "      <td>0.001733</td>\n",
       "      <td>2948.47245</td>\n",
       "    </tr>\n",
       "    <tr>\n",
       "      <th>18</th>\n",
       "      <td>ER</td>\n",
       "      <td>0.9</td>\n",
       "      <td>Betweenness</td>\n",
       "      <td>0.008783</td>\n",
       "      <td>3358.76850</td>\n",
       "    </tr>\n",
       "    <tr>\n",
       "      <th>19</th>\n",
       "      <td>ER</td>\n",
       "      <td>0.9</td>\n",
       "      <td>PageRank</td>\n",
       "      <td>0.001644</td>\n",
       "      <td>3220.12530</td>\n",
       "    </tr>\n",
       "    <tr>\n",
       "      <th>20</th>\n",
       "      <td>ER</td>\n",
       "      <td>1.0</td>\n",
       "      <td>Betweenness</td>\n",
       "      <td>0.008928</td>\n",
       "      <td>3570.83730</td>\n",
       "    </tr>\n",
       "    <tr>\n",
       "      <th>21</th>\n",
       "      <td>ER</td>\n",
       "      <td>1.0</td>\n",
       "      <td>PageRank</td>\n",
       "      <td>0.001663</td>\n",
       "      <td>3403.78380</td>\n",
       "    </tr>\n",
       "  </tbody>\n",
       "</table>\n",
       "</div>"
      ],
      "text/plain": [
       "   model    p         algo      time         epc\n",
       "0     ER  0.0  Betweenness  0.009783     0.00000\n",
       "1     ER  0.0     PageRank  0.001651     0.00000\n",
       "2     ER  0.1  Betweenness  0.008933    17.25660\n",
       "3     ER  0.1     PageRank  0.001766    16.94970\n",
       "4     ER  0.2  Betweenness  0.009299    52.73370\n",
       "5     ER  0.2     PageRank  0.002078    50.87925\n",
       "6     ER  0.3  Betweenness  0.009217   145.37205\n",
       "7     ER  0.3     PageRank  0.001641   134.95950\n",
       "8     ER  0.4  Betweenness  0.009183   408.72060\n",
       "9     ER  0.4     PageRank  0.001647   383.70825\n",
       "10    ER  0.5  Betweenness  0.009183  1013.69295\n",
       "11    ER  0.5     PageRank  0.001695  1000.32570\n",
       "12    ER  0.6  Betweenness  0.009044  1848.24630\n",
       "13    ER  0.6     PageRank  0.001850  1848.11850\n",
       "14    ER  0.7  Betweenness  0.009733  2545.45425\n",
       "15    ER  0.7     PageRank  0.001760  2517.64875\n",
       "16    ER  0.8  Betweenness  0.010155  3033.74115\n",
       "17    ER  0.8     PageRank  0.001733  2948.47245\n",
       "18    ER  0.9  Betweenness  0.008783  3358.76850\n",
       "19    ER  0.9     PageRank  0.001644  3220.12530\n",
       "20    ER  1.0  Betweenness  0.008928  3570.83730\n",
       "21    ER  1.0     PageRank  0.001663  3403.78380"
      ]
     },
     "execution_count": 17,
     "metadata": {},
     "output_type": "execute_result"
    }
   ],
   "source": [
    "df1 = pd.DataFrame(records1)\n",
    "df1"
   ]
  },
  {
   "cell_type": "code",
   "execution_count": 18,
   "id": "5f8a79e4",
   "metadata": {},
   "outputs": [
    {
     "data": {
      "image/png": "[encoded data removed]",
      "text/plain": [
       "<Figure size 640x480 with 1 Axes>"
      ]
     },
     "metadata": {},
     "output_type": "display_data"
    },
    {
     "data": {
      "image/png": "[encoded data removed]",
      "text/plain": [
       "<Figure size 640x480 with 1 Axes>"
      ]
     },
     "metadata": {},
     "output_type": "display_data"
    }
   ],
   "source": [
    "plt.figure()\n",
    "for algo in df1.algo.unique():\n",
    "    sub = df1[(df1.model == 'ER') & (df1.algo == algo)]\n",
    "    plt.plot(sub.p, sub.epc, label=algo)\n",
    "plt.title(f\"{'ER'} — EPC vs p\")\n",
    "plt.xlabel(\"p\"); plt.ylabel(\"EPC\"); plt.grid(True); plt.legend()\n",
    "plt.savefig(f\"{'ER'}_epc_vs_p.png\")\n",
    "\n",
    "plt.figure()\n",
    "for algo in df1.algo.unique():\n",
    "    sub = df1[(df1.model == 'ER') & (df1.algo == algo)]\n",
    "    plt.plot(sub.p, sub.time, label=algo)\n",
    "plt.title(f\"{'ER'} — Time vs p\")\n",
    "plt.xlabel(\"p\"); plt.ylabel(\"Time (s)\"); plt.grid(True); plt.legend()\n",
    "plt.savefig(f\"{'ER'}_time_vs_p.png\")\n",
    "plt.show()"
   ]
  },
  {
   "cell_type": "code",
   "execution_count": 19,
   "id": "8d47d48a",
   "metadata": {},
   "outputs": [],
   "source": [
    "def solve_lp_relaxation(G: nx.Graph, D: set, k: int) -> dict:\n",
    "  nodes = list(G.nodes())\n",
    "  n = len(nodes)\n",
    "  edges = list(G.edges())\n",
    "  m = len(edges)\n",
    "\n",
    "  idx_s = {nodes[i]: i for i in range(n)}\n",
    "  idx_z = {edges[j]: n + j for j in range(m)}\n",
    "\n",
    "  bounds = [(0,1)] * (n + m)\n",
    "  for u in D:\n",
    "      bounds[idx_s[u]] = (1,1)\n",
    "\n",
    "  A_eq = np.zeros((1, n + m))\n",
    "  for u in nodes:\n",
    "      A_eq[0, idx_s[u]] = 1\n",
    "  b_eq = [k]\n",
    "\n",
    "  A_ub, b_ub = [], []\n",
    "  for (u, v) in edges:\n",
    "      iu, iv = idx_s[u], idx_s[v]\n",
    "      iz = idx_z[(u, v)]\n",
    "      row = np.zeros(n + m); row[iu] = 1; row[iz] = 1\n",
    "      A_ub.append(row); b_ub.append(1)\n",
    "      row = np.zeros(n + m); row[iv] = 1; row[iz] = 1\n",
    "      A_ub.append(row); b_ub.append(1)\n",
    "      row = np.zeros(n + m); row[iz] = -1; row[iu] = -1; row[iv] = -1\n",
    "      A_ub.append(row); b_ub.append(-1)\n",
    "  A_ub = np.array(A_ub); b_ub = np.array(b_ub)\n",
    "\n",
    "  c = np.zeros(n + m)\n",
    "  for j, (u, v) in enumerate(edges):\n",
    "      c[n + j] = G.edges[u, v]['p']\n",
    "\n",
    "  res = linprog(c, A_ub=A_ub, b_ub=b_ub, A_eq=A_eq, b_eq=b_eq,\n",
    "                bounds=bounds, method='highs')\n",
    "  if not res.success:\n",
    "      raise RuntimeError(\"LP infeasible: \" + res.message)\n",
    "  return {nodes[i]: float(res.x[idx_s[nodes[i]]]) for i in range(n)}\n",
    "\n",
    "def REGA_with_LP(G: nx.Graph, k: int, R: int, alpha: float) -> set:\n",
    "  best_S, best_obj = None, float('inf')\n",
    "  nodes = set(G.nodes())\n",
    "\n",
    "  for _ in range(R):\n",
    "      D = set()\n",
    "      for _ in range(k):\n",
    "          s_vals = solve_lp_relaxation(G, D, k)\n",
    "          rem = list(nodes - D)\n",
    "          sorted_nodes = sorted(rem, key=lambda u: s_vals[u], reverse=True)\n",
    "          m = max(1, int(alpha * len(sorted_nodes)))\n",
    "          D.add(random.choice(sorted_nodes[:m]))\n",
    "      current_obj = component_sampling_epc_mc(G, D, 1000)\n",
    "      improved = True\n",
    "      while improved:\n",
    "          improved = False\n",
    "          for u in list(D):\n",
    "              for v in nodes - D:\n",
    "                  newS = (D - {u}) | {v}\n",
    "                  val = component_sampling_epc_mc(G, newS, 1000)\n",
    "                  if val < current_obj:\n",
    "                      D, current_obj, improved = newS, val, True\n",
    "                      break\n",
    "              if improved:\n",
    "                  break\n",
    "      if current_obj < best_obj:\n",
    "          best_S, best_obj = D.copy(), current_obj\n",
    "  return best_S"
   ]
  },
  {
   "cell_type": "code",
   "execution_count": 20,
   "id": "7deaf31f",
   "metadata": {},
   "outputs": [
    {
     "name": "stdout",
     "output_type": "stream",
     "text": [
      "G: nodes: 100 and edges: 202\n"
     ]
    },
    {
     "name": "stderr",
     "output_type": "stream",
     "text": [
      "Processing:  10%|█         | 1/10 [00:07<01:04,  7.14s/it]"
     ]
    },
    {
     "name": "stdout",
     "output_type": "stream",
     "text": [
      "REGA sigma(S): S: 0.0\n",
      "Time: 6.9916s\n"
     ]
    },
    {
     "name": "stderr",
     "output_type": "stream",
     "text": [
      "Processing:  20%|██        | 2/10 [00:35<02:36, 19.56s/it]"
     ]
    },
    {
     "name": "stdout",
     "output_type": "stream",
     "text": [
      "REGA sigma(S): S: 20.06775\n",
      "Time: 35.2071s\n"
     ]
    },
    {
     "name": "stderr",
     "output_type": "stream",
     "text": [
      "Processing:  30%|███       | 3/10 [01:17<03:27, 29.68s/it]"
     ]
    },
    {
     "name": "stdout",
     "output_type": "stream",
     "text": [
      "REGA sigma(S): S: 54.2295\n",
      "Time: 76.8545s\n"
     ]
    },
    {
     "name": "stderr",
     "output_type": "stream",
     "text": [
      "Processing:  40%|████      | 4/10 [04:13<08:45, 87.59s/it]"
     ]
    },
    {
     "name": "stdout",
     "output_type": "stream",
     "text": [
      "REGA sigma(S): S: 121.7142\n",
      "Time: 253.0782s\n"
     ]
    },
    {
     "name": "stderr",
     "output_type": "stream",
     "text": [
      "Processing:  50%|█████     | 5/10 [11:41<18:08, 217.72s/it]"
     ]
    },
    {
     "name": "stdout",
     "output_type": "stream",
     "text": [
      "REGA sigma(S): S: 333.6237\n",
      "Time: 701.1214s\n"
     ]
    },
    {
     "name": "stderr",
     "output_type": "stream",
     "text": [
      "Processing:  60%|██████    | 6/10 [30:23<34:59, 524.88s/it]"
     ]
    },
    {
     "name": "stdout",
     "output_type": "stream",
     "text": [
      "REGA sigma(S): S: 874.20465\n",
      "Time: 1821.2564s\n"
     ]
    },
    {
     "name": "stderr",
     "output_type": "stream",
     "text": [
      "Processing:  70%|███████   | 7/10 [1:01:02<47:44, 954.76s/it]"
     ]
    },
    {
     "name": "stdout",
     "output_type": "stream",
     "text": [
      "REGA sigma(S): S: 1718.2548\n",
      "Time: 3659.5269s\n"
     ]
    },
    {
     "name": "stderr",
     "output_type": "stream",
     "text": [
      "Processing:  80%|████████  | 8/10 [1:32:16<41:34, 1247.44s/it]"
     ]
    },
    {
     "name": "stdout",
     "output_type": "stream",
     "text": [
      "REGA sigma(S): S: 2354.1903\n",
      "Time: 5532.3183s\n"
     ]
    },
    {
     "name": "stderr",
     "output_type": "stream",
     "text": [
      "Processing:  90%|█████████ | 9/10 [1:59:35<22:49, 1369.69s/it]"
     ]
    },
    {
     "name": "stdout",
     "output_type": "stream",
     "text": [
      "REGA sigma(S): S: 2506.4757\n",
      "Time: 7170.5342s\n"
     ]
    },
    {
     "name": "stderr",
     "output_type": "stream",
     "text": [
      "Processing: 100%|██████████| 10/10 [2:25:03<00:00, 1418.72s/it]"
     ]
    },
    {
     "name": "stdout",
     "output_type": "stream",
     "text": [
      "REGA sigma(S): S: 2800.96605\n",
      "Time: 8698.4643s\n"
     ]
    },
    {
     "name": "stderr",
     "output_type": "stream",
     "text": [
      "Processing: 11it [2:56:59, 965.38s/it]                         "
     ]
    },
    {
     "name": "stdout",
     "output_type": "stream",
     "text": [
      "REGA sigma(S): S: 2855.66265\n",
      "Time: 10613.5038s\n"
     ]
    },
    {
     "name": "stderr",
     "output_type": "stream",
     "text": [
      "\n"
     ]
    }
   ],
   "source": [
    "\n",
    "\n",
    "er = nx.erdos_renyi_graph(100, 0.045, seed=42)\n",
    "\n",
    "G = er.copy()\n",
    "K = 10\n",
    "\n",
    "records2 = []\n",
    "print(f\"G: nodes: {G.number_of_nodes()} and edges: {G.number_of_edges()}\")  \n",
    "\n",
    "for p in tqdm(np.arange(0.0, 1.1, 0.1), desc=\"Processing\", total=int(1.0/0.1)):\n",
    "  def fresh_graph():\n",
    "    H = G.copy()\n",
    "    for u, v in H.edges():\n",
    "      H[u][v]['p'] = p\n",
    "    return H\n",
    "\n",
    "  t0 = time.perf_counter()\n",
    "  S_rega = REGA_with_LP(G=fresh_graph(), k=K, R=5, alpha=0.3)\n",
    "  t1 = time.perf_counter()\n",
    "  t_rega = t1 - t0\n",
    "  epc_rega = component_sampling_epc_mc(fresh_graph(), S_rega, 100_000)\n",
    "\n",
    "  print(f\"REGA sigma(S): S: {epc_rega}\")\n",
    "  print(f\"Time: {t_rega:.4f}s\")\n",
    "\n",
    "  records2.append({\n",
    "    'model': 'ER',\n",
    "    'p': p,\n",
    "    'algo': 'Greedy',\n",
    "    'time': t_rega,\n",
    "    'epc': epc_rega,\n",
    "  })"
   ]
  },
  {
   "cell_type": "code",
   "execution_count": 22,
   "id": "c499031c",
   "metadata": {},
   "outputs": [],
   "source": [
    "df2 = pd.DataFrame(records2)\n",
    "df2.to_csv(f\"Rega_100_200_ER.csv\", index=False)"
   ]
  },
  {
   "cell_type": "code",
   "execution_count": 23,
   "id": "c8733bf1",
   "metadata": {},
   "outputs": [
    {
     "data": {
      "image/png": "[encoded data removed]",
      "text/plain": [
       "<Figure size 640x480 with 1 Axes>"
      ]
     },
     "metadata": {},
     "output_type": "display_data"
    },
    {
     "data": {
      "image/png": "[encoded data removed]",
      "text/plain": [
       "<Figure size 640x480 with 1 Axes>"
      ]
     },
     "metadata": {},
     "output_type": "display_data"
    }
   ],
   "source": [
    "plt.figure()\n",
    "for algo in df2.algo.unique():\n",
    "    sub = df2[(df2.model == 'ER') & (df2.algo == algo)]\n",
    "    plt.plot(sub.p, sub.epc, label=algo)\n",
    "plt.title(f\"{'ER'} — EPC vs p\")\n",
    "plt.xlabel(\"p\"); plt.ylabel(\"EPC\"); plt.grid(True); plt.legend()\n",
    "plt.savefig(f\"{'ER'}_epc_vs_p.png\")\n",
    "\n",
    "plt.figure()\n",
    "for algo in df2.algo.unique():\n",
    "    sub = df2[(df2.model == 'ER') & (df2.algo == algo)]\n",
    "    plt.plot(sub.p, sub.time, label=algo)\n",
    "plt.title(f\"{'ER'} — Time vs p\")\n",
    "plt.xlabel(\"p\"); plt.ylabel(\"Time (s)\"); plt.grid(True); plt.legend()\n",
    "plt.savefig(f\"{'ER'}_time_vs_p.png\")\n",
    "plt.show()"
   ]
  },
  {
   "cell_type": "markdown",
   "id": "44e24ace",
   "metadata": {},
   "source": [
    "### REGA - Sparse Variant"
   ]
  },
  {
   "cell_type": "code",
   "execution_count": 24,
   "id": "d30d35f9",
   "metadata": {},
   "outputs": [],
   "source": [
    "import numpy as np\n",
    "import scipy.sparse as sp\n",
    "from scipy.optimize import linprog\n",
    "\n",
    "def solve_lp_relaxation_sparse(G, D, k):\n",
    "    nodes = list(G.nodes())\n",
    "    n = len(nodes)\n",
    "\n",
    "    edges = list(G.edges())\n",
    "    m = len(edges)\n",
    "\n",
    "    idx_s = {nodes[i]: i for i in range(n)}\n",
    "    idx_z = {edges[j]: n + j for j in range(m)}\n",
    "\n",
    "    # ------------------------ bounds ------------------------\n",
    "    bounds = [(0, 1)] * (n + m)\n",
    "    for u in D:                       # force deleted nodes\n",
    "        bounds[idx_s[u]] = (1, 1)\n",
    "\n",
    "    # ------------------------ equality Σ s_u = k --------\n",
    "    data_eq, rows_eq, cols_eq = [], [], []\n",
    "    for u in nodes:\n",
    "        data_eq.append(1.0)\n",
    "        rows_eq.append(0)\n",
    "        cols_eq.append(idx_s[u])\n",
    "    A_eq = sp.csr_matrix((data_eq, (rows_eq, cols_eq)),\n",
    "                         shape=(1, n + m))\n",
    "    b_eq = np.array([k], dtype=float)\n",
    "\n",
    "    # ------------------------ inequalities -----------------\n",
    "    data, rows, cols = [], [], []\n",
    "    b_ub = []\n",
    "\n",
    "    row_id = 0\n",
    "    for (u, v) in edges:\n",
    "        iu, iv = idx_s[u], idx_s[v]\n",
    "        iz = idx_z[(u, v)]\n",
    "\n",
    "        # s_u + z_uv ≤ 1\n",
    "        data.extend([1, 1])\n",
    "        rows.extend([row_id, row_id])\n",
    "        cols.extend([iu, iz])\n",
    "        b_ub.append(1); row_id += 1\n",
    "\n",
    "        # s_v + z_uv ≤ 1\n",
    "        data.extend([1, 1])\n",
    "        rows.extend([row_id, row_id])\n",
    "        cols.extend([iv, iz])\n",
    "        b_ub.append(1); row_id += 1\n",
    "\n",
    "        # –s_u – s_v – z_uv ≤ –1    (i.e. 1 ≤ s_u + s_v + z_uv)\n",
    "        data.extend([-1, -1, -1])\n",
    "        rows.extend([row_id]*3)\n",
    "        cols.extend([iu, iv, iz])\n",
    "        b_ub.append(-1); row_id += 1\n",
    "\n",
    "    A_ub = sp.csr_matrix((data, (rows, cols)),\n",
    "                         shape=(row_id, n + m))\n",
    "    b_ub = np.asarray(b_ub, dtype=float)\n",
    "\n",
    "    # ------------------------ objective --------------------\n",
    "    c = np.zeros(n + m)\n",
    "    for j, (u, v) in enumerate(edges):\n",
    "        c[n + j] = G.edges[u, v]['p']      # minimise expected connectivity\n",
    "\n",
    "    res = linprog(c, A_ub=A_ub, b_ub=b_ub,\n",
    "                  A_eq=A_eq, b_eq=b_eq,\n",
    "                  bounds=bounds,\n",
    "                  method='highs')          # HiGHS auto-detects CSR\n",
    "    if not res.success:\n",
    "        raise RuntimeError(f\"LP infeasible: {res.message}\")\n",
    "\n",
    "    return {u: float(res.x[idx_s[u]]) for u in nodes}\n",
    "\n",
    "def REGA_with_LP(G: nx.Graph, k: int, R: int, alpha: float) -> set:\n",
    "  best_S, best_obj = None, float('inf')\n",
    "  nodes = set(G.nodes())\n",
    "\n",
    "  for _ in range(R):\n",
    "      D = set()\n",
    "      for _ in range(k):\n",
    "          s_vals = solve_lp_relaxation_sparse(G, D, k)\n",
    "          rem = list(nodes - D)\n",
    "          sorted_nodes = sorted(rem, key=lambda u: s_vals[u], reverse=True)\n",
    "          m = max(1, int(alpha * len(sorted_nodes)))\n",
    "          D.add(random.choice(sorted_nodes[:m]))\n",
    "      current_obj = component_sampling_epc_mc(G, D, 1000)\n",
    "      improved = True\n",
    "      while improved:\n",
    "          improved = False\n",
    "          for u in list(D):\n",
    "              for v in nodes - D:\n",
    "                  newS = (D - {u}) | {v}\n",
    "                  val = component_sampling_epc_mc(G, newS, 1000)\n",
    "                  if val < current_obj:\n",
    "                      D, current_obj, improved = newS, val, True\n",
    "                      break\n",
    "              if improved:\n",
    "                  break\n",
    "      if current_obj < best_obj:\n",
    "          best_S, best_obj = D.copy(), current_obj\n",
    "  return best_S"
   ]
  },
  {
   "cell_type": "code",
   "execution_count": 27,
   "id": "fb306baf",
   "metadata": {},
   "outputs": [],
   "source": [
    "from pulp import (\n",
    "    LpProblem, LpVariable, lpSum,\n",
    "    LpBinary, LpMinimize, PULP_CBC_CMD, LpStatus\n",
    ")\n",
    "\n",
    "def sample_scenarios(G_prob, T=30, rng=None):\n",
    "    rng = rng or random.Random()\n",
    "    scenarios = []\n",
    "    for _ in range(T):\n",
    "        H = nx.Graph()\n",
    "        H.add_nodes_from(G_prob.nodes)\n",
    "        for u, v, d in G_prob.edges(data=True):\n",
    "            if rng.random() < d['p']:\n",
    "                H.add_edge(u, v)\n",
    "        scenarios.append(H)\n",
    "    return scenarios\n",
    "\n",
    "def solve_saa_mip_cbc(scenarios, k, msg=False):\n",
    "    \"\"\"\n",
    "    Solve the SAA master problem with CBC and return initial set S₀ (|S₀|=k).\n",
    "    \"\"\"\n",
    "    n = len(scenarios[0])\n",
    "    T = len(scenarios)\n",
    "    prob = LpProblem(\"k-pCND-SAA-CBC\", LpMinimize)\n",
    "\n",
    "    s = [LpVariable(f\"s_{i}\", cat=LpBinary) for i in range(n)]\n",
    "\n",
    "    x = {}\n",
    "    for l, H in enumerate(scenarios):\n",
    "        for i, j in itertools.combinations(range(n), 2):\n",
    "            x[(l, i, j)] = LpVariable(f\"x_{l}_{i}_{j}\", cat=LpBinary)\n",
    "        for i in range(n):\n",
    "            x[(l, i, i)] = 1\n",
    "\n",
    "    prob += lpSum(s) == k\n",
    "\n",
    "    for l, H in enumerate(scenarios):\n",
    "        for i, j in itertools.combinations(range(n), 2):\n",
    "            prob += x[(l, i, j)] <= 1 - s[i]\n",
    "            prob += x[(l, i, j)] <= 1 - s[j]\n",
    "\n",
    "        for i, j in itertools.combinations(range(n), 2):\n",
    "            if not nx.has_path(H, i, j):\n",
    "                prob += x[(l, i, j)] == 0\n",
    "\n",
    "        for i, h, j in itertools.permutations(range(n), 3):\n",
    "            ij = tuple(sorted((i, j)))\n",
    "            ih = tuple(sorted((i, h)))\n",
    "            hj = tuple(sorted((h, j)))\n",
    "            prob += x[(l, ij[0], ij[1])] <= x[(l, ih[0], ih[1])]\n",
    "            prob += x[(l, ij[0], ij[1])] <= x[(l, hj[0], hj[1])]\n",
    "\n",
    "    prob += (1 / T) * lpSum(x.values())\n",
    "\n",
    "    status = prob.solve(PULP_CBC_CMD(msg=msg))\n",
    "    if LpStatus[status] != \"Optimal\":\n",
    "        print(\"⚠ CBC ended with status:\", LpStatus[status])\n",
    "\n",
    "    S0 = {i for i in range(n) if s[i].value() > 0.5}\n",
    "    return S0\n",
    "\n",
    "def local_search(G_prob, S0, num_samples=10_000, max_iter=1000, seed=None):\n",
    "    rng = random.Random(seed)\n",
    "    S = set(S0)\n",
    "    best_val = component_sampling_epc_mc(G_prob, S, num_samples)\n",
    "    for _ in tqdm(range(max_iter), desc=\"Local_search\", total=max_iter):\n",
    "        improved = False\n",
    "        for u in list(S):\n",
    "            # random permutation of outside nodes\n",
    "            outside = rng.sample(list(set(G_prob.nodes) - S), len(G_prob) - len(S))\n",
    "            for v in outside:\n",
    "                candidate = (S - {u}) | {v}      # keeps size = k\n",
    "                val = component_sampling_epc_mc(G_prob, candidate, num_samples)\n",
    "                if val < best_val:\n",
    "                    S, best_val = candidate, val\n",
    "                    improved = True\n",
    "                    break\n",
    "            if improved:\n",
    "                break\n",
    "        if not improved:\n",
    "            break\n",
    "    return S, best_val\n",
    "\n",
    "def final_evaluation(G_prob, S, num_samples=100_000):\n",
    "    return component_sampling_epc_mc(G_prob, S, num_samples)\n",
    "\n",
    "def saa_algorithm(G_prob, k, T=30, ls_samples=10_000, seed=None):\n",
    "    \"\"\"\n",
    "    Full 4-phase SAA algorithm (CBC core + numba EPC).\n",
    "    Returns\n",
    "    -------\n",
    "    S_best      : set[int]       # final deletion set (size = k)\n",
    "    epc_est     : float          # EPC estimate after local search (ls_samples draws)\n",
    "    epc_final   : float          # high-accuracy EPC (100 000 draws)\n",
    "    \"\"\"\n",
    "    scenarios = sample_scenarios(G_prob, T, rng=random.Random(seed))\n",
    "\n",
    "    S0 = solve_saa_mip_cbc(scenarios, k, msg=False)\n",
    "    S_best, epc_est = local_search(G_prob, S0, ls_samples, seed=seed)\n",
    "\n",
    "    epc_final = final_evaluation(G_prob, S_best)\n",
    "\n",
    "    return S_best, epc_est, epc_final"
   ]
  },
  {
   "cell_type": "code",
   "execution_count": null,
   "id": "b06e92da",
   "metadata": {},
   "outputs": [
    {
     "name": "stdout",
     "output_type": "stream",
     "text": [
      "G: nodes: 100 and edges: 202\n"
     ]
    },
    {
     "name": "stderr",
     "output_type": "stream",
     "text": [
      "Processing:   0%|          | 0/11 [00:00<?, ?it/s]"
     ]
    },
    {
     "ename": "",
     "evalue": "",
     "output_type": "error",
     "traceback": [
      "\u001b[1;31mThe Kernel crashed while executing code in the current cell or a previous cell. \n",
      "\u001b[1;31mPlease review the code in the cell(s) to identify a possible cause of the failure. \n",
      "\u001b[1;31mClick <a href='https://aka.ms/vscodeJupyterKernelCrash'>here</a> for more info. \n",
      "\u001b[1;31mView Jupyter <a href='command:jupyter.viewOutput'>log</a> for further details."
     ]
    }
   ],
   "source": [
    "M = 0.0443\n",
    "\n",
    "er = nx.erdos_renyi_graph(100, 0.045, seed=42)\n",
    "\n",
    "G = er.copy()\n",
    "K = 10\n",
    "\n",
    "records5 = []\n",
    "print(f\"G: nodes: {G.number_of_nodes()} and edges: {G.number_of_edges()}\")  \n",
    "\n",
    "for p in tqdm(np.arange(0.0, 1.1, 0.1), desc=\"Processing\", total=int(1.1/0.1)):\n",
    "  def fresh_graph():\n",
    "    H = G.copy()\n",
    "    for u, v in H.edges():\n",
    "      H[u][v]['p'] = p\n",
    "    return H\n",
    "\n",
    "  t0 = time.perf_counter()\n",
    "  S_best, epc_est, epc_final = saa_algorithm(fresh_graph(), k=K, T=30, ls_samples=1000)\n",
    "  t1 = time.perf_counter()\n",
    "  t_saa = t1 - t0\n",
    "  \n",
    "  print(f\"SAA S: S_best {S_best}\")\n",
    "  print(f\"SAA sigma(S): {epc_final}\")\n",
    "  print(f\"Time: {t_saa:.4f}s\")\n",
    "\n",
    "  records5.append({\n",
    "    'model': 'ER',\n",
    "    'p': p,\n",
    "    'algo': 'SAA',\n",
    "    'time': t_saa,\n",
    "    'epc': epc_final,\n",
    "  })"
   ]
  },
  {
   "cell_type": "code",
   "execution_count": null,
   "id": "83161472",
   "metadata": {},
   "outputs": [],
   "source": [
    "df5 = pd.DataFrame(records5)\n",
    "df5.to_csv(\"SAA_100_202_ER.csv\", index=False)"
   ]
  },
  {
   "cell_type": "markdown",
   "id": "5c16943f",
   "metadata": {},
   "source": []
  }
 ],
 "metadata": {
  "kernelspec": {
   "display_name": "SCNDP",
   "language": "python",
   "name": "python3"
  },
  "language_info": {
   "codemirror_mode": {
    "name": "ipython",
    "version": 3
   },
   "file_extension": ".py",
   "mimetype": "text/x-python",
   "name": "python",
   "nbconvert_exporter": "python",
   "pygments_lexer": "ipython3",
   "version": "3.10.18"
  }
 },
 "nbformat": 4,
 "nbformat_minor": 5
}
